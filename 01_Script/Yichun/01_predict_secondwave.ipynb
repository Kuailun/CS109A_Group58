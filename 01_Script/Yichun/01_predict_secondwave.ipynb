{
 "cells": [
  {
   "cell_type": "code",
   "execution_count": 12,
   "metadata": {},
   "outputs": [],
   "source": [
    "import numpy as np\n",
    "import operator\n",
    "import pandas as pd\n",
    "import matplotlib\n",
    "import matplotlib.pyplot as plt\n",
    "import matplotlib.dates as mdates\n",
    "import seaborn as sns\n",
    "from tqdm import tqdm\n",
    "\n",
    "from sklearn.metrics import r2_score\n",
    "from sklearn.metrics import mean_squared_error\n",
    "from sklearn.linear_model import LinearRegression\n",
    "from sklearn.model_selection import cross_validate\n",
    "from sklearn.model_selection import train_test_split\n",
    "from sklearn import metrics\n",
    "from sklearn.decomposition import PCA"
   ]
  },
  {
   "cell_type": "markdown",
   "metadata": {},
   "source": [
    "# Data input"
   ]
  },
  {
   "cell_type": "code",
   "execution_count": 38,
   "metadata": {},
   "outputs": [],
   "source": [
    "df_policy = pd.read_excel(r\"../../02_Data/03_Policy/COVID_StatePolicy_final.xlsx\")\n",
    "df_case = pd.read_csv(r\"../../02_Data/01_COVID/covid_us_county.csv\")\n",
    "df_case.dropna(inplace=True)"
   ]
  },
  {
   "cell_type": "markdown",
   "metadata": {},
   "source": [
    "Import socio-demographic data (codes from Yuchen)"
   ]
  },
  {
   "cell_type": "code",
   "execution_count": 39,
   "metadata": {},
   "outputs": [],
   "source": [
    "df_sd=pd.read_csv(r\"../../02_Data/02_SociaDemographics/us_final.csv\",index_col=0)\n",
    "df_sd = df_sd.reset_index()\n",
    "\n",
    "df_sd.loc[549,'ChildPoverty'] = df_sd[df_sd[\"state\"]==\"Hawaii\"][\"ChildPoverty\"].median()\n",
    "df_missing_crime = df_sd[df_sd[\"crime_rate_per_100000\"].isnull()]\n",
    "df_missing_crime_num = df_missing_crime.groupby(\"state\")[\"state\"].count()\n",
    "\n",
    "crime_columns = [\"crime_rate_per_100000\",\"IDNO\",\"Crime_CPOPARST\",\"Crime_CPOPCRIM\",\"Crime_AG_OFF\",\"Crime_COVIND\",\"Crime_MODINDX\",\"Crime_MURDER\",\"Crime_RAPE\",\"Crime_ROBBERY\",\"Crime_AGASSLT\",\"Crime_BURGLRY\",\"Crime_LARCENY\",\"Crime_MVTHEFT\",\"Crime_ARSON\"]\n",
    "state_list = [\"Alaska\",\"New Mexico\",\"South Dakota\"]\n",
    "for state in state_list:\n",
    "    index_list = df_missing_crime[df_missing_crime['state']==state][\"index\"].tolist()\n",
    "    for crime in crime_columns:\n",
    "        for index in index_list:\n",
    "            df_sd.loc[index-1,crime] = df_sd[df_sd['state']==state][crime].median()"
   ]
  },
  {
   "cell_type": "markdown",
   "metadata": {},
   "source": [
    "Calculate case growth rate (codes from Yuchen)"
   ]
  },
  {
   "cell_type": "code",
   "execution_count": 40,
   "metadata": {},
   "outputs": [
    {
     "name": "stderr",
     "output_type": "stream",
     "text": [
      "100%|█████████████████████████████████████████████████████████████████████████████| 3241/3241 [00:24<00:00, 134.90it/s]\n"
     ]
    }
   ],
   "source": [
    "mData1 = []\n",
    "df_case['fips'] = df_case.fips.astype(int)\n",
    "df_sir = df_case.copy()\n",
    "fips = list(set(df_sir['fips']))\n",
    "for fip in tqdm(fips):\n",
    "    df = df_sir[(df_sir['fips']==fip)]\n",
    "    \n",
    "    df = df[df['cases']>=5]\n",
    "    df = df.reset_index(drop=True)\n",
    "    df = df.reset_index()\n",
    "\n",
    "    df = df.to_dict(\"records\")\n",
    "    # 7 day Moving average\n",
    "    for i in range(len(df)-6):\n",
    "        mdf = df[i:i+7]\n",
    "        mdf_case = [m['cases'] for m in mdf]\n",
    "        mdf_death = [m['deaths'] for m in mdf]\n",
    "        df[i+3]['cases_7'] = np.sum(mdf_case)/7\n",
    "        df[i+3]['deaths_7'] = np.sum(mdf_death)/7\n",
    "        df[i+3]['day_index'] = df[i+3]['index']\n",
    "        mData1.append(df[i+3])\n",
    "    \n",
    "# The log value\n",
    "for i in range(len(mData1)-1):\n",
    "    mData1[i+1]['delta_case'] = np.log(mData1[i+1]['cases_7']) - np.log(mData1[i]['cases_7'])\n",
    "    pass\n",
    "del mData1[0]"
   ]
  },
  {
   "cell_type": "code",
   "execution_count": 50,
   "metadata": {},
   "outputs": [],
   "source": [
    "df_case_delta = pd.DataFrame(mData1)\n",
    "df_case_delta = df_case_delta[(df_case_delta['cases_7']>=10)&(df_case_delta['date']>=\"2020-03-01\")&(df_case_delta['delta_case']>0)]\n",
    "df_case_delta.dropna(inplace=True)"
   ]
  },
  {
   "cell_type": "code",
   "execution_count": 51,
   "metadata": {},
   "outputs": [],
   "source": [
    "df_case_delta = pd.merge(df_case_delta,df_policy,on=['state_code','state'],how='left')"
   ]
  },
  {
   "cell_type": "code",
   "execution_count": 52,
   "metadata": {},
   "outputs": [
    {
     "data": {
      "text/html": [
       "<div>\n",
       "<style scoped>\n",
       "    .dataframe tbody tr th:only-of-type {\n",
       "        vertical-align: middle;\n",
       "    }\n",
       "\n",
       "    .dataframe tbody tr th {\n",
       "        vertical-align: top;\n",
       "    }\n",
       "\n",
       "    .dataframe thead th {\n",
       "        text-align: right;\n",
       "    }\n",
       "</style>\n",
       "<table border=\"1\" class=\"dataframe\">\n",
       "  <thead>\n",
       "    <tr style=\"text-align: right;\">\n",
       "      <th></th>\n",
       "      <th>index</th>\n",
       "      <th>fips</th>\n",
       "      <th>county</th>\n",
       "      <th>state</th>\n",
       "      <th>lat</th>\n",
       "      <th>long</th>\n",
       "      <th>date</th>\n",
       "      <th>cases</th>\n",
       "      <th>state_code</th>\n",
       "      <th>deaths</th>\n",
       "      <th>...</th>\n",
       "      <th>close_restaurant</th>\n",
       "      <th>close_gym</th>\n",
       "      <th>close_theater</th>\n",
       "      <th>close_bar</th>\n",
       "      <th>reopen_business</th>\n",
       "      <th>reopen_restaurant</th>\n",
       "      <th>reopen_gym</th>\n",
       "      <th>reopen_theater</th>\n",
       "      <th>reopen_bar</th>\n",
       "      <th>facemask</th>\n",
       "    </tr>\n",
       "  </thead>\n",
       "  <tbody>\n",
       "    <tr>\n",
       "      <th>0</th>\n",
       "      <td>7</td>\n",
       "      <td>41001</td>\n",
       "      <td>Baker</td>\n",
       "      <td>Oregon</td>\n",
       "      <td>44.709156</td>\n",
       "      <td>-117.674988</td>\n",
       "      <td>2020-07-11</td>\n",
       "      <td>11</td>\n",
       "      <td>OR</td>\n",
       "      <td>0</td>\n",
       "      <td>...</td>\n",
       "      <td>2020-03-18</td>\n",
       "      <td>2020-03-24</td>\n",
       "      <td>2020-03-24</td>\n",
       "      <td>2020-03-17</td>\n",
       "      <td>2020-05-15</td>\n",
       "      <td>2020-06-19</td>\n",
       "      <td>2020-06-19</td>\n",
       "      <td>NaT</td>\n",
       "      <td>2020-06-19</td>\n",
       "      <td>2020-07-01</td>\n",
       "    </tr>\n",
       "    <tr>\n",
       "      <th>1</th>\n",
       "      <td>8</td>\n",
       "      <td>41001</td>\n",
       "      <td>Baker</td>\n",
       "      <td>Oregon</td>\n",
       "      <td>44.709156</td>\n",
       "      <td>-117.674988</td>\n",
       "      <td>2020-07-12</td>\n",
       "      <td>12</td>\n",
       "      <td>OR</td>\n",
       "      <td>0</td>\n",
       "      <td>...</td>\n",
       "      <td>2020-03-18</td>\n",
       "      <td>2020-03-24</td>\n",
       "      <td>2020-03-24</td>\n",
       "      <td>2020-03-17</td>\n",
       "      <td>2020-05-15</td>\n",
       "      <td>2020-06-19</td>\n",
       "      <td>2020-06-19</td>\n",
       "      <td>NaT</td>\n",
       "      <td>2020-06-19</td>\n",
       "      <td>2020-07-01</td>\n",
       "    </tr>\n",
       "    <tr>\n",
       "      <th>2</th>\n",
       "      <td>9</td>\n",
       "      <td>41001</td>\n",
       "      <td>Baker</td>\n",
       "      <td>Oregon</td>\n",
       "      <td>44.709156</td>\n",
       "      <td>-117.674988</td>\n",
       "      <td>2020-07-13</td>\n",
       "      <td>12</td>\n",
       "      <td>OR</td>\n",
       "      <td>0</td>\n",
       "      <td>...</td>\n",
       "      <td>2020-03-18</td>\n",
       "      <td>2020-03-24</td>\n",
       "      <td>2020-03-24</td>\n",
       "      <td>2020-03-17</td>\n",
       "      <td>2020-05-15</td>\n",
       "      <td>2020-06-19</td>\n",
       "      <td>2020-06-19</td>\n",
       "      <td>NaT</td>\n",
       "      <td>2020-06-19</td>\n",
       "      <td>2020-07-01</td>\n",
       "    </tr>\n",
       "    <tr>\n",
       "      <th>3</th>\n",
       "      <td>10</td>\n",
       "      <td>41001</td>\n",
       "      <td>Baker</td>\n",
       "      <td>Oregon</td>\n",
       "      <td>44.709156</td>\n",
       "      <td>-117.674988</td>\n",
       "      <td>2020-07-14</td>\n",
       "      <td>12</td>\n",
       "      <td>OR</td>\n",
       "      <td>0</td>\n",
       "      <td>...</td>\n",
       "      <td>2020-03-18</td>\n",
       "      <td>2020-03-24</td>\n",
       "      <td>2020-03-24</td>\n",
       "      <td>2020-03-17</td>\n",
       "      <td>2020-05-15</td>\n",
       "      <td>2020-06-19</td>\n",
       "      <td>2020-06-19</td>\n",
       "      <td>NaT</td>\n",
       "      <td>2020-06-19</td>\n",
       "      <td>2020-07-01</td>\n",
       "    </tr>\n",
       "    <tr>\n",
       "      <th>4</th>\n",
       "      <td>11</td>\n",
       "      <td>41001</td>\n",
       "      <td>Baker</td>\n",
       "      <td>Oregon</td>\n",
       "      <td>44.709156</td>\n",
       "      <td>-117.674988</td>\n",
       "      <td>2020-07-15</td>\n",
       "      <td>13</td>\n",
       "      <td>OR</td>\n",
       "      <td>0</td>\n",
       "      <td>...</td>\n",
       "      <td>2020-03-18</td>\n",
       "      <td>2020-03-24</td>\n",
       "      <td>2020-03-24</td>\n",
       "      <td>2020-03-17</td>\n",
       "      <td>2020-05-15</td>\n",
       "      <td>2020-06-19</td>\n",
       "      <td>2020-06-19</td>\n",
       "      <td>NaT</td>\n",
       "      <td>2020-06-19</td>\n",
       "      <td>2020-07-01</td>\n",
       "    </tr>\n",
       "  </tbody>\n",
       "</table>\n",
       "<p>5 rows × 31 columns</p>\n",
       "</div>"
      ],
      "text/plain": [
       "   index   fips county   state        lat        long        date  cases  \\\n",
       "0      7  41001  Baker  Oregon  44.709156 -117.674988  2020-07-11     11   \n",
       "1      8  41001  Baker  Oregon  44.709156 -117.674988  2020-07-12     12   \n",
       "2      9  41001  Baker  Oregon  44.709156 -117.674988  2020-07-13     12   \n",
       "3     10  41001  Baker  Oregon  44.709156 -117.674988  2020-07-14     12   \n",
       "4     11  41001  Baker  Oregon  44.709156 -117.674988  2020-07-15     13   \n",
       "\n",
       "  state_code  deaths  ...  close_restaurant  close_gym  close_theater  \\\n",
       "0         OR       0  ...        2020-03-18 2020-03-24     2020-03-24   \n",
       "1         OR       0  ...        2020-03-18 2020-03-24     2020-03-24   \n",
       "2         OR       0  ...        2020-03-18 2020-03-24     2020-03-24   \n",
       "3         OR       0  ...        2020-03-18 2020-03-24     2020-03-24   \n",
       "4         OR       0  ...        2020-03-18 2020-03-24     2020-03-24   \n",
       "\n",
       "   close_bar  reopen_business reopen_restaurant reopen_gym  reopen_theater  \\\n",
       "0 2020-03-17       2020-05-15        2020-06-19 2020-06-19             NaT   \n",
       "1 2020-03-17       2020-05-15        2020-06-19 2020-06-19             NaT   \n",
       "2 2020-03-17       2020-05-15        2020-06-19 2020-06-19             NaT   \n",
       "3 2020-03-17       2020-05-15        2020-06-19 2020-06-19             NaT   \n",
       "4 2020-03-17       2020-05-15        2020-06-19 2020-06-19             NaT   \n",
       "\n",
       "  reopen_bar   facemask  \n",
       "0 2020-06-19 2020-07-01  \n",
       "1 2020-06-19 2020-07-01  \n",
       "2 2020-06-19 2020-07-01  \n",
       "3 2020-06-19 2020-07-01  \n",
       "4 2020-06-19 2020-07-01  \n",
       "\n",
       "[5 rows x 31 columns]"
      ]
     },
     "execution_count": 52,
     "metadata": {},
     "output_type": "execute_result"
    }
   ],
   "source": [
    "df_case_delta.head()"
   ]
  },
  {
   "cell_type": "markdown",
   "metadata": {},
   "source": [
    "# Define second wave\n",
    "Eyeballing approach.\n",
    "<p> Method 1: look at the trend of the total cases in US."
   ]
  },
  {
   "cell_type": "code",
   "execution_count": 67,
   "metadata": {},
   "outputs": [],
   "source": [
    "# calculate new cases \n",
    "df_case['new_cases']=df_case['cases'].groupby(df_case['fips']).diff().fillna(0)\n",
    "df_case['new_cases']=df_case['new_cases'].clip(lower=0)\n",
    "    ## Calculate 7-day moving average\n",
    "df_case['cases_7day_ave'] = df_case.groupby('fips', as_index=False)['new_cases'].rolling(window=7,center=True).mean().fillna(0).reset_index(\n",
    "    0, drop=True)\n",
    "\n",
    "# calculate total new covid cases in US\n",
    "us_total=df_case.groupby('date', as_index=False).agg({\"cases_7day_ave\":\"sum\"})"
   ]
  },
  {
   "cell_type": "code",
   "execution_count": 66,
   "metadata": {},
   "outputs": [
    {
     "data": {
      "image/png": "[encoded data removed]",
      "text/plain": [
       "<Figure size 576x432 with 1 Axes>"
      ]
     },
     "metadata": {
      "needs_background": "light"
     },
     "output_type": "display_data"
    }
   ],
   "source": [
    "us_total['date']=pd.to_datetime(us_total['date'])\n",
    "\n",
    "plt.figure(figsize=(8,6))\n",
    "g=sns.lineplot(x=\"date\", y=\"cases_7day_ave\",\n",
    "             data=us_total)\n",
    "locator = mdates.AutoDateLocator()\n",
    "formatter = mdates.ConciseDateFormatter(locator,formats=[\"\",\"%b\", '%d', '%H:%M', '%H:%M', '%S.%f'],show_offset=False)\n",
    "g.xaxis.set_major_locator(locator)\n",
    "g.xaxis.set_major_formatter(formatter)\n",
    "g.set_xlim(pd.to_datetime(\"2020-05-01\"),pd.to_datetime(\"2020-09-01\"))\n",
    "g.set_xlabel('Date')\n",
    "g.set_ylabel('New covid case (7-day moving average)')\n",
    "plt.title(\"US new covid cases by time\",fontsize=16)\n",
    "plt.show()"
   ]
  },
  {
   "cell_type": "markdown",
   "metadata": {},
   "source": [
    "Method 2: look at the case growth rate."
   ]
  },
  {
   "cell_type": "code",
   "execution_count": 61,
   "metadata": {},
   "outputs": [
    {
     "data": {
      "image/png": "[encoded data removed]",
      "text/plain": [
       "<Figure size 576x432 with 1 Axes>"
      ]
     },
     "metadata": {
      "needs_background": "light"
     },
     "output_type": "display_data"
    }
   ],
   "source": [
    "# case growth rate\n",
    "df_case_delta['date']=pd.to_datetime(df_case_delta['date'])\n",
    "\n",
    "plt.figure(figsize=(8,6))\n",
    "g=sns.lineplot(x=\"date\", y=\"delta_case\",\n",
    "             data=df_case_delta)\n",
    "locator = mdates.AutoDateLocator()\n",
    "formatter = mdates.ConciseDateFormatter(locator,formats=[\"\",\"%b\", '%d', '%H:%M', '%H:%M', '%S.%f'],show_offset=False)\n",
    "g.xaxis.set_major_locator(locator)\n",
    "g.xaxis.set_major_formatter(formatter)\n",
    "g.set_xlim(pd.to_datetime(\"2020-05-01\"),pd.to_datetime(\"2020-09-01\"))\n",
    "g.set_ylim(0,0.035)\n",
    "g.set_xlabel('Date')\n",
    "g.set_ylabel('Infection growth rate')\n",
    "plt.title(\"County average case growth rate by time\",fontsize=16)\n",
    "plt.show()"
   ]
  },
  {
   "cell_type": "markdown",
   "metadata": {},
   "source": [
    "Given the trend shown in these two figures, we define the beginning of second wave as June 15, and use the mobility data between May 15 to June 15 to predict the average COVID case growth June 15 - July 15 in each county."
   ]
  },
  {
   "cell_type": "markdown",
   "metadata": {},
   "source": [
    "# Prepare predictors\n",
    "\n",
    "(1) Re-open early: 0-1, if stop stay-at-home order before May 15 defines as 1.\n",
    "<p> (2) Face mask wearing habit: continuous score. Assign score 1 to 5 for \"never\" to \"always\" and calculate the score for each county. \n",
    "<p> (3) Socio-demographic characteristics of the county\n",
    "<p> (4) Mobility by places May 15- Jun 15\n",
    "<p> (5) Average temperature of May-June."
   ]
  },
  {
   "cell_type": "code",
   "execution_count": 69,
   "metadata": {},
   "outputs": [
    {
     "name": "stdout",
     "output_type": "stream",
     "text": [
      "['index', 'fips', 'county', 'state', 'lat', 'long', 'date', 'cases', 'state_code', 'deaths', 'cases_7', 'deaths_7', 'day_index', 'delta_case', 'state_fips', 'emergency', 'stay_at_home', 'gathering', 'end_stay_at_home', 'close_school', 'close_nonessential_business', 'close_restaurant', 'close_gym', 'close_theater', 'close_bar', 'reopen_business', 'reopen_restaurant', 'reopen_gym', 'reopen_theater', 'reopen_bar', 'facemask']\n"
     ]
    }
   ],
   "source": [
    "print(list(df_case_delta.columns))"
   ]
  },
  {
   "cell_type": "code",
   "execution_count": 71,
   "metadata": {},
   "outputs": [],
   "source": [
    "# reopen time\n",
    "df_policy['reopen_early']=[1 if pd.to_datetime(x)<pd.to_datetime('2020-05-15')\n",
    "                        else 0 for x in df_policy['end_stay_at_home']]"
   ]
  },
  {
   "cell_type": "code",
   "execution_count": 77,
   "metadata": {},
   "outputs": [
    {
     "data": {
      "text/plain": [
       "count    3142.000000\n",
       "mean        3.981097\n",
       "std         0.413002\n",
       "min         2.433000\n",
       "25%         3.682000\n",
       "50%         3.992000\n",
       "75%         4.291750\n",
       "max         4.849000\n",
       "Name: facemask_score, dtype: float64"
      ]
     },
     "execution_count": 77,
     "metadata": {},
     "output_type": "execute_result"
    }
   ],
   "source": [
    "# facemask\n",
    "df_facemask = pd.read_csv(r\"../../02_Data/07_Facemask/county_facemask.csv\",index_col=0)\n",
    "df_facemask['facemask_score']=1*df_facemask['facemask_never']+2*df_facemask['facemask_rarely']+3*df_facemask['facemask_sometimes']+4*df_facemask['facemask_frequently']+5*df_facemask['facemask_always']\n",
    "df_facemask['facemask_score'].describe()"
   ]
  },
  {
   "cell_type": "code",
   "execution_count": 79,
   "metadata": {},
   "outputs": [
    {
     "data": {
      "text/plain": [
       "count    2762.000000\n",
       "mean        0.028772\n",
       "std         0.023138\n",
       "min         0.000434\n",
       "25%         0.012683\n",
       "50%         0.023698\n",
       "75%         0.038466\n",
       "max         0.249496\n",
       "Name: delta_case, dtype: float64"
      ]
     },
     "execution_count": 79,
     "metadata": {},
     "output_type": "execute_result"
    }
   ],
   "source": [
    "# average case growth Jun 15 to Jul 15\n",
    "df_case_secondwave=df_case_delta[(df_case_delta['date']>=\"2020-06-15\")&(df_case_delta['date']<=\"2020-07-15\")]\n",
    "df_casegrowth=df_case_secondwave.groupby('fips', as_index=False).agg({\"delta_case\":\"mean\"})\n",
    "df_casegrowth['delta_case'].describe()"
   ]
  },
  {
   "cell_type": "code",
   "execution_count": 82,
   "metadata": {},
   "outputs": [
    {
     "data": {
      "text/plain": [
       "count    6272.000000\n",
       "mean       66.925797\n",
       "std         8.832627\n",
       "min        28.900000\n",
       "25%        59.700000\n",
       "50%        68.000000\n",
       "75%        74.300000\n",
       "max        87.300000\n",
       "Name: av_tem, dtype: float64"
      ]
     },
     "execution_count": 82,
     "metadata": {},
     "output_type": "execute_result"
    }
   ],
   "source": [
    "# weather\n",
    "df_weather = pd.read_csv(r\"../../02_Data/06_Weather/county_av_tem.csv\",index_col=0)\n",
    "df_weather_sub=df_weather[(df_weather['month']>=5)&(df_weather['month']<=6)]\n",
    "df_weather_sub['av_tem'].describe()"
   ]
  },
  {
   "cell_type": "code",
   "execution_count": null,
   "metadata": {},
   "outputs": [],
   "source": [
    "# mobility\n"
   ]
  }
 ],
 "metadata": {
  "kernelspec": {
   "display_name": "Python 3",
   "language": "python",
   "name": "python3"
  },
  "language_info": {
   "codemirror_mode": {
    "name": "ipython",
    "version": 3
   },
   "file_extension": ".py",
   "mimetype": "text/x-python",
   "name": "python",
   "nbconvert_exporter": "python",
   "pygments_lexer": "ipython3",
   "version": "3.7.8"
  }
 },
 "nbformat": 4,
 "nbformat_minor": 4
}
