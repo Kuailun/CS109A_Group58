{
 "cells": [
  {
   "cell_type": "markdown",
   "metadata": {},
   "source": [
    "# Environment"
   ]
  },
  {
   "cell_type": "code",
   "execution_count": 1,
   "metadata": {},
   "outputs": [],
   "source": [
    "import numpy as np\n",
    "import operator\n",
    "import pandas as pd\n",
    "import matplotlib\n",
    "import matplotlib.pyplot as plt\n",
    "import matplotlib.dates as mdates\n",
    "import seaborn as sns\n",
    "import xlrd\n",
    "\n",
    "from sklearn.metrics import r2_score\n",
    "from sklearn.metrics import mean_squared_error\n",
    "from sklearn.linear_model import LinearRegression\n",
    "from sklearn.model_selection import cross_validate\n",
    "from sklearn.model_selection import train_test_split\n",
    "from sklearn import metrics\n",
    "from sklearn.decomposition import PCA"
   ]
  },
  {
   "cell_type": "code",
   "execution_count": 2,
   "metadata": {},
   "outputs": [],
   "source": [
    "# pandas tricks for better display\n",
    "pd.options.display.max_columns = 50  \n",
    "pd.options.display.max_rows = 500     \n",
    "pd.options.display.max_colwidth = 100\n",
    "pd.options.display.precision = 3\n",
    "\n",
    "# Run this cell for more readable visuals \n",
    "large = 22; med = 16; small = 10\n",
    "params = {'axes.titlesize': large,\n",
    "          'legend.fontsize': med,\n",
    "          'figure.figsize': (16, 10),\n",
    "          'axes.labelsize': med,\n",
    "          'axes.titlesize': med,\n",
    "          'axes.linewidth': 2,\n",
    "          'xtick.labelsize': med,\n",
    "          'ytick.labelsize': med,\n",
    "          'figure.titlesize': large}\n",
    "plt.style.use('seaborn-whitegrid')\n",
    "plt.rcParams.update(params)\n",
    "#sns.set_style(\"white\")\n",
    "%matplotlib inline"
   ]
  },
  {
   "cell_type": "markdown",
   "metadata": {},
   "source": [
    "# Data input\n",
    "Input policy and case data respectively."
   ]
  },
  {
   "cell_type": "code",
   "execution_count": 3,
   "metadata": {},
   "outputs": [],
   "source": [
    "# import policy file\n",
    "df_policy = pd.read_excel(r\"../../02_Data\\03_Policy\\COVID_StatePolicy_final.xlsx\")"
   ]
  },
  {
   "cell_type": "code",
   "execution_count": 4,
   "metadata": {},
   "outputs": [
    {
     "data": {
      "text/html": [
       "<div>\n",
       "<style scoped>\n",
       "    .dataframe tbody tr th:only-of-type {\n",
       "        vertical-align: middle;\n",
       "    }\n",
       "\n",
       "    .dataframe tbody tr th {\n",
       "        vertical-align: top;\n",
       "    }\n",
       "\n",
       "    .dataframe thead th {\n",
       "        text-align: right;\n",
       "    }\n",
       "</style>\n",
       "<table border=\"1\" class=\"dataframe\">\n",
       "  <thead>\n",
       "    <tr style=\"text-align: right;\">\n",
       "      <th></th>\n",
       "      <th>state</th>\n",
       "      <th>state_code</th>\n",
       "      <th>state_fips</th>\n",
       "      <th>emergency</th>\n",
       "      <th>stay_at_home</th>\n",
       "      <th>gathering</th>\n",
       "      <th>end_stay_at_home</th>\n",
       "      <th>close_school</th>\n",
       "      <th>close_nonessential_business</th>\n",
       "      <th>close_restaurant</th>\n",
       "      <th>close_gym</th>\n",
       "      <th>close_theater</th>\n",
       "      <th>close_bar</th>\n",
       "      <th>reopen_business</th>\n",
       "      <th>reopen_restaurant</th>\n",
       "      <th>reopen_gym</th>\n",
       "      <th>reopen_theater</th>\n",
       "      <th>reopen_bar</th>\n",
       "      <th>facemask</th>\n",
       "    </tr>\n",
       "  </thead>\n",
       "  <tbody>\n",
       "    <tr>\n",
       "      <th>0</th>\n",
       "      <td>Alabama</td>\n",
       "      <td>AL</td>\n",
       "      <td>1</td>\n",
       "      <td>2020-03-13</td>\n",
       "      <td>2020-04-04</td>\n",
       "      <td>0</td>\n",
       "      <td>2020-04-30</td>\n",
       "      <td>2020-03-20</td>\n",
       "      <td>2020-03-28</td>\n",
       "      <td>2020-03-19</td>\n",
       "      <td>2020-03-28</td>\n",
       "      <td>2020-03-28</td>\n",
       "      <td>2020-03-19</td>\n",
       "      <td>2020-04-30</td>\n",
       "      <td>2020-05-11</td>\n",
       "      <td>2020-05-11</td>\n",
       "      <td>2020-05-22</td>\n",
       "      <td>2020-05-11</td>\n",
       "      <td>2020-07-16</td>\n",
       "    </tr>\n",
       "    <tr>\n",
       "      <th>1</th>\n",
       "      <td>Alaska</td>\n",
       "      <td>AK</td>\n",
       "      <td>2</td>\n",
       "      <td>2020-03-11</td>\n",
       "      <td>2020-03-28</td>\n",
       "      <td>0</td>\n",
       "      <td>2020-04-24</td>\n",
       "      <td>2020-03-16</td>\n",
       "      <td>2020-03-24</td>\n",
       "      <td>2020-03-18</td>\n",
       "      <td>2020-03-18</td>\n",
       "      <td>2020-03-18</td>\n",
       "      <td>2020-03-18</td>\n",
       "      <td>2020-04-24</td>\n",
       "      <td>2020-04-24</td>\n",
       "      <td>2020-05-08</td>\n",
       "      <td>2020-05-08</td>\n",
       "      <td>2020-05-08</td>\n",
       "      <td>2020-04-24</td>\n",
       "    </tr>\n",
       "    <tr>\n",
       "      <th>2</th>\n",
       "      <td>Arizona</td>\n",
       "      <td>AZ</td>\n",
       "      <td>4</td>\n",
       "      <td>2020-03-11</td>\n",
       "      <td>2020-03-31</td>\n",
       "      <td>1</td>\n",
       "      <td>2020-05-16</td>\n",
       "      <td>2020-03-16</td>\n",
       "      <td>2020-03-31</td>\n",
       "      <td>2020-03-21</td>\n",
       "      <td>2020-03-21</td>\n",
       "      <td>2020-03-21</td>\n",
       "      <td>2020-03-21</td>\n",
       "      <td>2020-05-08</td>\n",
       "      <td>2020-05-11</td>\n",
       "      <td>2020-05-13</td>\n",
       "      <td>2020-05-16</td>\n",
       "      <td>2020-05-16</td>\n",
       "      <td>NaT</td>\n",
       "    </tr>\n",
       "    <tr>\n",
       "      <th>3</th>\n",
       "      <td>Arkansas</td>\n",
       "      <td>AR</td>\n",
       "      <td>5</td>\n",
       "      <td>2020-03-11</td>\n",
       "      <td>NaT</td>\n",
       "      <td>0</td>\n",
       "      <td>NaT</td>\n",
       "      <td>2020-03-17</td>\n",
       "      <td>2020-04-06</td>\n",
       "      <td>2020-03-20</td>\n",
       "      <td>2020-03-20</td>\n",
       "      <td>2020-03-20</td>\n",
       "      <td>2020-03-20</td>\n",
       "      <td>2020-05-04</td>\n",
       "      <td>2020-05-11</td>\n",
       "      <td>2020-05-04</td>\n",
       "      <td>2020-05-18</td>\n",
       "      <td>2020-05-19</td>\n",
       "      <td>2020-07-20</td>\n",
       "    </tr>\n",
       "    <tr>\n",
       "      <th>4</th>\n",
       "      <td>California</td>\n",
       "      <td>CA</td>\n",
       "      <td>6</td>\n",
       "      <td>2020-03-04</td>\n",
       "      <td>2020-03-19</td>\n",
       "      <td>0</td>\n",
       "      <td>NaT</td>\n",
       "      <td>2020-03-23</td>\n",
       "      <td>2020-03-19</td>\n",
       "      <td>2020-03-16</td>\n",
       "      <td>2020-03-19</td>\n",
       "      <td>2020-03-19</td>\n",
       "      <td>2020-03-16</td>\n",
       "      <td>2020-05-08</td>\n",
       "      <td>2020-05-18</td>\n",
       "      <td>NaT</td>\n",
       "      <td>NaT</td>\n",
       "      <td>NaT</td>\n",
       "      <td>2020-06-18</td>\n",
       "    </tr>\n",
       "  </tbody>\n",
       "</table>\n",
       "</div>"
      ],
      "text/plain": [
       "        state state_code  state_fips  emergency stay_at_home  gathering  \\\n",
       "0     Alabama         AL           1 2020-03-13   2020-04-04          0   \n",
       "1      Alaska         AK           2 2020-03-11   2020-03-28          0   \n",
       "2     Arizona         AZ           4 2020-03-11   2020-03-31          1   \n",
       "3    Arkansas         AR           5 2020-03-11          NaT          0   \n",
       "4  California         CA           6 2020-03-04   2020-03-19          0   \n",
       "\n",
       "  end_stay_at_home close_school close_nonessential_business close_restaurant  \\\n",
       "0       2020-04-30   2020-03-20                  2020-03-28       2020-03-19   \n",
       "1       2020-04-24   2020-03-16                  2020-03-24       2020-03-18   \n",
       "2       2020-05-16   2020-03-16                  2020-03-31       2020-03-21   \n",
       "3              NaT   2020-03-17                  2020-04-06       2020-03-20   \n",
       "4              NaT   2020-03-23                  2020-03-19       2020-03-16   \n",
       "\n",
       "   close_gym close_theater  close_bar reopen_business reopen_restaurant  \\\n",
       "0 2020-03-28    2020-03-28 2020-03-19      2020-04-30        2020-05-11   \n",
       "1 2020-03-18    2020-03-18 2020-03-18      2020-04-24        2020-04-24   \n",
       "2 2020-03-21    2020-03-21 2020-03-21      2020-05-08        2020-05-11   \n",
       "3 2020-03-20    2020-03-20 2020-03-20      2020-05-04        2020-05-11   \n",
       "4 2020-03-19    2020-03-19 2020-03-16      2020-05-08        2020-05-18   \n",
       "\n",
       "  reopen_gym reopen_theater reopen_bar   facemask  \n",
       "0 2020-05-11     2020-05-22 2020-05-11 2020-07-16  \n",
       "1 2020-05-08     2020-05-08 2020-05-08 2020-04-24  \n",
       "2 2020-05-13     2020-05-16 2020-05-16        NaT  \n",
       "3 2020-05-04     2020-05-18 2020-05-19 2020-07-20  \n",
       "4        NaT            NaT        NaT 2020-06-18  "
      ]
     },
     "execution_count": 4,
     "metadata": {},
     "output_type": "execute_result"
    }
   ],
   "source": [
    "df_policy.head()"
   ]
  },
  {
   "cell_type": "code",
   "execution_count": 5,
   "metadata": {},
   "outputs": [],
   "source": [
    "# import COVID case file\n",
    "df_case = pd.read_csv(r\"../../02_Data\\01_COVID\\covid_us_county.csv\")"
   ]
  },
  {
   "cell_type": "code",
   "execution_count": 6,
   "metadata": {},
   "outputs": [
    {
     "data": {
      "text/html": [
       "<div>\n",
       "<style scoped>\n",
       "    .dataframe tbody tr th:only-of-type {\n",
       "        vertical-align: middle;\n",
       "    }\n",
       "\n",
       "    .dataframe tbody tr th {\n",
       "        vertical-align: top;\n",
       "    }\n",
       "\n",
       "    .dataframe thead th {\n",
       "        text-align: right;\n",
       "    }\n",
       "</style>\n",
       "<table border=\"1\" class=\"dataframe\">\n",
       "  <thead>\n",
       "    <tr style=\"text-align: right;\">\n",
       "      <th></th>\n",
       "      <th>fips</th>\n",
       "      <th>county</th>\n",
       "      <th>state</th>\n",
       "      <th>lat</th>\n",
       "      <th>long</th>\n",
       "      <th>date</th>\n",
       "      <th>cases</th>\n",
       "      <th>state_code</th>\n",
       "      <th>deaths</th>\n",
       "    </tr>\n",
       "  </thead>\n",
       "  <tbody>\n",
       "    <tr>\n",
       "      <th>0</th>\n",
       "      <td>1001.0</td>\n",
       "      <td>Autauga</td>\n",
       "      <td>Alabama</td>\n",
       "      <td>32.54</td>\n",
       "      <td>-86.644</td>\n",
       "      <td>2020-01-22</td>\n",
       "      <td>0</td>\n",
       "      <td>AL</td>\n",
       "      <td>0</td>\n",
       "    </tr>\n",
       "    <tr>\n",
       "      <th>1</th>\n",
       "      <td>1001.0</td>\n",
       "      <td>Autauga</td>\n",
       "      <td>Alabama</td>\n",
       "      <td>32.54</td>\n",
       "      <td>-86.644</td>\n",
       "      <td>2020-01-23</td>\n",
       "      <td>0</td>\n",
       "      <td>AL</td>\n",
       "      <td>0</td>\n",
       "    </tr>\n",
       "    <tr>\n",
       "      <th>2</th>\n",
       "      <td>1001.0</td>\n",
       "      <td>Autauga</td>\n",
       "      <td>Alabama</td>\n",
       "      <td>32.54</td>\n",
       "      <td>-86.644</td>\n",
       "      <td>2020-01-24</td>\n",
       "      <td>0</td>\n",
       "      <td>AL</td>\n",
       "      <td>0</td>\n",
       "    </tr>\n",
       "    <tr>\n",
       "      <th>3</th>\n",
       "      <td>1001.0</td>\n",
       "      <td>Autauga</td>\n",
       "      <td>Alabama</td>\n",
       "      <td>32.54</td>\n",
       "      <td>-86.644</td>\n",
       "      <td>2020-01-25</td>\n",
       "      <td>0</td>\n",
       "      <td>AL</td>\n",
       "      <td>0</td>\n",
       "    </tr>\n",
       "    <tr>\n",
       "      <th>4</th>\n",
       "      <td>1001.0</td>\n",
       "      <td>Autauga</td>\n",
       "      <td>Alabama</td>\n",
       "      <td>32.54</td>\n",
       "      <td>-86.644</td>\n",
       "      <td>2020-01-26</td>\n",
       "      <td>0</td>\n",
       "      <td>AL</td>\n",
       "      <td>0</td>\n",
       "    </tr>\n",
       "  </tbody>\n",
       "</table>\n",
       "</div>"
      ],
      "text/plain": [
       "     fips   county    state    lat    long        date  cases state_code  \\\n",
       "0  1001.0  Autauga  Alabama  32.54 -86.644  2020-01-22      0         AL   \n",
       "1  1001.0  Autauga  Alabama  32.54 -86.644  2020-01-23      0         AL   \n",
       "2  1001.0  Autauga  Alabama  32.54 -86.644  2020-01-24      0         AL   \n",
       "3  1001.0  Autauga  Alabama  32.54 -86.644  2020-01-25      0         AL   \n",
       "4  1001.0  Autauga  Alabama  32.54 -86.644  2020-01-26      0         AL   \n",
       "\n",
       "   deaths  \n",
       "0       0  \n",
       "1       0  \n",
       "2       0  \n",
       "3       0  \n",
       "4       0  "
      ]
     },
     "execution_count": 6,
     "metadata": {},
     "output_type": "execute_result"
    }
   ],
   "source": [
    "df_case.head()"
   ]
  },
  {
   "cell_type": "code",
   "execution_count": 7,
   "metadata": {},
   "outputs": [
    {
     "data": {
      "text/html": [
       "<div>\n",
       "<style scoped>\n",
       "    .dataframe tbody tr th:only-of-type {\n",
       "        vertical-align: middle;\n",
       "    }\n",
       "\n",
       "    .dataframe tbody tr th {\n",
       "        vertical-align: top;\n",
       "    }\n",
       "\n",
       "    .dataframe thead th {\n",
       "        text-align: right;\n",
       "    }\n",
       "</style>\n",
       "<table border=\"1\" class=\"dataframe\">\n",
       "  <thead>\n",
       "    <tr style=\"text-align: right;\">\n",
       "      <th></th>\n",
       "      <th>fips</th>\n",
       "      <th>lat</th>\n",
       "      <th>long</th>\n",
       "      <th>cases</th>\n",
       "      <th>deaths</th>\n",
       "    </tr>\n",
       "  </thead>\n",
       "  <tbody>\n",
       "    <tr>\n",
       "      <th>count</th>\n",
       "      <td>942390.000</td>\n",
       "      <td>945220.000</td>\n",
       "      <td>945220.000</td>\n",
       "      <td>945220.000</td>\n",
       "      <td>945220.000</td>\n",
       "    </tr>\n",
       "    <tr>\n",
       "      <th>mean</th>\n",
       "      <td>33061.685</td>\n",
       "      <td>36.707</td>\n",
       "      <td>-88.601</td>\n",
       "      <td>898.875</td>\n",
       "      <td>31.174</td>\n",
       "    </tr>\n",
       "    <tr>\n",
       "      <th>std</th>\n",
       "      <td>18636.152</td>\n",
       "      <td>9.062</td>\n",
       "      <td>21.716</td>\n",
       "      <td>5354.237</td>\n",
       "      <td>229.454</td>\n",
       "    </tr>\n",
       "    <tr>\n",
       "      <th>min</th>\n",
       "      <td>60.000</td>\n",
       "      <td>-14.271</td>\n",
       "      <td>-174.160</td>\n",
       "      <td>0.000</td>\n",
       "      <td>0.000</td>\n",
       "    </tr>\n",
       "    <tr>\n",
       "      <th>25%</th>\n",
       "      <td>19079.000</td>\n",
       "      <td>33.896</td>\n",
       "      <td>-97.790</td>\n",
       "      <td>0.000</td>\n",
       "      <td>0.000</td>\n",
       "    </tr>\n",
       "    <tr>\n",
       "      <th>50%</th>\n",
       "      <td>31014.000</td>\n",
       "      <td>38.002</td>\n",
       "      <td>-89.487</td>\n",
       "      <td>34.000</td>\n",
       "      <td>0.000</td>\n",
       "    </tr>\n",
       "    <tr>\n",
       "      <th>75%</th>\n",
       "      <td>47131.000</td>\n",
       "      <td>41.573</td>\n",
       "      <td>-82.311</td>\n",
       "      <td>302.000</td>\n",
       "      <td>6.000</td>\n",
       "    </tr>\n",
       "    <tr>\n",
       "      <th>max</th>\n",
       "      <td>99999.000</td>\n",
       "      <td>69.315</td>\n",
       "      <td>145.674</td>\n",
       "      <td>306327.000</td>\n",
       "      <td>7400.000</td>\n",
       "    </tr>\n",
       "  </tbody>\n",
       "</table>\n",
       "</div>"
      ],
      "text/plain": [
       "             fips         lat        long       cases      deaths\n",
       "count  942390.000  945220.000  945220.000  945220.000  945220.000\n",
       "mean    33061.685      36.707     -88.601     898.875      31.174\n",
       "std     18636.152       9.062      21.716    5354.237     229.454\n",
       "min        60.000     -14.271    -174.160       0.000       0.000\n",
       "25%     19079.000      33.896     -97.790       0.000       0.000\n",
       "50%     31014.000      38.002     -89.487      34.000       0.000\n",
       "75%     47131.000      41.573     -82.311     302.000       6.000\n",
       "max     99999.000      69.315     145.674  306327.000    7400.000"
      ]
     },
     "execution_count": 7,
     "metadata": {},
     "output_type": "execute_result"
    }
   ],
   "source": [
    "df_case.describe()"
   ]
  },
  {
   "cell_type": "code",
   "execution_count": 8,
   "metadata": {},
   "outputs": [],
   "source": [
    "# merge the data\n",
    "df_merge=df_case.merge(df_policy, on=['state_code','state'],how='left')"
   ]
  },
  {
   "cell_type": "code",
   "execution_count": 9,
   "metadata": {},
   "outputs": [
    {
     "data": {
      "text/html": [
       "<div>\n",
       "<style scoped>\n",
       "    .dataframe tbody tr th:only-of-type {\n",
       "        vertical-align: middle;\n",
       "    }\n",
       "\n",
       "    .dataframe tbody tr th {\n",
       "        vertical-align: top;\n",
       "    }\n",
       "\n",
       "    .dataframe thead th {\n",
       "        text-align: right;\n",
       "    }\n",
       "</style>\n",
       "<table border=\"1\" class=\"dataframe\">\n",
       "  <thead>\n",
       "    <tr style=\"text-align: right;\">\n",
       "      <th></th>\n",
       "      <th>fips</th>\n",
       "      <th>county</th>\n",
       "      <th>state</th>\n",
       "      <th>lat</th>\n",
       "      <th>long</th>\n",
       "      <th>date</th>\n",
       "      <th>cases</th>\n",
       "      <th>state_code</th>\n",
       "      <th>deaths</th>\n",
       "      <th>state_fips</th>\n",
       "      <th>emergency</th>\n",
       "      <th>stay_at_home</th>\n",
       "      <th>gathering</th>\n",
       "      <th>end_stay_at_home</th>\n",
       "      <th>close_school</th>\n",
       "      <th>close_nonessential_business</th>\n",
       "      <th>close_restaurant</th>\n",
       "      <th>close_gym</th>\n",
       "      <th>close_theater</th>\n",
       "      <th>close_bar</th>\n",
       "      <th>reopen_business</th>\n",
       "      <th>reopen_restaurant</th>\n",
       "      <th>reopen_gym</th>\n",
       "      <th>reopen_theater</th>\n",
       "      <th>reopen_bar</th>\n",
       "      <th>facemask</th>\n",
       "    </tr>\n",
       "  </thead>\n",
       "  <tbody>\n",
       "    <tr>\n",
       "      <th>0</th>\n",
       "      <td>1001.0</td>\n",
       "      <td>Autauga</td>\n",
       "      <td>Alabama</td>\n",
       "      <td>32.54</td>\n",
       "      <td>-86.644</td>\n",
       "      <td>2020-01-22</td>\n",
       "      <td>0</td>\n",
       "      <td>AL</td>\n",
       "      <td>0</td>\n",
       "      <td>1.0</td>\n",
       "      <td>2020-03-13</td>\n",
       "      <td>2020-04-04</td>\n",
       "      <td>0.0</td>\n",
       "      <td>2020-04-30</td>\n",
       "      <td>2020-03-20</td>\n",
       "      <td>2020-03-28</td>\n",
       "      <td>2020-03-19</td>\n",
       "      <td>2020-03-28</td>\n",
       "      <td>2020-03-28</td>\n",
       "      <td>2020-03-19</td>\n",
       "      <td>2020-04-30</td>\n",
       "      <td>2020-05-11</td>\n",
       "      <td>2020-05-11</td>\n",
       "      <td>2020-05-22</td>\n",
       "      <td>2020-05-11</td>\n",
       "      <td>2020-07-16</td>\n",
       "    </tr>\n",
       "    <tr>\n",
       "      <th>1</th>\n",
       "      <td>1001.0</td>\n",
       "      <td>Autauga</td>\n",
       "      <td>Alabama</td>\n",
       "      <td>32.54</td>\n",
       "      <td>-86.644</td>\n",
       "      <td>2020-01-23</td>\n",
       "      <td>0</td>\n",
       "      <td>AL</td>\n",
       "      <td>0</td>\n",
       "      <td>1.0</td>\n",
       "      <td>2020-03-13</td>\n",
       "      <td>2020-04-04</td>\n",
       "      <td>0.0</td>\n",
       "      <td>2020-04-30</td>\n",
       "      <td>2020-03-20</td>\n",
       "      <td>2020-03-28</td>\n",
       "      <td>2020-03-19</td>\n",
       "      <td>2020-03-28</td>\n",
       "      <td>2020-03-28</td>\n",
       "      <td>2020-03-19</td>\n",
       "      <td>2020-04-30</td>\n",
       "      <td>2020-05-11</td>\n",
       "      <td>2020-05-11</td>\n",
       "      <td>2020-05-22</td>\n",
       "      <td>2020-05-11</td>\n",
       "      <td>2020-07-16</td>\n",
       "    </tr>\n",
       "    <tr>\n",
       "      <th>2</th>\n",
       "      <td>1001.0</td>\n",
       "      <td>Autauga</td>\n",
       "      <td>Alabama</td>\n",
       "      <td>32.54</td>\n",
       "      <td>-86.644</td>\n",
       "      <td>2020-01-24</td>\n",
       "      <td>0</td>\n",
       "      <td>AL</td>\n",
       "      <td>0</td>\n",
       "      <td>1.0</td>\n",
       "      <td>2020-03-13</td>\n",
       "      <td>2020-04-04</td>\n",
       "      <td>0.0</td>\n",
       "      <td>2020-04-30</td>\n",
       "      <td>2020-03-20</td>\n",
       "      <td>2020-03-28</td>\n",
       "      <td>2020-03-19</td>\n",
       "      <td>2020-03-28</td>\n",
       "      <td>2020-03-28</td>\n",
       "      <td>2020-03-19</td>\n",
       "      <td>2020-04-30</td>\n",
       "      <td>2020-05-11</td>\n",
       "      <td>2020-05-11</td>\n",
       "      <td>2020-05-22</td>\n",
       "      <td>2020-05-11</td>\n",
       "      <td>2020-07-16</td>\n",
       "    </tr>\n",
       "    <tr>\n",
       "      <th>3</th>\n",
       "      <td>1001.0</td>\n",
       "      <td>Autauga</td>\n",
       "      <td>Alabama</td>\n",
       "      <td>32.54</td>\n",
       "      <td>-86.644</td>\n",
       "      <td>2020-01-25</td>\n",
       "      <td>0</td>\n",
       "      <td>AL</td>\n",
       "      <td>0</td>\n",
       "      <td>1.0</td>\n",
       "      <td>2020-03-13</td>\n",
       "      <td>2020-04-04</td>\n",
       "      <td>0.0</td>\n",
       "      <td>2020-04-30</td>\n",
       "      <td>2020-03-20</td>\n",
       "      <td>2020-03-28</td>\n",
       "      <td>2020-03-19</td>\n",
       "      <td>2020-03-28</td>\n",
       "      <td>2020-03-28</td>\n",
       "      <td>2020-03-19</td>\n",
       "      <td>2020-04-30</td>\n",
       "      <td>2020-05-11</td>\n",
       "      <td>2020-05-11</td>\n",
       "      <td>2020-05-22</td>\n",
       "      <td>2020-05-11</td>\n",
       "      <td>2020-07-16</td>\n",
       "    </tr>\n",
       "    <tr>\n",
       "      <th>4</th>\n",
       "      <td>1001.0</td>\n",
       "      <td>Autauga</td>\n",
       "      <td>Alabama</td>\n",
       "      <td>32.54</td>\n",
       "      <td>-86.644</td>\n",
       "      <td>2020-01-26</td>\n",
       "      <td>0</td>\n",
       "      <td>AL</td>\n",
       "      <td>0</td>\n",
       "      <td>1.0</td>\n",
       "      <td>2020-03-13</td>\n",
       "      <td>2020-04-04</td>\n",
       "      <td>0.0</td>\n",
       "      <td>2020-04-30</td>\n",
       "      <td>2020-03-20</td>\n",
       "      <td>2020-03-28</td>\n",
       "      <td>2020-03-19</td>\n",
       "      <td>2020-03-28</td>\n",
       "      <td>2020-03-28</td>\n",
       "      <td>2020-03-19</td>\n",
       "      <td>2020-04-30</td>\n",
       "      <td>2020-05-11</td>\n",
       "      <td>2020-05-11</td>\n",
       "      <td>2020-05-22</td>\n",
       "      <td>2020-05-11</td>\n",
       "      <td>2020-07-16</td>\n",
       "    </tr>\n",
       "  </tbody>\n",
       "</table>\n",
       "</div>"
      ],
      "text/plain": [
       "     fips   county    state    lat    long        date  cases state_code  \\\n",
       "0  1001.0  Autauga  Alabama  32.54 -86.644  2020-01-22      0         AL   \n",
       "1  1001.0  Autauga  Alabama  32.54 -86.644  2020-01-23      0         AL   \n",
       "2  1001.0  Autauga  Alabama  32.54 -86.644  2020-01-24      0         AL   \n",
       "3  1001.0  Autauga  Alabama  32.54 -86.644  2020-01-25      0         AL   \n",
       "4  1001.0  Autauga  Alabama  32.54 -86.644  2020-01-26      0         AL   \n",
       "\n",
       "   deaths  state_fips  emergency stay_at_home  gathering end_stay_at_home  \\\n",
       "0       0         1.0 2020-03-13   2020-04-04        0.0       2020-04-30   \n",
       "1       0         1.0 2020-03-13   2020-04-04        0.0       2020-04-30   \n",
       "2       0         1.0 2020-03-13   2020-04-04        0.0       2020-04-30   \n",
       "3       0         1.0 2020-03-13   2020-04-04        0.0       2020-04-30   \n",
       "4       0         1.0 2020-03-13   2020-04-04        0.0       2020-04-30   \n",
       "\n",
       "  close_school close_nonessential_business close_restaurant  close_gym  \\\n",
       "0   2020-03-20                  2020-03-28       2020-03-19 2020-03-28   \n",
       "1   2020-03-20                  2020-03-28       2020-03-19 2020-03-28   \n",
       "2   2020-03-20                  2020-03-28       2020-03-19 2020-03-28   \n",
       "3   2020-03-20                  2020-03-28       2020-03-19 2020-03-28   \n",
       "4   2020-03-20                  2020-03-28       2020-03-19 2020-03-28   \n",
       "\n",
       "  close_theater  close_bar reopen_business reopen_restaurant reopen_gym  \\\n",
       "0    2020-03-28 2020-03-19      2020-04-30        2020-05-11 2020-05-11   \n",
       "1    2020-03-28 2020-03-19      2020-04-30        2020-05-11 2020-05-11   \n",
       "2    2020-03-28 2020-03-19      2020-04-30        2020-05-11 2020-05-11   \n",
       "3    2020-03-28 2020-03-19      2020-04-30        2020-05-11 2020-05-11   \n",
       "4    2020-03-28 2020-03-19      2020-04-30        2020-05-11 2020-05-11   \n",
       "\n",
       "  reopen_theater reopen_bar   facemask  \n",
       "0     2020-05-22 2020-05-11 2020-07-16  \n",
       "1     2020-05-22 2020-05-11 2020-07-16  \n",
       "2     2020-05-22 2020-05-11 2020-07-16  \n",
       "3     2020-05-22 2020-05-11 2020-07-16  \n",
       "4     2020-05-22 2020-05-11 2020-07-16  "
      ]
     },
     "execution_count": 9,
     "metadata": {},
     "output_type": "execute_result"
    }
   ],
   "source": [
    "df_merge.head()"
   ]
  },
  {
   "cell_type": "code",
   "execution_count": 63,
   "metadata": {},
   "outputs": [
    {
     "data": {
      "text/plain": [
       "Timestamp('2020-03-16 00:00:00')"
      ]
     },
     "execution_count": 63,
     "metadata": {},
     "output_type": "execute_result"
    }
   ],
   "source": [
    "df_merge['close_school'].min()"
   ]
  },
  {
   "cell_type": "code",
   "execution_count": 64,
   "metadata": {},
   "outputs": [
    {
     "data": {
      "text/plain": [
       "Timestamp('2020-04-03 00:00:00')"
      ]
     },
     "execution_count": 64,
     "metadata": {},
     "output_type": "execute_result"
    }
   ],
   "source": [
    "df_merge['close_school'].max()"
   ]
  },
  {
   "cell_type": "markdown",
   "metadata": {},
   "source": [
    "# Data cleaning"
   ]
  },
  {
   "cell_type": "markdown",
   "metadata": {},
   "source": [
    "## Case data\n",
    "(1) Generate daily increase;\n",
    "<br>(2) Clean the observations with negative increase;\n",
    "<br>(3) Calculate 7-day moving average of new cases."
   ]
  },
  {
   "cell_type": "code",
   "execution_count": 10,
   "metadata": {},
   "outputs": [],
   "source": [
    "# get daily data from cumulative sum\n",
    "df_merge['new_cases']=df_merge['cases'].groupby(df_merge['fips']).diff().fillna(0)\n",
    "df_merge['new_deaths']=df_merge['deaths'].groupby(df_merge['fips']).diff().fillna(0)"
   ]
  },
  {
   "cell_type": "code",
   "execution_count": 11,
   "metadata": {},
   "outputs": [],
   "source": [
    "# impute 0 for dates with negative case inceases\n",
    "df_merge['new_cases']=df_merge['new_cases'].clip(lower=0)\n",
    "df_merge['new_deaths']=df_merge['new_deaths'].clip(lower=0)"
   ]
  },
  {
   "cell_type": "code",
   "execution_count": 12,
   "metadata": {},
   "outputs": [],
   "source": [
    "df_merge['cases_7day_ave'] = df_merge.groupby('fips', as_index=False)['new_cases'].rolling(window=7,center=True).mean().fillna(0).reset_index(\n",
    "    0, drop=True)"
   ]
  },
  {
   "cell_type": "markdown",
   "metadata": {},
   "source": [
    "## Policy data\n",
    "Code dummy variables for the key policies (i.e.,'stay_at_home','close_school','close_nonessential_business','close_restaurant','facemask','gethering','close_gym','close_theater','close_bar')"
   ]
  },
  {
   "cell_type": "code",
<<<<<<< .mine
   "execution_count": 18,
=======
   "execution_count": 13,
>>>>>>> .theirs
   "metadata": {},
   "outputs": [],
   "source": [
    "df_merge['policy_home']=np.where((df_merge['date'].astype('datetime64[ns]')>=df_merge['stay_at_home'].astype('datetime64[ns]')) \n",
    "                                 & (df_merge['date'].astype('datetime64[ns]')<=df_merge['end_stay_at_home'].astype('datetime64[ns]')), 1, 0)\n",
    "\n",
    "df_merge['policy_school']=np.where((df_merge['date'].astype('datetime64[ns]')>=df_merge['close_school'].astype('datetime64[ns]')), 1, 0)\n",
    "\n",
    "df_merge['policy_business']=np.where((df_merge['date'].astype('datetime64[ns]')>=df_merge['close_nonessential_business'].astype('datetime64[ns]')) \n",
    "                                 & (df_merge['date'].astype('datetime64[ns]')<=df_merge['reopen_business'].astype('datetime64[ns]')), 1, 0)\n",
    "\n",
    "df_merge['policy_restaurant']=np.where((df_merge['date'].astype('datetime64[ns]')>=df_merge['close_restaurant'].astype('datetime64[ns]')) \n",
    "                                 & (df_merge['date'].astype('datetime64[ns]')<=df_merge['reopen_restaurant'].astype('datetime64[ns]')), 1, 0)\n",
    "\n",
    "df_merge['policy_facemask']=np.where((df_merge['date'].astype('datetime64[ns]')>=df_merge['facemask'].astype('datetime64[ns]')), 1, 0)\n",
    "\n",
    "df_merge['policy_gym']=np.where((df_merge['date'].astype('datetime64[ns]')>=df_merge['close_gym'].astype('datetime64[ns]')) \n",
    "                                 & (df_merge['date'].astype('datetime64[ns]')<=df_merge['reopen_gym'].astype('datetime64[ns]')), 1, 0)\n",
    "\n",
    "df_merge['policy_theater']=np.where((df_merge['date'].astype('datetime64[ns]')>=df_merge['close_theater'].astype('datetime64[ns]')) \n",
    "                                 & (df_merge['date'].astype('datetime64[ns]')<=df_merge['reopen_theater'].astype('datetime64[ns]')), 1, 0)\n",
    "\n",
    "df_merge['policy_bar']=np.where((df_merge['date'].astype('datetime64[ns]')>=df_merge['close_bar'].astype('datetime64[ns]')) \n",
    "                                 & (df_merge['date'].astype('datetime64[ns]')<=df_merge['reopen_bar'].astype('datetime64[ns]')), 1, 0)\n"
   ]
  },
  {
   "cell_type": "markdown",
   "metadata": {},
   "source": [
    "# Univariate visualizations"
   ]
  },
  {
   "cell_type": "markdown",
   "metadata": {},
   "source": [
    "## Cases"
   ]
  },
  {
   "cell_type": "code",
   "execution_count": 14,
   "metadata": {},
   "outputs": [
    {
     "data": {
      "image/png": "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\n",
      "text/plain": [
       "<Figure size 576x432 with 1 Axes>"
      ]
     },
     "metadata": {
      "needs_background": "light"
     },
     "output_type": "display_data"
    }
   ],
   "source": [
    "# cumulative cases\n",
    "plt.figure(figsize=(8,6))\n",
    "g=sns.lineplot(x=\"date\", y=\"cases\",\n",
    "             data=df_merge)\n",
    "locator = mdates.AutoDateLocator()\n",
    "formatter = mdates.ConciseDateFormatter(locator,formats=[\"\",\"%b\", '%d', '%H:%M', '%H:%M', '%S.%f'],show_offset=False)\n",
    "g.xaxis.set_major_locator(locator)\n",
    "g.xaxis.set_major_formatter(formatter)\n",
    "g.set_xlim(df_merge['date'].min(),df_merge['date'].max())\n",
    "g.set_xlabel('Date')\n",
    "g.set_ylabel('Average cumulative cases per county')\n",
    "plt.show()"
   ]
  },
  {
   "cell_type": "code",
   "execution_count": 15,
   "metadata": {},
   "outputs": [
    {
     "data": {
      "image/png": "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\n",
      "text/plain": [
       "<Figure size 576x432 with 1 Axes>"
      ]
     },
     "metadata": {
      "needs_background": "light"
     },
     "output_type": "display_data"
    }
   ],
   "source": [
    "# new cases\n",
    "plt.figure(figsize=(8,6))\n",
    "g=sns.lineplot(x=\"date\", y=\"new_cases\",\n",
    "             data=df_merge)\n",
    "locator = mdates.AutoDateLocator()\n",
    "formatter = mdates.ConciseDateFormatter(locator,formats=[\"\",\"%b\", '%d', '%H:%M', '%H:%M', '%S.%f'],show_offset=False)\n",
    "g.xaxis.set_major_locator(locator)\n",
    "g.xaxis.set_major_formatter(formatter)\n",
    "g.set_xlim(df_merge['date'].min(),df_merge['date'].max())\n",
    "g.set_xlabel('Date')\n",
    "g.set_ylabel('Average daily new cases per county')\n",
    "plt.show()"
   ]
  },
  {
   "cell_type": "markdown",
   "metadata": {},
   "source": [
    "We see a clear weekly circular patterns in the newly confirmed cases."
   ]
  },
  {
   "cell_type": "markdown",
   "metadata": {},
   "source": [
    "## Policies"
   ]
  },
  {
   "cell_type": "code",
   "execution_count": 16,
   "metadata": {},
   "outputs": [
    {
     "data": {
      "image/png": "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\n",
      "text/plain": [
       "<Figure size 576x432 with 1 Axes>"
      ]
     },
     "metadata": {
      "needs_background": "light"
     },
     "output_type": "display_data"
    }
   ],
   "source": [
    "plt.figure(figsize=(8,6))\n",
    "g=sns.lineplot(x=\"date\", y=\"policy_home\",ci=None,label=\"Stay at home\",\n",
    "             data=df_merge)\n",
    "sns.lineplot(x=\"date\", y=\"policy_school\",ci=None,label=\"School closure\",\n",
    "             data=df_merge)\n",
    "sns.lineplot(x=\"date\", y=\"policy_business\",ci=None,label=\"Non-essential business closure\",\n",
    "             data=df_merge)\n",
    "sns.lineplot(x=\"date\", y=\"policy_restaurant\",ci=None,label=\"Restaurant closure\",\n",
    "             data=df_merge)\n",
    "sns.lineplot(x=\"date\", y=\"policy_bar\",ci=None,label=\"Bar closure\",\n",
    "             data=df_merge)\n",
    "sns.lineplot(x=\"date\", y=\"policy_theater\",ci=None,label=\"Theater closure\",\n",
    "             data=df_merge)\n",
    "sns.lineplot(x=\"date\", y=\"policy_gym\",ci=None,label=\"Gym closure\",\n",
    "             data=df_merge)\n",
    "sns.lineplot(x=\"date\", y=\"policy_facemask\",ci=None,label=\"Facemask mandate\",\n",
    "             data=df_merge)\n",
    "\n",
    "\n",
    "locator = mdates.AutoDateLocator()\n",
    "formatter = mdates.ConciseDateFormatter(locator,formats=[\"\",\"%b\", '%d', '%H:%M', '%H:%M', '%S.%f'],show_offset=False)\n",
    "g.xaxis.set_major_locator(locator)\n",
    "g.xaxis.set_major_formatter(formatter)\n",
    "g.set_xlim(df_merge['date'].min(),df_merge['date'].max())\n",
    "g.set_xlabel('Date')\n",
    "g.set_ylabel('Proportion of counties under each policy')\n",
    "plt.legend(fontsize='large',bbox_to_anchor=(1.05, 1),loc='upper left')\n",
    "plt.show()"
   ]
  },
  {
   "cell_type": "markdown",
   "metadata": {},
   "source": [
    "# Correlational Analysis"
   ]
  },
  {
   "cell_type": "markdown",
   "metadata": {},
   "source": [
    "Plot the case growth by early and late adopter of \"Stay-at-home\"/\"Shelter-in-place\" policy."
   ]
  },
  {
   "cell_type": "code",
   "execution_count": 17,
   "metadata": {},
   "outputs": [],
   "source": [
    "medium_order=df_merge['stay_at_home'].astype('datetime64[ns]').quantile(.5)\n",
    "df_merge['early_adopter']=np.where((df_merge['stay_at_home'].astype('datetime64[ns]')<medium_order)\n",
    "                                   & df_merge['stay_at_home'].notna()==True,1,0)\n",
    "df_merge['late_adopter']=np.where((df_merge['stay_at_home'].astype('datetime64[ns]')>=medium_order)\n",
    "                                   & df_merge['stay_at_home'].notna()==True,1,0)\n",
    "df_merge['never_adopter']=np.where(df_merge['stay_at_home'].notna()==False,1,0)"
   ]
  },
  {
   "cell_type": "code",
   "execution_count": 18,
   "metadata": {
    "scrolled": true
   },
   "outputs": [
    {
     "data": {
      "image/png": "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\n",
      "text/plain": [
       "<Figure size 576x432 with 1 Axes>"
      ]
     },
     "metadata": {
      "needs_background": "light"
     },
     "output_type": "display_data"
    }
   ],
   "source": [
    "plt.figure(figsize=(8,6))\n",
    "g=sns.lineplot(x=\"date\", y=\"new_cases\",ci=None,label=\"Early adopter\",\n",
    "             data=df_merge[df_merge['early_adopter']==1])\n",
    "sns.lineplot(x=\"date\", y=\"new_cases\",ci=None,label=\"Late adopter\",\n",
    "             data=df_merge[df_merge['late_adopter']==1])\n",
    "sns.lineplot(x=\"date\", y=\"new_cases\",ci=None,label=\"Never adopter\",\n",
    "             data=df_merge[df_merge['never_adopter']==1])\n",
    "\n",
    "locator = mdates.AutoDateLocator()\n",
    "formatter = mdates.ConciseDateFormatter(locator,formats=[\"\",\"%b\", '%d', '%H:%M', '%H:%M', '%S.%f'],show_offset=False)\n",
    "g.xaxis.set_major_locator(locator)\n",
    "g.xaxis.set_major_formatter(formatter)\n",
    "g.set_xlim(df_merge['date'].min(),df_merge['date'].max())\n",
    "g.set_xlabel('Date')\n",
    "g.set_ylabel('Daily new cases per county')\n",
    "plt.legend(fontsize='large',bbox_to_anchor=(1.05, 1),loc='upper left')\n",
    "plt.show()"
   ]
  },
  {
   "cell_type": "code",
   "execution_count": 19,
   "metadata": {},
   "outputs": [
    {
     "data": {
      "image/png": "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\n",
      "text/plain": [
       "<Figure size 576x432 with 1 Axes>"
      ]
     },
     "metadata": {
      "needs_background": "light"
     },
     "output_type": "display_data"
    }
   ],
   "source": [
    "plt.figure(figsize=(8,6))\n",
    "g=sns.lineplot(x=\"date\", y=\"cases_7day_ave\",ci=None,label=\"Early adopter\",\n",
    "             data=df_merge[df_merge['early_adopter']==1])\n",
    "sns.lineplot(x=\"date\", y=\"cases_7day_ave\",ci=None,label=\"Late adopter\",\n",
    "             data=df_merge[df_merge['late_adopter']==1])\n",
    "sns.lineplot(x=\"date\", y=\"cases_7day_ave\",ci=None,label=\"Never adopter\",\n",
    "             data=df_merge[df_merge['never_adopter']==1])\n",
    "\n",
    "locator = mdates.AutoDateLocator()\n",
    "formatter = mdates.ConciseDateFormatter(locator,formats=[\"\",\"%b\", '%d', '%H:%M', '%H:%M', '%S.%f'],show_offset=False)\n",
    "g.xaxis.set_major_locator(locator)\n",
    "g.xaxis.set_major_formatter(formatter)\n",
    "g.set_xlabel('Date')\n",
    "g.set_ylabel('Daily new cases per county (7-day moving average)')\n",
    "plt.legend(fontsize='large',bbox_to_anchor=(1.05, 1),loc='upper left')\n",
    "plt.show()"
   ]
  },
  {
   "cell_type": "code",
<<<<<<< .mine
   "execution_count": 14,
=======
   "execution_count": 20,
>>>>>>> .theirs
   "metadata": {},
<<<<<<< .mine
   "outputs": [],

























=======
   "outputs": [
    {
     "name": "stderr",
     "output_type": "stream",
     "text": [
      "E:\\ProjectSoftware\\anaconda3\\envs\\cs109a\\lib\\site-packages\\ipykernel_launcher.py:2: SettingWithCopyWarning: \n",
      "A value is trying to be set on a copy of a slice from a DataFrame.\n",
      "Try using .loc[row_indexer,col_indexer] = value instead\n",
      "\n",
      "See the caveats in the documentation: https://pandas.pydata.org/pandas-docs/stable/user_guide/indexing.html#returning-a-view-versus-a-copy\n",
      "  \n",
      "E:\\ProjectSoftware\\anaconda3\\envs\\cs109a\\lib\\site-packages\\ipykernel_launcher.py:3: SettingWithCopyWarning: \n",
      "A value is trying to be set on a copy of a slice from a DataFrame.\n",
      "Try using .loc[row_indexer,col_indexer] = value instead\n",
      "\n",
      "See the caveats in the documentation: https://pandas.pydata.org/pandas-docs/stable/user_guide/indexing.html#returning-a-view-versus-a-copy\n",
      "  This is separate from the ipykernel package so we can avoid doing imports until\n",
      "E:\\ProjectSoftware\\anaconda3\\envs\\cs109a\\lib\\site-packages\\ipykernel_launcher.py:4: SettingWithCopyWarning: \n",
      "A value is trying to be set on a copy of a slice from a DataFrame.\n",
      "Try using .loc[row_indexer,col_indexer] = value instead\n",
      "\n",
      "See the caveats in the documentation: https://pandas.pydata.org/pandas-docs/stable/user_guide/indexing.html#returning-a-view-versus-a-copy\n",
      "  after removing the cwd from sys.path.\n"
     ]
    }
   ],
>>>>>>> .theirs
   "source": [
    "df_merge['log_cum_cases']=np.log(df_merge['cases']+1)\n",
    "df_merge['log_case_diff']=df_merge['log_cum_cases'].groupby(df_merge['fips']).diff().fillna(0)\n",
    "df_merge['date']=pd.to_datetime(df_merge['date'],format='%Y-%m-%d')"
   ]
  },
  {
   "cell_type": "code",
<<<<<<< .mine
   "execution_count": 15,
=======
   "execution_count": 21,
>>>>>>> .theirs
   "metadata": {},
   "outputs": [],
   "source": [
    "# df_complete=df_merge.dropna(subset=['cases_7day_ave'])\n",
    "# df_complete['log_cases']=np.log(df_complete['new_cases']+1)\n",
    "# df_complete['log_case_diff']=df_complete['log_new_cases'].groupby(df_complete['fips']).diff().fillna(0)\n",
    "# df_complete['date']=pd.to_datetime(df_complete['date'],format='%Y-%m-%d')"
   ]
  },
  {
   "cell_type": "code",
   "execution_count": 19,
   "metadata": {},
   "outputs": [
    {
     "name": "stdout",
     "output_type": "stream",
     "text": [
      "[-0.00485617  0.01667805  0.00191768  0.0306465  -0.00077717  0.00401834\n",
      " -0.00483099 -0.01038085]\n"
     ]
    }
   ],
   "source": [
    "X=df_merge[['policy_home','policy_school','policy_business','policy_restaurant',\n",
    "              'policy_gym','policy_bar','policy_theater','policy_facemask']]\n",
    "y=df_merge['log_case_diff']\n",
    "\n",
    "model = LinearRegression()\n",
    "model.fit(X,y)\n",
    "print(model.coef_)"
   ]
  },
  {
   "cell_type": "code",
<<<<<<< .mine
   "execution_count": 21,
=======
   "execution_count": 22,
>>>>>>> .theirs
   "metadata": {},
   "outputs": [
    {
     "name": "stdout",
     "output_type": "stream",
     "text": [
      "                            OLS Regression Results                            \n",
      "==============================================================================\n",
<<<<<<< .mine
      "Dep. Variable:          log_case_diff   R-squared:                       0.021\n",
      "Model:                            OLS   Adj. R-squared:                  0.021\n",
      "Method:                 Least Squares   F-statistic:                     2566.\n",
      "Date:                Sun, 08 Nov 2020   Prob (F-statistic):               0.00\n",
      "Time:                        09:15:49   Log-Likelihood:             7.9798e+05\n",
      "No. Observations:              945220   AIC:                        -1.596e+06\n",
      "Df Residuals:                  945211   BIC:                        -1.596e+06\n",
=======
      "Dep. Variable:          log_case_diff   R-squared:                       0.000\n",
      "Model:                            OLS   Adj. R-squared:                  0.000\n",
      "Method:                 Least Squares   F-statistic:                     3.789\n",
      "Date:                Sat, 14 Nov 2020   Prob (F-statistic):           0.000186\n",
      "Time:                        21:07:24   Log-Likelihood:            -1.1435e+06\n",
      "No. Observations:              942390   AIC:                         2.287e+06\n",
      "Df Residuals:                  942381   BIC:                         2.287e+06\n",
>>>>>>> .theirs
      "Df Model:                           8                                         \n",
      "Covariance Type:            nonrobust                                         \n",
      "=====================================================================================\n",
      "                        coef    std err          t      P>|t|      [0.025      0.975]\n",
      "-------------------------------------------------------------------------------------\n",
      "Intercept             0.0071      0.000     31.549      0.000       0.007       0.008\n",
      "policy_home          -0.0049      0.001     -9.087      0.000      -0.006      -0.004\n",
      "policy_school         0.0167      0.000     56.287      0.000       0.016       0.017\n",
      "policy_business       0.0019      0.001      3.098      0.002       0.001       0.003\n",
      "policy_restaurant     0.0306      0.001     47.940      0.000       0.029       0.032\n",
      "policy_gym           -0.0008      0.000     -1.594      0.111      -0.002       0.000\n",
      "policy_bar            0.0040      0.000      8.505      0.000       0.003       0.005\n",
      "policy_theater       -0.0048      0.000    -10.600      0.000      -0.006      -0.004\n",
      "policy_facemask      -0.0104      0.000    -38.755      0.000      -0.011      -0.010\n",
      "==============================================================================\n",
      "Omnibus:                  1107690.038   Durbin-Watson:                   2.056\n",
      "Prob(Omnibus):                  0.000   Jarque-Bera (JB):      18420278409.093\n",
      "Skew:                           4.646   Prob(JB):                         0.00\n",
      "Kurtosis:                     686.828   Cond. No.                         11.0\n",
      "==============================================================================\n",
      "\n",
      "Notes:\n",
      "[1] Standard Errors assume that the covariance matrix of the errors is correctly specified.\n"
     ]
    }
   ],
   "source": [
    "import statsmodels.formula.api as sm\n",
    "normal_ols = sm.ols(formula='log_case_diff ~ policy_home + policy_school+ policy_business+ policy_restaurant+policy_gym+policy_bar+policy_theater+ policy_facemask',\n",
    "                          data=df_merge).fit()\n",
    "print(normal_ols.summary())"
   ]
  },
  {
   "cell_type": "code",
<<<<<<< .mine
   "execution_count": 41,
=======
   "execution_count": 23,
>>>>>>> .theirs
   "metadata": {},
<<<<<<< .mine
   "outputs": [],

























=======
   "outputs": [
    {
     "name": "stdout",
     "output_type": "stream",
     "text": [
      "Collecting linearmodels\n",
      "  Downloading linearmodels-4.17-cp37-cp37m-win_amd64.whl (1.6 MB)\n",
      "Requirement already satisfied: pandas>=0.23 in e:\\projectsoftware\\anaconda3\\envs\\cs109a\\lib\\site-packages (from linearmodels) (1.1.1)\n",
      "Requirement already satisfied: numpy>=1.15 in e:\\projectsoftware\\anaconda3\\envs\\cs109a\\lib\\site-packages (from linearmodels) (1.19.1)\n",
      "Collecting mypy-extensions>=0.4\n",
      "  Downloading mypy_extensions-0.4.3-py2.py3-none-any.whl (4.5 kB)\n",
      "Requirement already satisfied: statsmodels>=0.9 in e:\\projectsoftware\\anaconda3\\envs\\cs109a\\lib\\site-packages (from linearmodels) (0.12.0)\n",
      "Requirement already satisfied: scipy>=1 in e:\\projectsoftware\\anaconda3\\envs\\cs109a\\lib\\site-packages (from linearmodels) (1.5.2)\n",
      "Collecting Cython>=0.29.14\n",
      "  Downloading Cython-0.29.21-cp37-cp37m-win_amd64.whl (1.6 MB)\n",
      "Collecting property-cached>=1.6.3\n",
      "  Downloading property_cached-1.6.4-py2.py3-none-any.whl (7.8 kB)\n",
      "Requirement already satisfied: patsy in e:\\projectsoftware\\anaconda3\\envs\\cs109a\\lib\\site-packages (from linearmodels) (0.5.1)\n",
      "Requirement already satisfied: pytz>=2017.2 in e:\\projectsoftware\\anaconda3\\envs\\cs109a\\lib\\site-packages (from pandas>=0.23->linearmodels) (2020.1)\n",
      "Requirement already satisfied: python-dateutil>=2.7.3 in e:\\projectsoftware\\anaconda3\\envs\\cs109a\\lib\\site-packages (from pandas>=0.23->linearmodels) (2.8.1)\n",
      "Requirement already satisfied: six in e:\\projectsoftware\\anaconda3\\envs\\cs109a\\lib\\site-packages (from patsy->linearmodels) (1.15.0)\n",
      "Installing collected packages: mypy-extensions, Cython, property-cached, linearmodels\n",
      "Successfully installed Cython-0.29.21 linearmodels-4.17 mypy-extensions-0.4.3 property-cached-1.6.4\n"
     ]
    }
   ],
>>>>>>> .theirs
   "source": [
    "# !pip3 install linearmodels"
   ]
  },
  {
   "cell_type": "code",
<<<<<<< .mine
   "execution_count": 42,
=======
   "execution_count": 24,
>>>>>>> .theirs
   "metadata": {},
<<<<<<< .mine
   "outputs": [],
































































































































































































































































































































































































































=======
   "outputs": [
    {
     "data": {
      "text/html": [
       "<div>\n",
       "<style scoped>\n",
       "    .dataframe tbody tr th:only-of-type {\n",
       "        vertical-align: middle;\n",
       "    }\n",
       "\n",
       "    .dataframe tbody tr th {\n",
       "        vertical-align: top;\n",
       "    }\n",
       "\n",
       "    .dataframe thead th {\n",
       "        text-align: right;\n",
       "    }\n",
       "</style>\n",
       "<table border=\"1\" class=\"dataframe\">\n",
       "  <thead>\n",
       "    <tr style=\"text-align: right;\">\n",
       "      <th></th>\n",
       "      <th></th>\n",
       "      <th>county</th>\n",
       "      <th>state</th>\n",
       "      <th>lat</th>\n",
       "      <th>long</th>\n",
       "      <th>cases</th>\n",
       "      <th>state_code</th>\n",
       "      <th>deaths</th>\n",
       "      <th>state_fips</th>\n",
       "      <th>emergency</th>\n",
       "      <th>stay_at_home</th>\n",
       "      <th>gathering</th>\n",
       "      <th>end_stay_at_home</th>\n",
       "      <th>close_school</th>\n",
       "      <th>close_nonessential_business</th>\n",
       "      <th>close_restaurant</th>\n",
       "      <th>close_gym</th>\n",
       "      <th>close_theater</th>\n",
       "      <th>close_bar</th>\n",
       "      <th>reopen_business</th>\n",
       "      <th>reopen_restaurant</th>\n",
       "      <th>reopen_gym</th>\n",
       "      <th>reopen_theater</th>\n",
       "      <th>reopen_bar</th>\n",
       "      <th>facemask</th>\n",
       "      <th>new_cases</th>\n",
       "      <th>new_deaths</th>\n",
       "      <th>cases_7day_ave</th>\n",
       "      <th>policy_home</th>\n",
       "      <th>policy_school</th>\n",
       "      <th>policy_business</th>\n",
       "      <th>policy_restaurant</th>\n",
       "      <th>policy_facemask</th>\n",
       "      <th>policy_gym</th>\n",
       "      <th>policy_theater</th>\n",
       "      <th>policy_bar</th>\n",
       "      <th>early_adopter</th>\n",
       "      <th>late_adopter</th>\n",
       "      <th>never_adopter</th>\n",
       "      <th>log_new_cases</th>\n",
       "      <th>log_case_diff</th>\n",
       "    </tr>\n",
       "    <tr>\n",
       "      <th>fips</th>\n",
       "      <th>date</th>\n",
       "      <th></th>\n",
       "      <th></th>\n",
       "      <th></th>\n",
       "      <th></th>\n",
       "      <th></th>\n",
       "      <th></th>\n",
       "      <th></th>\n",
       "      <th></th>\n",
       "      <th></th>\n",
       "      <th></th>\n",
       "      <th></th>\n",
       "      <th></th>\n",
       "      <th></th>\n",
       "      <th></th>\n",
       "      <th></th>\n",
       "      <th></th>\n",
       "      <th></th>\n",
       "      <th></th>\n",
       "      <th></th>\n",
       "      <th></th>\n",
       "      <th></th>\n",
       "      <th></th>\n",
       "      <th></th>\n",
       "      <th></th>\n",
       "      <th></th>\n",
       "      <th></th>\n",
       "      <th></th>\n",
       "      <th></th>\n",
       "      <th></th>\n",
       "      <th></th>\n",
       "      <th></th>\n",
       "      <th></th>\n",
       "      <th></th>\n",
       "      <th></th>\n",
       "      <th></th>\n",
       "      <th></th>\n",
       "      <th></th>\n",
       "      <th></th>\n",
       "      <th></th>\n",
       "      <th></th>\n",
       "    </tr>\n",
       "  </thead>\n",
       "  <tbody>\n",
       "    <tr>\n",
       "      <th rowspan=\"5\" valign=\"top\">1001.0</th>\n",
       "      <th>2020-03-01</th>\n",
       "      <td>Autauga</td>\n",
       "      <td>Alabama</td>\n",
       "      <td>32.54</td>\n",
       "      <td>-86.644</td>\n",
       "      <td>0</td>\n",
       "      <td>AL</td>\n",
       "      <td>0</td>\n",
       "      <td>1.0</td>\n",
       "      <td>2020-03-13</td>\n",
       "      <td>2020-04-04</td>\n",
       "      <td>0.0</td>\n",
       "      <td>2020-04-30</td>\n",
       "      <td>2020-03-20</td>\n",
       "      <td>2020-03-28</td>\n",
       "      <td>2020-03-19</td>\n",
       "      <td>2020-03-28</td>\n",
       "      <td>2020-03-28</td>\n",
       "      <td>2020-03-19</td>\n",
       "      <td>2020-04-30</td>\n",
       "      <td>2020-05-11</td>\n",
       "      <td>2020-05-11</td>\n",
       "      <td>2020-05-22</td>\n",
       "      <td>2020-05-11</td>\n",
       "      <td>2020-07-16</td>\n",
       "      <td>0.0</td>\n",
       "      <td>0.0</td>\n",
       "      <td>0.0</td>\n",
       "      <td>0</td>\n",
       "      <td>0</td>\n",
       "      <td>0</td>\n",
       "      <td>0</td>\n",
       "      <td>0</td>\n",
       "      <td>0</td>\n",
       "      <td>0</td>\n",
       "      <td>0</td>\n",
       "      <td>0</td>\n",
       "      <td>1</td>\n",
       "      <td>0</td>\n",
       "      <td>0.0</td>\n",
       "      <td>0.0</td>\n",
       "    </tr>\n",
       "    <tr>\n",
       "      <th>2020-03-02</th>\n",
       "      <td>Autauga</td>\n",
       "      <td>Alabama</td>\n",
       "      <td>32.54</td>\n",
       "      <td>-86.644</td>\n",
       "      <td>0</td>\n",
       "      <td>AL</td>\n",
       "      <td>0</td>\n",
       "      <td>1.0</td>\n",
       "      <td>2020-03-13</td>\n",
       "      <td>2020-04-04</td>\n",
       "      <td>0.0</td>\n",
       "      <td>2020-04-30</td>\n",
       "      <td>2020-03-20</td>\n",
       "      <td>2020-03-28</td>\n",
       "      <td>2020-03-19</td>\n",
       "      <td>2020-03-28</td>\n",
       "      <td>2020-03-28</td>\n",
       "      <td>2020-03-19</td>\n",
       "      <td>2020-04-30</td>\n",
       "      <td>2020-05-11</td>\n",
       "      <td>2020-05-11</td>\n",
       "      <td>2020-05-22</td>\n",
       "      <td>2020-05-11</td>\n",
       "      <td>2020-07-16</td>\n",
       "      <td>0.0</td>\n",
       "      <td>0.0</td>\n",
       "      <td>0.0</td>\n",
       "      <td>0</td>\n",
       "      <td>0</td>\n",
       "      <td>0</td>\n",
       "      <td>0</td>\n",
       "      <td>0</td>\n",
       "      <td>0</td>\n",
       "      <td>0</td>\n",
       "      <td>0</td>\n",
       "      <td>0</td>\n",
       "      <td>1</td>\n",
       "      <td>0</td>\n",
       "      <td>0.0</td>\n",
       "      <td>0.0</td>\n",
       "    </tr>\n",
       "    <tr>\n",
       "      <th>2020-03-03</th>\n",
       "      <td>Autauga</td>\n",
       "      <td>Alabama</td>\n",
       "      <td>32.54</td>\n",
       "      <td>-86.644</td>\n",
       "      <td>0</td>\n",
       "      <td>AL</td>\n",
       "      <td>0</td>\n",
       "      <td>1.0</td>\n",
       "      <td>2020-03-13</td>\n",
       "      <td>2020-04-04</td>\n",
       "      <td>0.0</td>\n",
       "      <td>2020-04-30</td>\n",
       "      <td>2020-03-20</td>\n",
       "      <td>2020-03-28</td>\n",
       "      <td>2020-03-19</td>\n",
       "      <td>2020-03-28</td>\n",
       "      <td>2020-03-28</td>\n",
       "      <td>2020-03-19</td>\n",
       "      <td>2020-04-30</td>\n",
       "      <td>2020-05-11</td>\n",
       "      <td>2020-05-11</td>\n",
       "      <td>2020-05-22</td>\n",
       "      <td>2020-05-11</td>\n",
       "      <td>2020-07-16</td>\n",
       "      <td>0.0</td>\n",
       "      <td>0.0</td>\n",
       "      <td>0.0</td>\n",
       "      <td>0</td>\n",
       "      <td>0</td>\n",
       "      <td>0</td>\n",
       "      <td>0</td>\n",
       "      <td>0</td>\n",
       "      <td>0</td>\n",
       "      <td>0</td>\n",
       "      <td>0</td>\n",
       "      <td>0</td>\n",
       "      <td>1</td>\n",
       "      <td>0</td>\n",
       "      <td>0.0</td>\n",
       "      <td>0.0</td>\n",
       "    </tr>\n",
       "    <tr>\n",
       "      <th>2020-03-04</th>\n",
       "      <td>Autauga</td>\n",
       "      <td>Alabama</td>\n",
       "      <td>32.54</td>\n",
       "      <td>-86.644</td>\n",
       "      <td>0</td>\n",
       "      <td>AL</td>\n",
       "      <td>0</td>\n",
       "      <td>1.0</td>\n",
       "      <td>2020-03-13</td>\n",
       "      <td>2020-04-04</td>\n",
       "      <td>0.0</td>\n",
       "      <td>2020-04-30</td>\n",
       "      <td>2020-03-20</td>\n",
       "      <td>2020-03-28</td>\n",
       "      <td>2020-03-19</td>\n",
       "      <td>2020-03-28</td>\n",
       "      <td>2020-03-28</td>\n",
       "      <td>2020-03-19</td>\n",
       "      <td>2020-04-30</td>\n",
       "      <td>2020-05-11</td>\n",
       "      <td>2020-05-11</td>\n",
       "      <td>2020-05-22</td>\n",
       "      <td>2020-05-11</td>\n",
       "      <td>2020-07-16</td>\n",
       "      <td>0.0</td>\n",
       "      <td>0.0</td>\n",
       "      <td>0.0</td>\n",
       "      <td>0</td>\n",
       "      <td>0</td>\n",
       "      <td>0</td>\n",
       "      <td>0</td>\n",
       "      <td>0</td>\n",
       "      <td>0</td>\n",
       "      <td>0</td>\n",
       "      <td>0</td>\n",
       "      <td>0</td>\n",
       "      <td>1</td>\n",
       "      <td>0</td>\n",
       "      <td>0.0</td>\n",
       "      <td>0.0</td>\n",
       "    </tr>\n",
       "    <tr>\n",
       "      <th>2020-03-05</th>\n",
       "      <td>Autauga</td>\n",
       "      <td>Alabama</td>\n",
       "      <td>32.54</td>\n",
       "      <td>-86.644</td>\n",
       "      <td>0</td>\n",
       "      <td>AL</td>\n",
       "      <td>0</td>\n",
       "      <td>1.0</td>\n",
       "      <td>2020-03-13</td>\n",
       "      <td>2020-04-04</td>\n",
       "      <td>0.0</td>\n",
       "      <td>2020-04-30</td>\n",
       "      <td>2020-03-20</td>\n",
       "      <td>2020-03-28</td>\n",
       "      <td>2020-03-19</td>\n",
       "      <td>2020-03-28</td>\n",
       "      <td>2020-03-28</td>\n",
       "      <td>2020-03-19</td>\n",
       "      <td>2020-04-30</td>\n",
       "      <td>2020-05-11</td>\n",
       "      <td>2020-05-11</td>\n",
       "      <td>2020-05-22</td>\n",
       "      <td>2020-05-11</td>\n",
       "      <td>2020-07-16</td>\n",
       "      <td>0.0</td>\n",
       "      <td>0.0</td>\n",
       "      <td>0.0</td>\n",
       "      <td>0</td>\n",
       "      <td>0</td>\n",
       "      <td>0</td>\n",
       "      <td>0</td>\n",
       "      <td>0</td>\n",
       "      <td>0</td>\n",
       "      <td>0</td>\n",
       "      <td>0</td>\n",
       "      <td>0</td>\n",
       "      <td>1</td>\n",
       "      <td>0</td>\n",
       "      <td>0.0</td>\n",
       "      <td>0.0</td>\n",
       "    </tr>\n",
       "  </tbody>\n",
       "</table>\n",
       "</div>"
      ],
      "text/plain": [
       "                    county    state    lat    long  cases state_code  deaths  \\\n",
       "fips   date                                                                    \n",
       "1001.0 2020-03-01  Autauga  Alabama  32.54 -86.644      0         AL       0   \n",
       "       2020-03-02  Autauga  Alabama  32.54 -86.644      0         AL       0   \n",
       "       2020-03-03  Autauga  Alabama  32.54 -86.644      0         AL       0   \n",
       "       2020-03-04  Autauga  Alabama  32.54 -86.644      0         AL       0   \n",
       "       2020-03-05  Autauga  Alabama  32.54 -86.644      0         AL       0   \n",
       "\n",
       "                   state_fips  emergency stay_at_home  gathering  \\\n",
       "fips   date                                                        \n",
       "1001.0 2020-03-01         1.0 2020-03-13   2020-04-04        0.0   \n",
       "       2020-03-02         1.0 2020-03-13   2020-04-04        0.0   \n",
       "       2020-03-03         1.0 2020-03-13   2020-04-04        0.0   \n",
       "       2020-03-04         1.0 2020-03-13   2020-04-04        0.0   \n",
       "       2020-03-05         1.0 2020-03-13   2020-04-04        0.0   \n",
       "\n",
       "                  end_stay_at_home close_school close_nonessential_business  \\\n",
       "fips   date                                                                   \n",
       "1001.0 2020-03-01       2020-04-30   2020-03-20                  2020-03-28   \n",
       "       2020-03-02       2020-04-30   2020-03-20                  2020-03-28   \n",
       "       2020-03-03       2020-04-30   2020-03-20                  2020-03-28   \n",
       "       2020-03-04       2020-04-30   2020-03-20                  2020-03-28   \n",
       "       2020-03-05       2020-04-30   2020-03-20                  2020-03-28   \n",
       "\n",
       "                  close_restaurant  close_gym close_theater  close_bar  \\\n",
       "fips   date                                                              \n",
       "1001.0 2020-03-01       2020-03-19 2020-03-28    2020-03-28 2020-03-19   \n",
       "       2020-03-02       2020-03-19 2020-03-28    2020-03-28 2020-03-19   \n",
       "       2020-03-03       2020-03-19 2020-03-28    2020-03-28 2020-03-19   \n",
       "       2020-03-04       2020-03-19 2020-03-28    2020-03-28 2020-03-19   \n",
       "       2020-03-05       2020-03-19 2020-03-28    2020-03-28 2020-03-19   \n",
       "\n",
       "                  reopen_business reopen_restaurant reopen_gym reopen_theater  \\\n",
       "fips   date                                                                     \n",
       "1001.0 2020-03-01      2020-04-30        2020-05-11 2020-05-11     2020-05-22   \n",
       "       2020-03-02      2020-04-30        2020-05-11 2020-05-11     2020-05-22   \n",
       "       2020-03-03      2020-04-30        2020-05-11 2020-05-11     2020-05-22   \n",
       "       2020-03-04      2020-04-30        2020-05-11 2020-05-11     2020-05-22   \n",
       "       2020-03-05      2020-04-30        2020-05-11 2020-05-11     2020-05-22   \n",
       "\n",
       "                  reopen_bar   facemask  new_cases  new_deaths  \\\n",
       "fips   date                                                      \n",
       "1001.0 2020-03-01 2020-05-11 2020-07-16        0.0         0.0   \n",
       "       2020-03-02 2020-05-11 2020-07-16        0.0         0.0   \n",
       "       2020-03-03 2020-05-11 2020-07-16        0.0         0.0   \n",
       "       2020-03-04 2020-05-11 2020-07-16        0.0         0.0   \n",
       "       2020-03-05 2020-05-11 2020-07-16        0.0         0.0   \n",
       "\n",
       "                   cases_7day_ave  policy_home  policy_school  \\\n",
       "fips   date                                                     \n",
       "1001.0 2020-03-01             0.0            0              0   \n",
       "       2020-03-02             0.0            0              0   \n",
       "       2020-03-03             0.0            0              0   \n",
       "       2020-03-04             0.0            0              0   \n",
       "       2020-03-05             0.0            0              0   \n",
       "\n",
       "                   policy_business  policy_restaurant  policy_facemask  \\\n",
       "fips   date                                                              \n",
       "1001.0 2020-03-01                0                  0                0   \n",
       "       2020-03-02                0                  0                0   \n",
       "       2020-03-03                0                  0                0   \n",
       "       2020-03-04                0                  0                0   \n",
       "       2020-03-05                0                  0                0   \n",
       "\n",
       "                   policy_gym  policy_theater  policy_bar  early_adopter  \\\n",
       "fips   date                                                                \n",
       "1001.0 2020-03-01           0               0           0              0   \n",
       "       2020-03-02           0               0           0              0   \n",
       "       2020-03-03           0               0           0              0   \n",
       "       2020-03-04           0               0           0              0   \n",
       "       2020-03-05           0               0           0              0   \n",
       "\n",
       "                   late_adopter  never_adopter  log_new_cases  log_case_diff  \n",
       "fips   date                                                                   \n",
       "1001.0 2020-03-01             1              0            0.0            0.0  \n",
       "       2020-03-02             1              0            0.0            0.0  \n",
       "       2020-03-03             1              0            0.0            0.0  \n",
       "       2020-03-04             1              0            0.0            0.0  \n",
       "       2020-03-05             1              0            0.0            0.0  "
      ]
     },
     "execution_count": 24,
     "metadata": {},
     "output_type": "execute_result"
    }
   ],
>>>>>>> .theirs
   "source": [
    "# from linearmodels.panel import PanelOLS\n",
    "\n",
    "# panel_data = df_merge.loc[(df_merge['date']>=pd.to_datetime(\"2020-03-01\",format='%Y-%m-%d')) &\n",
    "#                              (df_merge['date']<=pd.to_datetime(\"2020-05-30\",format='%Y-%m-%d'))].set_index(['fips', 'date'])\n",
    "# panel_data.head()"
   ]
  },
  {
   "cell_type": "code",
<<<<<<< .mine
   "execution_count": 28,
=======
   "execution_count": 25,
>>>>>>> .theirs
   "metadata": {},
<<<<<<< .mine
   "outputs": [],





















































=======
   "outputs": [
    {
     "name": "stderr",
     "output_type": "stream",
     "text": [
      "E:\\ProjectSoftware\\anaconda3\\envs\\cs109a\\lib\\site-packages\\linearmodels\\panel\\data.py:98: FutureWarning: is_categorical is deprecated and will be removed in a future version.  Use is_categorical_dtype instead\n",
      "  if is_categorical(s):\n"
     ]
    },
    {
     "name": "stdout",
     "output_type": "stream",
     "text": [
      "                          PanelOLS Estimation Summary                           \n",
      "================================================================================\n",
      "Dep. Variable:          log_case_diff   R-squared:                        0.0001\n",
      "Estimator:                   PanelOLS   R-squared (Between):             -0.0255\n",
      "No. Observations:              303030   R-squared (Within):               0.0001\n",
      "Date:                Sat, Nov 14 2020   R-squared (Overall):              0.0001\n",
      "Time:                        21:07:58   Log-likelihood                -3.064e+05\n",
      "Cov. Estimator:            Unadjusted                                           \n",
      "                                        F-statistic:                      5.5819\n",
      "Entities:                        3330   P-value                           0.0000\n",
      "Avg Obs:                       91.000   Distribution:                F(8,299692)\n",
      "Min Obs:                       91.000                                           \n",
      "Max Obs:                       91.000   F-statistic (robust):             5.5819\n",
      "                                        P-value                           0.0000\n",
      "Time periods:                      91   Distribution:                F(8,299692)\n",
      "Avg Obs:                       3330.0                                           \n",
      "Min Obs:                       3330.0                                           \n",
      "Max Obs:                       3330.0                                           \n",
      "                                                                                \n",
      "                                 Parameter Estimates                                 \n",
      "=====================================================================================\n",
      "                   Parameter  Std. Err.     T-stat    P-value    Lower CI    Upper CI\n",
      "-------------------------------------------------------------------------------------\n",
      "policy_home          -0.0082     0.0049    -1.6761     0.0937     -0.0177      0.0014\n",
      "policy_school         0.0143     0.0046     3.1194     0.0018      0.0053      0.0232\n",
      "policy_business      -0.0074     0.0048    -1.5577     0.1193     -0.0168      0.0019\n",
      "policy_restaurant     0.0212     0.0054     3.9105     0.0001      0.0106      0.0318\n",
      "policy_gym           -0.0096     0.0057    -1.6812     0.0927     -0.0207      0.0016\n",
      "policy_bar           -0.0143     0.0055    -2.5789     0.0099     -0.0251     -0.0034\n",
      "policy_theater        0.0012     0.0054     0.2158     0.8292     -0.0095      0.0118\n",
      "policy_facemask      -0.0244     0.0064    -3.8300     0.0001     -0.0369     -0.0119\n",
      "=====================================================================================\n",
      "\n",
      "F-test for Poolability: 0.0387\n",
      "P-value: 1.0000\n",
      "Distribution: F(3329,299692)\n",
      "\n",
      "Included effects: Entity\n"
     ]
    }
   ],
>>>>>>> .theirs
   "source": [
    "# X=panel_data[['policy_home','policy_school','policy_business','policy_restaurant',\n",
    "#               'policy_gym','policy_bar','policy_theater','policy_facemask']]\n",
    "# y=panel_data['log_case_diff']\n",
    "# reg  = PanelOLS(y,X, entity_effects=True)\n",
    "# print(reg.fit())"
   ]
  },
  {
   "cell_type": "markdown",
   "metadata": {},
   "source": [
    "## PCA"
   ]
  },
  {
   "cell_type": "code",
<<<<<<< .mine
   "execution_count": 29,
=======
   "execution_count": 26,
>>>>>>> .theirs
   "metadata": {},
   "outputs": [],
   "source": [
    "X=df_merge[['policy_home','policy_school','policy_business','policy_restaurant',\n",
    "              'policy_gym','policy_bar','policy_theater','policy_facemask']]\n",
    "y=df_merge['log_case_diff']\n",
    "\n",
    "X_train, X_test, y_train, y_test  = train_test_split(\n",
    "    X, y, test_size=0.25, random_state = 109)"
   ]
  },
  {
   "cell_type": "code",
<<<<<<< .mine
   "execution_count": 36,
=======
   "execution_count": 27,
>>>>>>> .theirs
   "metadata": {},
   "outputs": [
    {
     "name": "stdout",
     "output_type": "stream",
     "text": [
      "Train PCA dimensions: (708915, 8)\n",
      "Test PCA dimensions: (236305, 8)\n"
     ]
    }
   ],
   "source": [
    "pca = PCA().fit(X_train)\n",
    "X_train_pca = pca.transform(X_train)\n",
    "X_test_pca = pca.transform(X_test)\n",
    "print('Train PCA dimensions:', X_train_pca.shape)\n",
    "print('Test PCA dimensions:', X_test_pca.shape)"
   ]
  },
  {
   "cell_type": "code",
<<<<<<< .mine
   "execution_count": 37,
=======
   "execution_count": 28,
>>>>>>> .theirs
   "metadata": {},
   "outputs": [
    {
     "name": "stdout",
     "output_type": "stream",
     "text": [
      "PCA1 explains 0.5458 of the variance, while PCA2 explains 0.2082.\n"
     ]
    }
   ],
   "source": [
    "var_pca1=pca.explained_variance_ratio_[0]\n",
    "var_pca2=pca.explained_variance_ratio_[1]\n",
    "print(f\"PCA1 explains {var_pca1.round(4)} of the variance, while PCA2 explains {var_pca2.round(4)}.\")"
   ]
  },
  {
   "cell_type": "markdown",
   "metadata": {},
   "source": [
    "This indicates that the social distancing policies are highly correlated in their implementation places and time, thus including them all may cause multi-collinearity problem.  "
   ]
  },
  {
   "cell_type": "code",
<<<<<<< .mine
   "execution_count": 38,
=======
   "execution_count": 29,
>>>>>>> .theirs
   "metadata": {},
   "outputs": [
    {
     "data": {
      "image/png": "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\n",
      "text/plain": [
       "<Figure size 720x432 with 1 Axes>"
      ]
     },
     "metadata": {
      "needs_background": "light"
     },
     "output_type": "display_data"
    }
   ],
   "source": [
    "plt.figure(figsize=(10,6))\n",
    "\n",
    "ratio = pca.explained_variance_ratio_\n",
    "plt.plot(np.cumsum(ratio), 'o-')\n",
    "plt.axhline(0.9,color='r')\n",
    "plt.title('Cumulative Sum of Explained Variance Ratio PCA', fontsize=14)\n",
    "plt.ylim(0,1.1)\n",
    "plt.ylabel('Cumulative Sum of Explained Variance Ratio')\n",
    "plt.xlabel(\"Number of PCA components involved\")\n",
    "\n",
    "plt.show()"
   ]
  },
  {
   "cell_type": "code",
<<<<<<< .mine
   "execution_count": 49,
=======
   "execution_count": 30,
>>>>>>> .theirs
   "metadata": {},
   "outputs": [
    {
     "data": {
      "text/plain": [
       "['policy_home',\n",
       " 'policy_school',\n",
       " 'policy_business',\n",
       " 'policy_restaurant',\n",
       " 'policy_gym',\n",
       " 'policy_bar',\n",
       " 'policy_theater',\n",
       " 'policy_facemask']"
      ]
     },
     "execution_count": 49,
     "metadata": {},
     "output_type": "execute_result"
    }
   ],
   "source": [
    "list(X_train.columns)"
   ]
  },
  {
   "cell_type": "code",
   "execution_count": 1,
   "metadata": {},
   "outputs": [
    {
     "ename": "NameError",
     "evalue": "name 'pca' is not defined",
     "output_type": "error",
     "traceback": [
      "\u001b[1;31m---------------------------------------------------------------------------\u001b[0m",
      "\u001b[1;31mNameError\u001b[0m                                 Traceback (most recent call last)",
      "\u001b[1;32m<ipython-input-1-ba9d1ad7df2b>\u001b[0m in \u001b[0;36m<module>\u001b[1;34m\u001b[0m\n\u001b[1;32m----> 1\u001b[1;33m \u001b[0mpca\u001b[0m\u001b[1;33m.\u001b[0m\u001b[0mcomponents_\u001b[0m\u001b[1;33m[\u001b[0m\u001b[1;36m0\u001b[0m\u001b[1;33m]\u001b[0m\u001b[1;33m\u001b[0m\u001b[1;33m\u001b[0m\u001b[0m\n\u001b[0m",
      "\u001b[1;31mNameError\u001b[0m: name 'pca' is not defined"
     ]
    }
   ],
   "source": [
    "pca.components_[0]"
   ]
  },
  {
   "cell_type": "code",
   "execution_count": 53,
   "metadata": {},
   "outputs": [
    {
     "data": {
      "text/plain": [
       "array([[ 0.29356958,  0.16174288,  0.36580302,  0.43177013,  0.43465663,\n",
       "         0.4396433 ,  0.41169276, -0.1253607 ],\n",
       "       [-0.00404551,  0.60091192, -0.02759107, -0.03264556,  0.04506626,\n",
       "        -0.0281996 ,  0.05011054,  0.79481082]])"
      ]
     },
     "execution_count": 53,
     "metadata": {},
     "output_type": "execute_result"
    }
   ],
   "source": [
    "pca.components_[:2]"
   ]
  },
  {
   "cell_type": "markdown",
   "metadata": {},
   "source": [
    "Dimension 1: all the closures and social distancing;\n",
    "Dimension 2: facemask and school"
   ]
  },
  {
   "cell_type": "code",
   "execution_count": 57,
   "metadata": {},
   "outputs": [
    {
     "name": "stdout",
     "output_type": "stream",
     "text": [
      "The cross-validation MSE for normal linear regression is 0.0108\n",
      "The testing MSE for normal linear regression is 0.011\n",
      "Test R-Squared score is 0.021106055709428584\n"
     ]
    }
   ],
   "source": [
    "# Normal linear regression\n",
    "reg_lr=LinearRegression()\n",
    "reg_lr.fit(X_train,y_train)\n",
    "\n",
    "y_test_pred = reg_lr.predict(X_test)\n",
    "mse_score = cross_validate(reg_lr,X_train, y_train, cv=10,scoring=\"neg_mean_squared_error\",return_train_score=True)\n",
    "\n",
    "test_error=mean_squared_error(y_test_pred,y_test)\n",
    "cross_validation_error=-mse_score['test_score'].mean()\n",
    "r2_square = r2_score(y_test,y_test_pred)\n",
    "\n",
    "print(f'The cross-validation MSE for normal linear regression is {cross_validation_error.round(4)}')\n",
    "print(f'The testing MSE for normal linear regression is {test_error.round(4)}')\n",
    "print(f\"Test R-Squared score is {r2_square}\")"
   ]
  },
  {
   "cell_type": "code",
<<<<<<< .mine
   "execution_count": 58,
=======
   "execution_count": 31,
>>>>>>> .theirs
   "metadata": {},
   "outputs": [
    {
     "name": "stdout",
     "output_type": "stream",
     "text": [
      "The cross-validation MSE of 2 component PCA is 0.0108 \n",
      "The testing MSE of 2 component PCA is 0.0111 \n",
      "Test R-Squared score is 0.016092129074217865\n"
     ]
    }
   ],
   "source": [
    "# PCA\n",
    "pca = PCA(n_components=2).fit(X_train)\n",
    "X_train_pca = pca.transform(X_train)\n",
    "X_test_pca = pca.transform(X_test)\n",
    "\n",
    "reg_pca = LinearRegression()\n",
    "reg_pca.fit(X_train_pca,y_train)\n",
    "mse_score_pca = cross_validate(reg_pca,X_train_pca, y_train, cv=10,scoring=\"neg_mean_squared_error\",return_train_score=True)\n",
    "y_pred_pca_test = reg_pca.predict(X_test_pca)\n",
    "\n",
    "test_error_pca=mean_squared_error(y_pred_pca_test,y_test)\n",
    "cross_validation_error_pca=-mse_score_pca['test_score'].mean()\n",
    "r2_square = r2_score(y_test,y_pred_pca_test)\n",
    "\n",
    "print(f\"The cross-validation MSE of 2 component PCA is {cross_validation_error_pca.round(4)} \")\n",
    "print(f\"The testing MSE of 2 component PCA is {test_error_pca.round(4)} \")\n",
    "print(f\"Test R-Squared score is {r2_square}\")"
   ]
  },
  {
   "cell_type": "code",
   "execution_count": 32,
   "metadata": {},
   "outputs": [
    {
     "data": {
      "text/html": [
       "<div>\n",
       "<style scoped>\n",
       "    .dataframe tbody tr th:only-of-type {\n",
       "        vertical-align: middle;\n",
       "    }\n",
       "\n",
       "    .dataframe tbody tr th {\n",
       "        vertical-align: top;\n",
       "    }\n",
       "\n",
       "    .dataframe thead th {\n",
       "        text-align: right;\n",
       "    }\n",
       "</style>\n",
       "<table border=\"1\" class=\"dataframe\">\n",
       "  <thead>\n",
       "    <tr style=\"text-align: right;\">\n",
       "      <th></th>\n",
       "      <th>fips</th>\n",
       "      <th>county</th>\n",
       "      <th>state</th>\n",
       "      <th>lat</th>\n",
       "      <th>long</th>\n",
       "      <th>date</th>\n",
       "      <th>cases</th>\n",
       "      <th>state_code</th>\n",
       "      <th>deaths</th>\n",
       "      <th>state_fips</th>\n",
       "      <th>emergency</th>\n",
       "      <th>stay_at_home</th>\n",
       "      <th>gathering</th>\n",
       "      <th>end_stay_at_home</th>\n",
       "      <th>close_school</th>\n",
       "      <th>close_nonessential_business</th>\n",
       "      <th>close_restaurant</th>\n",
       "      <th>close_gym</th>\n",
       "      <th>close_theater</th>\n",
       "      <th>close_bar</th>\n",
       "      <th>reopen_business</th>\n",
       "      <th>reopen_restaurant</th>\n",
       "      <th>reopen_gym</th>\n",
       "      <th>reopen_theater</th>\n",
       "      <th>reopen_bar</th>\n",
       "      <th>facemask</th>\n",
       "      <th>new_cases</th>\n",
       "      <th>new_deaths</th>\n",
       "      <th>cases_7day_ave</th>\n",
       "      <th>policy_home</th>\n",
       "      <th>policy_school</th>\n",
       "      <th>policy_business</th>\n",
       "      <th>policy_restaurant</th>\n",
       "      <th>policy_facemask</th>\n",
       "      <th>policy_gym</th>\n",
       "      <th>policy_theater</th>\n",
       "      <th>policy_bar</th>\n",
       "      <th>early_adopter</th>\n",
       "      <th>late_adopter</th>\n",
       "      <th>never_adopter</th>\n",
       "    </tr>\n",
       "  </thead>\n",
       "  <tbody>\n",
       "    <tr>\n",
       "      <th>0</th>\n",
       "      <td>1001.0</td>\n",
       "      <td>Autauga</td>\n",
       "      <td>Alabama</td>\n",
       "      <td>32.54</td>\n",
       "      <td>-86.644</td>\n",
       "      <td>2020-01-22</td>\n",
       "      <td>0</td>\n",
       "      <td>AL</td>\n",
       "      <td>0</td>\n",
       "      <td>1.0</td>\n",
       "      <td>2020-03-13</td>\n",
       "      <td>2020-04-04</td>\n",
       "      <td>0.0</td>\n",
       "      <td>2020-04-30</td>\n",
       "      <td>2020-03-20</td>\n",
       "      <td>2020-03-28</td>\n",
       "      <td>2020-03-19</td>\n",
       "      <td>2020-03-28</td>\n",
       "      <td>2020-03-28</td>\n",
       "      <td>2020-03-19</td>\n",
       "      <td>2020-04-30</td>\n",
       "      <td>2020-05-11</td>\n",
       "      <td>2020-05-11</td>\n",
       "      <td>2020-05-22</td>\n",
       "      <td>2020-05-11</td>\n",
       "      <td>2020-07-16</td>\n",
       "      <td>0.0</td>\n",
       "      <td>0.0</td>\n",
       "      <td>0.000</td>\n",
       "      <td>0</td>\n",
       "      <td>0</td>\n",
       "      <td>0</td>\n",
       "      <td>0</td>\n",
       "      <td>0</td>\n",
       "      <td>0</td>\n",
       "      <td>0</td>\n",
       "      <td>0</td>\n",
       "      <td>0</td>\n",
       "      <td>1</td>\n",
       "      <td>0</td>\n",
       "    </tr>\n",
       "    <tr>\n",
       "      <th>1</th>\n",
       "      <td>1001.0</td>\n",
       "      <td>Autauga</td>\n",
       "      <td>Alabama</td>\n",
       "      <td>32.54</td>\n",
       "      <td>-86.644</td>\n",
       "      <td>2020-01-23</td>\n",
       "      <td>0</td>\n",
       "      <td>AL</td>\n",
       "      <td>0</td>\n",
       "      <td>1.0</td>\n",
       "      <td>2020-03-13</td>\n",
       "      <td>2020-04-04</td>\n",
       "      <td>0.0</td>\n",
       "      <td>2020-04-30</td>\n",
       "      <td>2020-03-20</td>\n",
       "      <td>2020-03-28</td>\n",
       "      <td>2020-03-19</td>\n",
       "      <td>2020-03-28</td>\n",
       "      <td>2020-03-28</td>\n",
       "      <td>2020-03-19</td>\n",
       "      <td>2020-04-30</td>\n",
       "      <td>2020-05-11</td>\n",
       "      <td>2020-05-11</td>\n",
       "      <td>2020-05-22</td>\n",
       "      <td>2020-05-11</td>\n",
       "      <td>2020-07-16</td>\n",
       "      <td>0.0</td>\n",
       "      <td>0.0</td>\n",
       "      <td>0.000</td>\n",
       "      <td>0</td>\n",
       "      <td>0</td>\n",
       "      <td>0</td>\n",
       "      <td>0</td>\n",
       "      <td>0</td>\n",
       "      <td>0</td>\n",
       "      <td>0</td>\n",
       "      <td>0</td>\n",
       "      <td>0</td>\n",
       "      <td>1</td>\n",
       "      <td>0</td>\n",
       "    </tr>\n",
       "    <tr>\n",
       "      <th>2</th>\n",
       "      <td>1001.0</td>\n",
       "      <td>Autauga</td>\n",
       "      <td>Alabama</td>\n",
       "      <td>32.54</td>\n",
       "      <td>-86.644</td>\n",
       "      <td>2020-01-24</td>\n",
       "      <td>0</td>\n",
       "      <td>AL</td>\n",
       "      <td>0</td>\n",
       "      <td>1.0</td>\n",
       "      <td>2020-03-13</td>\n",
       "      <td>2020-04-04</td>\n",
       "      <td>0.0</td>\n",
       "      <td>2020-04-30</td>\n",
       "      <td>2020-03-20</td>\n",
       "      <td>2020-03-28</td>\n",
       "      <td>2020-03-19</td>\n",
       "      <td>2020-03-28</td>\n",
       "      <td>2020-03-28</td>\n",
       "      <td>2020-03-19</td>\n",
       "      <td>2020-04-30</td>\n",
       "      <td>2020-05-11</td>\n",
       "      <td>2020-05-11</td>\n",
       "      <td>2020-05-22</td>\n",
       "      <td>2020-05-11</td>\n",
       "      <td>2020-07-16</td>\n",
       "      <td>0.0</td>\n",
       "      <td>0.0</td>\n",
       "      <td>0.000</td>\n",
       "      <td>0</td>\n",
       "      <td>0</td>\n",
       "      <td>0</td>\n",
       "      <td>0</td>\n",
       "      <td>0</td>\n",
       "      <td>0</td>\n",
       "      <td>0</td>\n",
       "      <td>0</td>\n",
       "      <td>0</td>\n",
       "      <td>1</td>\n",
       "      <td>0</td>\n",
       "    </tr>\n",
       "    <tr>\n",
       "      <th>3</th>\n",
       "      <td>1001.0</td>\n",
       "      <td>Autauga</td>\n",
       "      <td>Alabama</td>\n",
       "      <td>32.54</td>\n",
       "      <td>-86.644</td>\n",
       "      <td>2020-01-25</td>\n",
       "      <td>0</td>\n",
       "      <td>AL</td>\n",
       "      <td>0</td>\n",
       "      <td>1.0</td>\n",
       "      <td>2020-03-13</td>\n",
       "      <td>2020-04-04</td>\n",
       "      <td>0.0</td>\n",
       "      <td>2020-04-30</td>\n",
       "      <td>2020-03-20</td>\n",
       "      <td>2020-03-28</td>\n",
       "      <td>2020-03-19</td>\n",
       "      <td>2020-03-28</td>\n",
       "      <td>2020-03-28</td>\n",
       "      <td>2020-03-19</td>\n",
       "      <td>2020-04-30</td>\n",
       "      <td>2020-05-11</td>\n",
       "      <td>2020-05-11</td>\n",
       "      <td>2020-05-22</td>\n",
       "      <td>2020-05-11</td>\n",
       "      <td>2020-07-16</td>\n",
       "      <td>0.0</td>\n",
       "      <td>0.0</td>\n",
       "      <td>0.000</td>\n",
       "      <td>0</td>\n",
       "      <td>0</td>\n",
       "      <td>0</td>\n",
       "      <td>0</td>\n",
       "      <td>0</td>\n",
       "      <td>0</td>\n",
       "      <td>0</td>\n",
       "      <td>0</td>\n",
       "      <td>0</td>\n",
       "      <td>1</td>\n",
       "      <td>0</td>\n",
       "    </tr>\n",
       "    <tr>\n",
       "      <th>4</th>\n",
       "      <td>1001.0</td>\n",
       "      <td>Autauga</td>\n",
       "      <td>Alabama</td>\n",
       "      <td>32.54</td>\n",
       "      <td>-86.644</td>\n",
       "      <td>2020-01-26</td>\n",
       "      <td>0</td>\n",
       "      <td>AL</td>\n",
       "      <td>0</td>\n",
       "      <td>1.0</td>\n",
       "      <td>2020-03-13</td>\n",
       "      <td>2020-04-04</td>\n",
       "      <td>0.0</td>\n",
       "      <td>2020-04-30</td>\n",
       "      <td>2020-03-20</td>\n",
       "      <td>2020-03-28</td>\n",
       "      <td>2020-03-19</td>\n",
       "      <td>2020-03-28</td>\n",
       "      <td>2020-03-28</td>\n",
       "      <td>2020-03-19</td>\n",
       "      <td>2020-04-30</td>\n",
       "      <td>2020-05-11</td>\n",
       "      <td>2020-05-11</td>\n",
       "      <td>2020-05-22</td>\n",
       "      <td>2020-05-11</td>\n",
       "      <td>2020-07-16</td>\n",
       "      <td>0.0</td>\n",
       "      <td>0.0</td>\n",
       "      <td>0.000</td>\n",
       "      <td>0</td>\n",
       "      <td>0</td>\n",
       "      <td>0</td>\n",
       "      <td>0</td>\n",
       "      <td>0</td>\n",
       "      <td>0</td>\n",
       "      <td>0</td>\n",
       "      <td>0</td>\n",
       "      <td>0</td>\n",
       "      <td>1</td>\n",
       "      <td>0</td>\n",
       "    </tr>\n",
       "    <tr>\n",
       "      <th>...</th>\n",
       "      <td>...</td>\n",
       "      <td>...</td>\n",
       "      <td>...</td>\n",
       "      <td>...</td>\n",
       "      <td>...</td>\n",
       "      <td>...</td>\n",
       "      <td>...</td>\n",
       "      <td>...</td>\n",
       "      <td>...</td>\n",
       "      <td>...</td>\n",
       "      <td>...</td>\n",
       "      <td>...</td>\n",
       "      <td>...</td>\n",
       "      <td>...</td>\n",
       "      <td>...</td>\n",
       "      <td>...</td>\n",
       "      <td>...</td>\n",
       "      <td>...</td>\n",
       "      <td>...</td>\n",
       "      <td>...</td>\n",
       "      <td>...</td>\n",
       "      <td>...</td>\n",
       "      <td>...</td>\n",
       "      <td>...</td>\n",
       "      <td>...</td>\n",
       "      <td>...</td>\n",
       "      <td>...</td>\n",
       "      <td>...</td>\n",
       "      <td>...</td>\n",
       "      <td>...</td>\n",
       "      <td>...</td>\n",
       "      <td>...</td>\n",
       "      <td>...</td>\n",
       "      <td>...</td>\n",
       "      <td>...</td>\n",
       "      <td>...</td>\n",
       "      <td>...</td>\n",
       "      <td>...</td>\n",
       "      <td>...</td>\n",
       "      <td>...</td>\n",
       "    </tr>\n",
       "    <tr>\n",
       "      <th>945215</th>\n",
       "      <td>56045.0</td>\n",
       "      <td>Weston</td>\n",
       "      <td>Wyoming</td>\n",
       "      <td>43.84</td>\n",
       "      <td>-104.567</td>\n",
       "      <td>2020-10-26</td>\n",
       "      <td>132</td>\n",
       "      <td>WY</td>\n",
       "      <td>0</td>\n",
       "      <td>56.0</td>\n",
       "      <td>2020-03-13</td>\n",
       "      <td>NaT</td>\n",
       "      <td>0.0</td>\n",
       "      <td>NaT</td>\n",
       "      <td>2020-03-19</td>\n",
       "      <td>2020-03-19</td>\n",
       "      <td>2020-03-19</td>\n",
       "      <td>2020-03-19</td>\n",
       "      <td>2020-03-19</td>\n",
       "      <td>2020-03-19</td>\n",
       "      <td>2020-05-01</td>\n",
       "      <td>2020-05-15</td>\n",
       "      <td>2020-05-01</td>\n",
       "      <td>2020-05-15</td>\n",
       "      <td>2020-05-15</td>\n",
       "      <td>NaT</td>\n",
       "      <td>5.0</td>\n",
       "      <td>0.0</td>\n",
       "      <td>5.714</td>\n",
       "      <td>0</td>\n",
       "      <td>1</td>\n",
       "      <td>0</td>\n",
       "      <td>0</td>\n",
       "      <td>0</td>\n",
       "      <td>0</td>\n",
       "      <td>0</td>\n",
       "      <td>0</td>\n",
       "      <td>0</td>\n",
       "      <td>0</td>\n",
       "      <td>1</td>\n",
       "    </tr>\n",
       "    <tr>\n",
       "      <th>945216</th>\n",
       "      <td>56045.0</td>\n",
       "      <td>Weston</td>\n",
       "      <td>Wyoming</td>\n",
       "      <td>43.84</td>\n",
       "      <td>-104.567</td>\n",
       "      <td>2020-10-27</td>\n",
       "      <td>139</td>\n",
       "      <td>WY</td>\n",
       "      <td>0</td>\n",
       "      <td>56.0</td>\n",
       "      <td>2020-03-13</td>\n",
       "      <td>NaT</td>\n",
       "      <td>0.0</td>\n",
       "      <td>NaT</td>\n",
       "      <td>2020-03-19</td>\n",
       "      <td>2020-03-19</td>\n",
       "      <td>2020-03-19</td>\n",
       "      <td>2020-03-19</td>\n",
       "      <td>2020-03-19</td>\n",
       "      <td>2020-03-19</td>\n",
       "      <td>2020-05-01</td>\n",
       "      <td>2020-05-15</td>\n",
       "      <td>2020-05-01</td>\n",
       "      <td>2020-05-15</td>\n",
       "      <td>2020-05-15</td>\n",
       "      <td>NaT</td>\n",
       "      <td>7.0</td>\n",
       "      <td>0.0</td>\n",
       "      <td>5.429</td>\n",
       "      <td>0</td>\n",
       "      <td>1</td>\n",
       "      <td>0</td>\n",
       "      <td>0</td>\n",
       "      <td>0</td>\n",
       "      <td>0</td>\n",
       "      <td>0</td>\n",
       "      <td>0</td>\n",
       "      <td>0</td>\n",
       "      <td>0</td>\n",
       "      <td>1</td>\n",
       "    </tr>\n",
       "    <tr>\n",
       "      <th>945217</th>\n",
       "      <td>56045.0</td>\n",
       "      <td>Weston</td>\n",
       "      <td>Wyoming</td>\n",
       "      <td>43.84</td>\n",
       "      <td>-104.567</td>\n",
       "      <td>2020-10-28</td>\n",
       "      <td>148</td>\n",
       "      <td>WY</td>\n",
       "      <td>0</td>\n",
       "      <td>56.0</td>\n",
       "      <td>2020-03-13</td>\n",
       "      <td>NaT</td>\n",
       "      <td>0.0</td>\n",
       "      <td>NaT</td>\n",
       "      <td>2020-03-19</td>\n",
       "      <td>2020-03-19</td>\n",
       "      <td>2020-03-19</td>\n",
       "      <td>2020-03-19</td>\n",
       "      <td>2020-03-19</td>\n",
       "      <td>2020-03-19</td>\n",
       "      <td>2020-05-01</td>\n",
       "      <td>2020-05-15</td>\n",
       "      <td>2020-05-01</td>\n",
       "      <td>2020-05-15</td>\n",
       "      <td>2020-05-15</td>\n",
       "      <td>NaT</td>\n",
       "      <td>9.0</td>\n",
       "      <td>0.0</td>\n",
       "      <td>0.000</td>\n",
       "      <td>0</td>\n",
       "      <td>1</td>\n",
       "      <td>0</td>\n",
       "      <td>0</td>\n",
       "      <td>0</td>\n",
       "      <td>0</td>\n",
       "      <td>0</td>\n",
       "      <td>0</td>\n",
       "      <td>0</td>\n",
       "      <td>0</td>\n",
       "      <td>1</td>\n",
       "    </tr>\n",
       "    <tr>\n",
       "      <th>945218</th>\n",
       "      <td>56045.0</td>\n",
       "      <td>Weston</td>\n",
       "      <td>Wyoming</td>\n",
       "      <td>43.84</td>\n",
       "      <td>-104.567</td>\n",
       "      <td>2020-10-29</td>\n",
       "      <td>155</td>\n",
       "      <td>WY</td>\n",
       "      <td>0</td>\n",
       "      <td>56.0</td>\n",
       "      <td>2020-03-13</td>\n",
       "      <td>NaT</td>\n",
       "      <td>0.0</td>\n",
       "      <td>NaT</td>\n",
       "      <td>2020-03-19</td>\n",
       "      <td>2020-03-19</td>\n",
       "      <td>2020-03-19</td>\n",
       "      <td>2020-03-19</td>\n",
       "      <td>2020-03-19</td>\n",
       "      <td>2020-03-19</td>\n",
       "      <td>2020-05-01</td>\n",
       "      <td>2020-05-15</td>\n",
       "      <td>2020-05-01</td>\n",
       "      <td>2020-05-15</td>\n",
       "      <td>2020-05-15</td>\n",
       "      <td>NaT</td>\n",
       "      <td>7.0</td>\n",
       "      <td>0.0</td>\n",
       "      <td>0.000</td>\n",
       "      <td>0</td>\n",
       "      <td>1</td>\n",
       "      <td>0</td>\n",
       "      <td>0</td>\n",
       "      <td>0</td>\n",
       "      <td>0</td>\n",
       "      <td>0</td>\n",
       "      <td>0</td>\n",
       "      <td>0</td>\n",
       "      <td>0</td>\n",
       "      <td>1</td>\n",
       "    </tr>\n",
       "    <tr>\n",
       "      <th>945219</th>\n",
       "      <td>56045.0</td>\n",
       "      <td>Weston</td>\n",
       "      <td>Wyoming</td>\n",
       "      <td>43.84</td>\n",
       "      <td>-104.567</td>\n",
       "      <td>2020-10-30</td>\n",
       "      <td>159</td>\n",
       "      <td>WY</td>\n",
       "      <td>0</td>\n",
       "      <td>56.0</td>\n",
       "      <td>2020-03-13</td>\n",
       "      <td>NaT</td>\n",
       "      <td>0.0</td>\n",
       "      <td>NaT</td>\n",
       "      <td>2020-03-19</td>\n",
       "      <td>2020-03-19</td>\n",
       "      <td>2020-03-19</td>\n",
       "      <td>2020-03-19</td>\n",
       "      <td>2020-03-19</td>\n",
       "      <td>2020-03-19</td>\n",
       "      <td>2020-05-01</td>\n",
       "      <td>2020-05-15</td>\n",
       "      <td>2020-05-01</td>\n",
       "      <td>2020-05-15</td>\n",
       "      <td>2020-05-15</td>\n",
       "      <td>NaT</td>\n",
       "      <td>4.0</td>\n",
       "      <td>0.0</td>\n",
       "      <td>0.000</td>\n",
       "      <td>0</td>\n",
       "      <td>1</td>\n",
       "      <td>0</td>\n",
       "      <td>0</td>\n",
       "      <td>0</td>\n",
       "      <td>0</td>\n",
       "      <td>0</td>\n",
       "      <td>0</td>\n",
       "      <td>0</td>\n",
       "      <td>0</td>\n",
       "      <td>1</td>\n",
       "    </tr>\n",
       "  </tbody>\n",
       "</table>\n",
       "<p>945220 rows × 40 columns</p>\n",
       "</div>"
      ],
      "text/plain": [
       "           fips   county    state    lat     long        date  cases  \\\n",
       "0        1001.0  Autauga  Alabama  32.54  -86.644  2020-01-22      0   \n",
       "1        1001.0  Autauga  Alabama  32.54  -86.644  2020-01-23      0   \n",
       "2        1001.0  Autauga  Alabama  32.54  -86.644  2020-01-24      0   \n",
       "3        1001.0  Autauga  Alabama  32.54  -86.644  2020-01-25      0   \n",
       "4        1001.0  Autauga  Alabama  32.54  -86.644  2020-01-26      0   \n",
       "...         ...      ...      ...    ...      ...         ...    ...   \n",
       "945215  56045.0   Weston  Wyoming  43.84 -104.567  2020-10-26    132   \n",
       "945216  56045.0   Weston  Wyoming  43.84 -104.567  2020-10-27    139   \n",
       "945217  56045.0   Weston  Wyoming  43.84 -104.567  2020-10-28    148   \n",
       "945218  56045.0   Weston  Wyoming  43.84 -104.567  2020-10-29    155   \n",
       "945219  56045.0   Weston  Wyoming  43.84 -104.567  2020-10-30    159   \n",
       "\n",
       "       state_code  deaths  state_fips  emergency stay_at_home  gathering  \\\n",
       "0              AL       0         1.0 2020-03-13   2020-04-04        0.0   \n",
       "1              AL       0         1.0 2020-03-13   2020-04-04        0.0   \n",
       "2              AL       0         1.0 2020-03-13   2020-04-04        0.0   \n",
       "3              AL       0         1.0 2020-03-13   2020-04-04        0.0   \n",
       "4              AL       0         1.0 2020-03-13   2020-04-04        0.0   \n",
       "...           ...     ...         ...        ...          ...        ...   \n",
       "945215         WY       0        56.0 2020-03-13          NaT        0.0   \n",
       "945216         WY       0        56.0 2020-03-13          NaT        0.0   \n",
       "945217         WY       0        56.0 2020-03-13          NaT        0.0   \n",
       "945218         WY       0        56.0 2020-03-13          NaT        0.0   \n",
       "945219         WY       0        56.0 2020-03-13          NaT        0.0   \n",
       "\n",
       "       end_stay_at_home close_school close_nonessential_business  \\\n",
       "0            2020-04-30   2020-03-20                  2020-03-28   \n",
       "1            2020-04-30   2020-03-20                  2020-03-28   \n",
       "2            2020-04-30   2020-03-20                  2020-03-28   \n",
       "3            2020-04-30   2020-03-20                  2020-03-28   \n",
       "4            2020-04-30   2020-03-20                  2020-03-28   \n",
       "...                 ...          ...                         ...   \n",
       "945215              NaT   2020-03-19                  2020-03-19   \n",
       "945216              NaT   2020-03-19                  2020-03-19   \n",
       "945217              NaT   2020-03-19                  2020-03-19   \n",
       "945218              NaT   2020-03-19                  2020-03-19   \n",
       "945219              NaT   2020-03-19                  2020-03-19   \n",
       "\n",
       "       close_restaurant  close_gym close_theater  close_bar reopen_business  \\\n",
       "0            2020-03-19 2020-03-28    2020-03-28 2020-03-19      2020-04-30   \n",
       "1            2020-03-19 2020-03-28    2020-03-28 2020-03-19      2020-04-30   \n",
       "2            2020-03-19 2020-03-28    2020-03-28 2020-03-19      2020-04-30   \n",
       "3            2020-03-19 2020-03-28    2020-03-28 2020-03-19      2020-04-30   \n",
       "4            2020-03-19 2020-03-28    2020-03-28 2020-03-19      2020-04-30   \n",
       "...                 ...        ...           ...        ...             ...   \n",
       "945215       2020-03-19 2020-03-19    2020-03-19 2020-03-19      2020-05-01   \n",
       "945216       2020-03-19 2020-03-19    2020-03-19 2020-03-19      2020-05-01   \n",
       "945217       2020-03-19 2020-03-19    2020-03-19 2020-03-19      2020-05-01   \n",
       "945218       2020-03-19 2020-03-19    2020-03-19 2020-03-19      2020-05-01   \n",
       "945219       2020-03-19 2020-03-19    2020-03-19 2020-03-19      2020-05-01   \n",
       "\n",
       "       reopen_restaurant reopen_gym reopen_theater reopen_bar   facemask  \\\n",
       "0             2020-05-11 2020-05-11     2020-05-22 2020-05-11 2020-07-16   \n",
       "1             2020-05-11 2020-05-11     2020-05-22 2020-05-11 2020-07-16   \n",
       "2             2020-05-11 2020-05-11     2020-05-22 2020-05-11 2020-07-16   \n",
       "3             2020-05-11 2020-05-11     2020-05-22 2020-05-11 2020-07-16   \n",
       "4             2020-05-11 2020-05-11     2020-05-22 2020-05-11 2020-07-16   \n",
       "...                  ...        ...            ...        ...        ...   \n",
       "945215        2020-05-15 2020-05-01     2020-05-15 2020-05-15        NaT   \n",
       "945216        2020-05-15 2020-05-01     2020-05-15 2020-05-15        NaT   \n",
       "945217        2020-05-15 2020-05-01     2020-05-15 2020-05-15        NaT   \n",
       "945218        2020-05-15 2020-05-01     2020-05-15 2020-05-15        NaT   \n",
       "945219        2020-05-15 2020-05-01     2020-05-15 2020-05-15        NaT   \n",
       "\n",
       "        new_cases  new_deaths  cases_7day_ave  policy_home  policy_school  \\\n",
       "0             0.0         0.0           0.000            0              0   \n",
       "1             0.0         0.0           0.000            0              0   \n",
       "2             0.0         0.0           0.000            0              0   \n",
       "3             0.0         0.0           0.000            0              0   \n",
       "4             0.0         0.0           0.000            0              0   \n",
       "...           ...         ...             ...          ...            ...   \n",
       "945215        5.0         0.0           5.714            0              1   \n",
       "945216        7.0         0.0           5.429            0              1   \n",
       "945217        9.0         0.0           0.000            0              1   \n",
       "945218        7.0         0.0           0.000            0              1   \n",
       "945219        4.0         0.0           0.000            0              1   \n",
       "\n",
       "        policy_business  policy_restaurant  policy_facemask  policy_gym  \\\n",
       "0                     0                  0                0           0   \n",
       "1                     0                  0                0           0   \n",
       "2                     0                  0                0           0   \n",
       "3                     0                  0                0           0   \n",
       "4                     0                  0                0           0   \n",
       "...                 ...                ...              ...         ...   \n",
       "945215                0                  0                0           0   \n",
       "945216                0                  0                0           0   \n",
       "945217                0                  0                0           0   \n",
       "945218                0                  0                0           0   \n",
       "945219                0                  0                0           0   \n",
       "\n",
       "        policy_theater  policy_bar  early_adopter  late_adopter  never_adopter  \n",
       "0                    0           0              0             1              0  \n",
       "1                    0           0              0             1              0  \n",
       "2                    0           0              0             1              0  \n",
       "3                    0           0              0             1              0  \n",
       "4                    0           0              0             1              0  \n",
       "...                ...         ...            ...           ...            ...  \n",
       "945215               0           0              0             0              1  \n",
       "945216               0           0              0             0              1  \n",
       "945217               0           0              0             0              1  \n",
       "945218               0           0              0             0              1  \n",
       "945219               0           0              0             0              1  \n",
       "\n",
       "[945220 rows x 40 columns]"
      ]
     },
     "execution_count": 32,
     "metadata": {},
     "output_type": "execute_result"
    }
   ],
   "source": [
    "df_merge"
   ]
  }
 ],
 "metadata": {
  "kernelspec": {
   "display_name": "Python 3",
   "language": "python",
   "name": "python3"
  },
  "language_info": {
   "codemirror_mode": {
    "name": "ipython",
    "version": 3
   },
   "file_extension": ".py",
   "mimetype": "text/x-python",
   "name": "python",
   "nbconvert_exporter": "python",
   "pygments_lexer": "ipython3",
   "version": "3.7.8"
  }
 },
 "nbformat": 4,
 "nbformat_minor": 4
}
