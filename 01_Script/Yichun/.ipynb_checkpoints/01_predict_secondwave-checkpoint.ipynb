{
 "cells": [
  {
   "cell_type": "code",
   "execution_count": 1,
   "metadata": {},
   "outputs": [],
   "source": [
    "import numpy as np\n",
    "import operator\n",
    "import pandas as pd\n",
    "import matplotlib\n",
    "import matplotlib.pyplot as plt\n",
    "import matplotlib.dates as mdates\n",
    "from datetime import datetime\n",
    "import seaborn as sns\n",
    "from tqdm import tqdm\n",
    "\n",
    "from sklearn.metrics import r2_score\n",
    "from sklearn.metrics import mean_squared_error\n",
    "from sklearn.linear_model import LinearRegression\n",
    "from sklearn.model_selection import train_test_split\n",
    "from sklearn import metrics\n",
    "from sklearn.decomposition import PCA"
   ]
  },
  {
   "cell_type": "code",
   "execution_count": 2,
   "metadata": {},
   "outputs": [],
   "source": [
    "from sklearn.linear_model import LogisticRegression\n",
    "from sklearn.linear_model import LogisticRegressionCV\n",
    "from sklearn.preprocessing import StandardScaler\n",
    "\n",
    "from sklearn.metrics import accuracy_score\n",
    "from sklearn.metrics import roc_curve\n",
    "from sklearn.metrics import roc_auc_score"
   ]
  },
  {
   "cell_type": "code",
   "execution_count": 118,
   "metadata": {},
   "outputs": [],
   "source": [
    "from sklearn.utils import resample\n",
    "from sklearn.tree import DecisionTreeClassifier\n",
    "from sklearn.ensemble import RandomForestClassifier\n",
    "import xgboost as xgb\n",
    "from sklearn.inspection import permutation_importance\n",
    "import tensorflow as tf"
   ]
  },
  {
   "cell_type": "markdown",
   "metadata": {},
   "source": [
    "# Data input"
   ]
  },
  {
   "cell_type": "markdown",
   "metadata": {},
   "source": [
    "Import socio-demographic data (codes from Yuchen)"
   ]
  },
  {
   "cell_type": "code",
   "execution_count": 3,
   "metadata": {},
   "outputs": [],
   "source": [
    "df_sd=pd.read_csv(r\"../../02_Data/02_SociaDemographics/us_final.csv\",index_col=0)\n",
    "df_sd = df_sd.reset_index()\n",
    "\n",
    "df_sd.loc[549,'ChildPoverty'] = df_sd[df_sd[\"state\"]==\"Hawaii\"][\"ChildPoverty\"].median()\n",
    "df_missing_crime = df_sd[df_sd[\"crime_rate_per_100000\"].isnull()]\n",
    "df_missing_crime_num = df_missing_crime.groupby(\"state\")[\"state\"].count()\n",
    "\n",
    "crime_columns = [\"crime_rate_per_100000\",\"IDNO\",\"Crime_CPOPARST\",\"Crime_CPOPCRIM\",\"Crime_AG_OFF\",\"Crime_COVIND\",\"Crime_MODINDX\",\"Crime_MURDER\",\"Crime_RAPE\",\"Crime_ROBBERY\",\"Crime_AGASSLT\",\"Crime_BURGLRY\",\"Crime_LARCENY\",\"Crime_MVTHEFT\",\"Crime_ARSON\"]\n",
    "state_list = [\"Alaska\",\"New Mexico\",\"South Dakota\"]\n",
    "for state in state_list:\n",
    "    index_list = df_missing_crime[df_missing_crime['state']==state][\"index\"].tolist()\n",
    "    for crime in crime_columns:\n",
    "        for index in index_list:\n",
    "            df_sd.loc[index-1,crime] = df_sd[df_sd['state']==state][crime].median()"
   ]
  },
  {
   "cell_type": "markdown",
   "metadata": {},
   "source": [
    "Calculate case growth rate (codes from Yuchen)"
   ]
  },
  {
   "cell_type": "code",
   "execution_count": 4,
   "metadata": {},
   "outputs": [
    {
     "name": "stderr",
     "output_type": "stream",
     "text": [
      "100%|█████████████████████████████████████████████████████████████████████████████| 3241/3241 [00:23<00:00, 135.92it/s]\n"
     ]
    }
   ],
   "source": [
    "df_case = pd.read_csv(r\"../../02_Data/01_COVID/covid_us_county.csv\")\n",
    "df_case.dropna(inplace=True)\n",
    "\n",
    "mData1 = []\n",
    "df_case['fips'] = df_case.fips.astype(int)\n",
    "df_sir = df_case.copy()\n",
    "fips = list(set(df_sir['fips']))\n",
    "for fip in tqdm(fips):\n",
    "    df = df_sir[(df_sir['fips']==fip)]\n",
    "    \n",
    "    df = df[df['cases']>=5]\n",
    "    df = df.reset_index(drop=True)\n",
    "    df = df.reset_index()\n",
    "\n",
    "    df = df.to_dict(\"records\")\n",
    "    # 7 day Moving average\n",
    "    for i in range(len(df)-6):\n",
    "        mdf = df[i:i+7]\n",
    "        mdf_case = [m['cases'] for m in mdf]\n",
    "        mdf_death = [m['deaths'] for m in mdf]\n",
    "        df[i+3]['cases_7'] = np.sum(mdf_case)/7\n",
    "        df[i+3]['deaths_7'] = np.sum(mdf_death)/7\n",
    "        df[i+3]['day_index'] = df[i+3]['index']\n",
    "        mData1.append(df[i+3])\n",
    "    \n",
    "# The log value\n",
    "for i in range(len(mData1)-1):\n",
    "    mData1[i+1]['delta_case'] = np.log(mData1[i+1]['cases_7']) - np.log(mData1[i]['cases_7'])\n",
    "    pass\n",
    "del mData1[0]"
   ]
  },
  {
   "cell_type": "code",
   "execution_count": 5,
   "metadata": {},
   "outputs": [],
   "source": [
    "df_case_delta = pd.DataFrame(mData1)\n",
    "df_case_delta = df_case_delta[(df_case_delta['cases_7']>=10)&(df_case_delta['date']>=\"2020-03-01\")&(df_case_delta['delta_case']>0)]\n",
    "df_case_delta.dropna(inplace=True)"
   ]
  },
  {
   "cell_type": "code",
   "execution_count": 6,
   "metadata": {},
   "outputs": [
    {
     "data": {
      "text/html": [
       "<div>\n",
       "<style scoped>\n",
       "    .dataframe tbody tr th:only-of-type {\n",
       "        vertical-align: middle;\n",
       "    }\n",
       "\n",
       "    .dataframe tbody tr th {\n",
       "        vertical-align: top;\n",
       "    }\n",
       "\n",
       "    .dataframe thead th {\n",
       "        text-align: right;\n",
       "    }\n",
       "</style>\n",
       "<table border=\"1\" class=\"dataframe\">\n",
       "  <thead>\n",
       "    <tr style=\"text-align: right;\">\n",
       "      <th></th>\n",
       "      <th>index</th>\n",
       "      <th>fips</th>\n",
       "      <th>county</th>\n",
       "      <th>state</th>\n",
       "      <th>lat</th>\n",
       "      <th>long</th>\n",
       "      <th>date</th>\n",
       "      <th>cases</th>\n",
       "      <th>state_code</th>\n",
       "      <th>deaths</th>\n",
       "      <th>cases_7</th>\n",
       "      <th>deaths_7</th>\n",
       "      <th>day_index</th>\n",
       "      <th>delta_case</th>\n",
       "    </tr>\n",
       "  </thead>\n",
       "  <tbody>\n",
       "    <tr>\n",
       "      <th>3</th>\n",
       "      <td>7</td>\n",
       "      <td>41001</td>\n",
       "      <td>Baker</td>\n",
       "      <td>Oregon</td>\n",
       "      <td>44.709156</td>\n",
       "      <td>-117.674988</td>\n",
       "      <td>2020-07-11</td>\n",
       "      <td>11</td>\n",
       "      <td>OR</td>\n",
       "      <td>0</td>\n",
       "      <td>10.285714</td>\n",
       "      <td>0.0</td>\n",
       "      <td>7</td>\n",
       "      <td>0.102279</td>\n",
       "    </tr>\n",
       "    <tr>\n",
       "      <th>4</th>\n",
       "      <td>8</td>\n",
       "      <td>41001</td>\n",
       "      <td>Baker</td>\n",
       "      <td>Oregon</td>\n",
       "      <td>44.709156</td>\n",
       "      <td>-117.674988</td>\n",
       "      <td>2020-07-12</td>\n",
       "      <td>12</td>\n",
       "      <td>OR</td>\n",
       "      <td>0</td>\n",
       "      <td>11.000000</td>\n",
       "      <td>0.0</td>\n",
       "      <td>8</td>\n",
       "      <td>0.067139</td>\n",
       "    </tr>\n",
       "    <tr>\n",
       "      <th>5</th>\n",
       "      <td>9</td>\n",
       "      <td>41001</td>\n",
       "      <td>Baker</td>\n",
       "      <td>Oregon</td>\n",
       "      <td>44.709156</td>\n",
       "      <td>-117.674988</td>\n",
       "      <td>2020-07-13</td>\n",
       "      <td>12</td>\n",
       "      <td>OR</td>\n",
       "      <td>0</td>\n",
       "      <td>11.714286</td>\n",
       "      <td>0.0</td>\n",
       "      <td>9</td>\n",
       "      <td>0.062914</td>\n",
       "    </tr>\n",
       "    <tr>\n",
       "      <th>6</th>\n",
       "      <td>10</td>\n",
       "      <td>41001</td>\n",
       "      <td>Baker</td>\n",
       "      <td>Oregon</td>\n",
       "      <td>44.709156</td>\n",
       "      <td>-117.674988</td>\n",
       "      <td>2020-07-14</td>\n",
       "      <td>12</td>\n",
       "      <td>OR</td>\n",
       "      <td>0</td>\n",
       "      <td>12.285714</td>\n",
       "      <td>0.0</td>\n",
       "      <td>10</td>\n",
       "      <td>0.047628</td>\n",
       "    </tr>\n",
       "    <tr>\n",
       "      <th>7</th>\n",
       "      <td>11</td>\n",
       "      <td>41001</td>\n",
       "      <td>Baker</td>\n",
       "      <td>Oregon</td>\n",
       "      <td>44.709156</td>\n",
       "      <td>-117.674988</td>\n",
       "      <td>2020-07-15</td>\n",
       "      <td>13</td>\n",
       "      <td>OR</td>\n",
       "      <td>0</td>\n",
       "      <td>12.571429</td>\n",
       "      <td>0.0</td>\n",
       "      <td>11</td>\n",
       "      <td>0.022990</td>\n",
       "    </tr>\n",
       "  </tbody>\n",
       "</table>\n",
       "</div>"
      ],
      "text/plain": [
       "   index   fips county   state        lat        long        date  cases  \\\n",
       "3      7  41001  Baker  Oregon  44.709156 -117.674988  2020-07-11     11   \n",
       "4      8  41001  Baker  Oregon  44.709156 -117.674988  2020-07-12     12   \n",
       "5      9  41001  Baker  Oregon  44.709156 -117.674988  2020-07-13     12   \n",
       "6     10  41001  Baker  Oregon  44.709156 -117.674988  2020-07-14     12   \n",
       "7     11  41001  Baker  Oregon  44.709156 -117.674988  2020-07-15     13   \n",
       "\n",
       "  state_code  deaths    cases_7  deaths_7  day_index  delta_case  \n",
       "3         OR       0  10.285714       0.0          7    0.102279  \n",
       "4         OR       0  11.000000       0.0          8    0.067139  \n",
       "5         OR       0  11.714286       0.0          9    0.062914  \n",
       "6         OR       0  12.285714       0.0         10    0.047628  \n",
       "7         OR       0  12.571429       0.0         11    0.022990  "
      ]
     },
     "execution_count": 6,
     "metadata": {},
     "output_type": "execute_result"
    }
   ],
   "source": [
    "df_case_delta.head()"
   ]
  },
  {
   "cell_type": "markdown",
   "metadata": {},
   "source": [
    "# Define second wave\n",
    "Eyeballing approach.\n",
    "<p> Method 1: look at the trend of the total cases in US."
   ]
  },
  {
   "cell_type": "code",
   "execution_count": 7,
   "metadata": {},
   "outputs": [],
   "source": [
    "# calculate new cases \n",
    "df_case['new_cases']=df_case['cases'].groupby(df_case['fips']).diff().fillna(0)\n",
    "df_case['new_cases']=df_case['new_cases'].clip(lower=0)\n",
    "    ## Calculate 7-day moving average\n",
    "df_case['cases_7day_ave'] = df_case.groupby('fips', as_index=False)['new_cases'].rolling(window=7,center=True).mean().fillna(0).reset_index(\n",
    "    0, drop=True)\n",
    "\n",
    "# calculate total new covid cases in US\n",
    "us_total=df_case.groupby('date', as_index=False).agg({\"cases_7day_ave\":\"sum\"})"
   ]
  },
  {
   "cell_type": "code",
   "execution_count": 8,
   "metadata": {},
   "outputs": [
    {
     "data": {
      "image/png": "[encoded data removed]",
      "text/plain": [
       "<Figure size 576x432 with 1 Axes>"
      ]
     },
     "metadata": {
      "needs_background": "light"
     },
     "output_type": "display_data"
    }
   ],
   "source": [
    "us_total['date']=pd.to_datetime(us_total['date'])\n",
    "\n",
    "plt.figure(figsize=(8,6))\n",
    "g=sns.lineplot(x=\"date\", y=\"cases_7day_ave\",\n",
    "             data=us_total)\n",
    "locator = mdates.AutoDateLocator()\n",
    "formatter = mdates.ConciseDateFormatter(locator,formats=[\"\",\"%b\", '%d', '%H:%M', '%H:%M', '%S.%f'],show_offset=False)\n",
    "g.xaxis.set_major_locator(locator)\n",
    "g.xaxis.set_major_formatter(formatter)\n",
    "g.set_xlim(pd.to_datetime(\"2020-05-01\"),pd.to_datetime(\"2020-09-01\"))\n",
    "g.set_xlabel('Date')\n",
    "g.set_ylabel('New covid case (7-day moving average)')\n",
    "plt.title(\"US new covid cases by time\",fontsize=16)\n",
    "plt.show()"
   ]
  },
  {
   "cell_type": "markdown",
   "metadata": {},
   "source": [
    "Method 2: look at the case growth rate."
   ]
  },
  {
   "cell_type": "code",
   "execution_count": 9,
   "metadata": {},
   "outputs": [
    {
     "data": {
      "image/png": "[encoded data removed]",
      "text/plain": [
       "<Figure size 576x432 with 1 Axes>"
      ]
     },
     "metadata": {
      "needs_background": "light"
     },
     "output_type": "display_data"
    }
   ],
   "source": [
    "# case growth rate\n",
    "df_case_delta['date']=pd.to_datetime(df_case_delta['date'])\n",
    "\n",
    "plt.figure(figsize=(8,6))\n",
    "g=sns.lineplot(x=\"date\", y=\"delta_case\",\n",
    "             data=df_case_delta)\n",
    "locator = mdates.AutoDateLocator()\n",
    "formatter = mdates.ConciseDateFormatter(locator,formats=[\"\",\"%b\", '%d', '%H:%M', '%H:%M', '%S.%f'],show_offset=False)\n",
    "g.xaxis.set_major_locator(locator)\n",
    "g.xaxis.set_major_formatter(formatter)\n",
    "g.set_xlim(pd.to_datetime(\"2020-05-01\"),pd.to_datetime(\"2020-09-01\"))\n",
    "g.set_ylim(0,0.035)\n",
    "g.set_xlabel('Date')\n",
    "g.set_ylabel('Infection growth rate')\n",
    "plt.title(\"County average case growth rate by time\",fontsize=16)\n",
    "plt.show()"
   ]
  },
  {
   "cell_type": "markdown",
   "metadata": {},
   "source": [
    "Given the trend shown in these two figures, we define the beginning of second wave as June 15, and use the mobility data between May 15 to June 15 to predict the average COVID case growth June 15 - July 15 in each county."
   ]
  },
  {
   "cell_type": "markdown",
   "metadata": {},
   "source": [
    "# Prepare predictors\n",
    "\n",
    "(1) Re-open early: 0-1, if stop stay-at-home order before May 15 defines as 1.\n",
    "<p> (2) Face mask wearing habit: continuous score. Assign score 1 to 5 for \"never\" to \"always\" and calculate the score for each county. \n",
    "<p> (3) Socio-demographic characteristics of the county\n",
    "<p> (4) Mobility by places May 15- Jun 15\n",
    "<p> (5) Average temperature of May-June."
   ]
  },
  {
   "cell_type": "code",
   "execution_count": 10,
   "metadata": {},
   "outputs": [
    {
     "data": {
      "text/html": [
       "<div>\n",
       "<style scoped>\n",
       "    .dataframe tbody tr th:only-of-type {\n",
       "        vertical-align: middle;\n",
       "    }\n",
       "\n",
       "    .dataframe tbody tr th {\n",
       "        vertical-align: top;\n",
       "    }\n",
       "\n",
       "    .dataframe thead th {\n",
       "        text-align: right;\n",
       "    }\n",
       "</style>\n",
       "<table border=\"1\" class=\"dataframe\">\n",
       "  <thead>\n",
       "    <tr style=\"text-align: right;\">\n",
       "      <th></th>\n",
       "      <th>state</th>\n",
       "      <th>state_code</th>\n",
       "      <th>reopen_business</th>\n",
       "      <th>reopen_restaurant</th>\n",
       "      <th>reopen_gym</th>\n",
       "      <th>reopen_theater</th>\n",
       "      <th>reopen_bar</th>\n",
       "      <th>facemask</th>\n",
       "      <th>reopen_early</th>\n",
       "      <th>reopen_home</th>\n",
       "    </tr>\n",
       "  </thead>\n",
       "  <tbody>\n",
       "    <tr>\n",
       "      <th>0</th>\n",
       "      <td>Alabama</td>\n",
       "      <td>AL</td>\n",
       "      <td>46.0</td>\n",
       "      <td>57.0</td>\n",
       "      <td>57.0</td>\n",
       "      <td>68.0</td>\n",
       "      <td>57.0</td>\n",
       "      <td>123.0</td>\n",
       "      <td>1</td>\n",
       "      <td>46.0</td>\n",
       "    </tr>\n",
       "    <tr>\n",
       "      <th>1</th>\n",
       "      <td>Alaska</td>\n",
       "      <td>AK</td>\n",
       "      <td>40.0</td>\n",
       "      <td>40.0</td>\n",
       "      <td>54.0</td>\n",
       "      <td>54.0</td>\n",
       "      <td>54.0</td>\n",
       "      <td>40.0</td>\n",
       "      <td>1</td>\n",
       "      <td>40.0</td>\n",
       "    </tr>\n",
       "    <tr>\n",
       "      <th>2</th>\n",
       "      <td>Arizona</td>\n",
       "      <td>AZ</td>\n",
       "      <td>54.0</td>\n",
       "      <td>57.0</td>\n",
       "      <td>59.0</td>\n",
       "      <td>62.0</td>\n",
       "      <td>62.0</td>\n",
       "      <td>0.0</td>\n",
       "      <td>0</td>\n",
       "      <td>62.0</td>\n",
       "    </tr>\n",
       "    <tr>\n",
       "      <th>3</th>\n",
       "      <td>Arkansas</td>\n",
       "      <td>AR</td>\n",
       "      <td>50.0</td>\n",
       "      <td>57.0</td>\n",
       "      <td>50.0</td>\n",
       "      <td>64.0</td>\n",
       "      <td>65.0</td>\n",
       "      <td>127.0</td>\n",
       "      <td>0</td>\n",
       "      <td>0.0</td>\n",
       "    </tr>\n",
       "    <tr>\n",
       "      <th>4</th>\n",
       "      <td>California</td>\n",
       "      <td>CA</td>\n",
       "      <td>54.0</td>\n",
       "      <td>64.0</td>\n",
       "      <td>0.0</td>\n",
       "      <td>0.0</td>\n",
       "      <td>0.0</td>\n",
       "      <td>95.0</td>\n",
       "      <td>0</td>\n",
       "      <td>0.0</td>\n",
       "    </tr>\n",
       "  </tbody>\n",
       "</table>\n",
       "</div>"
      ],
      "text/plain": [
       "        state state_code  reopen_business  reopen_restaurant  reopen_gym  \\\n",
       "0     Alabama         AL             46.0               57.0        57.0   \n",
       "1      Alaska         AK             40.0               40.0        54.0   \n",
       "2     Arizona         AZ             54.0               57.0        59.0   \n",
       "3    Arkansas         AR             50.0               57.0        50.0   \n",
       "4  California         CA             54.0               64.0         0.0   \n",
       "\n",
       "   reopen_theater  reopen_bar  facemask  reopen_early  reopen_home  \n",
       "0            68.0        57.0     123.0             1         46.0  \n",
       "1            54.0        54.0      40.0             1         40.0  \n",
       "2            62.0        62.0       0.0             0         62.0  \n",
       "3            64.0        65.0     127.0             0          0.0  \n",
       "4             0.0         0.0      95.0             0          0.0  "
      ]
     },
     "execution_count": 10,
     "metadata": {},
     "output_type": "execute_result"
    }
   ],
   "source": [
    "# reopen time\n",
    "    ## set Mar 15 as day 0 and get the reopening time for each place\n",
    "df_policy = pd.read_excel(r\"../../02_Data/03_Policy/COVID_StatePolicy_final.xlsx\")\n",
    "\n",
    "df_policy['reopen_early']=[1 if pd.to_datetime(x)<pd.to_datetime('2020-05-15')\n",
    "                        else 0 for x in df_policy['end_stay_at_home']]\n",
    "\n",
    "df_policy['reopen_home']=(df_policy['end_stay_at_home'].astype('datetime64[ns]')-datetime.strptime('2020-03-15',\"%Y-%m-%d\")).dt.days\n",
    "df_policy['reopen_home']=df_policy['reopen_home'].fillna(0)\n",
    "df_policy['facemask']=(df_policy['facemask'].astype('datetime64[ns]')-datetime.strptime('2020-03-15',\"%Y-%m-%d\")).dt.days\n",
    "df_policy['facemask']=df_policy['facemask'].fillna(0)\n",
    "\n",
    "reopen_list=df_policy.columns.values[13:18]\n",
    "for pol in reopen_list:\n",
    "    df_policy[pol]=(df_policy[pol].astype('datetime64[ns]')-datetime.strptime('2020-03-15',\"%Y-%m-%d\")).dt.days\n",
    "    df_policy[pol]=df_policy[pol].fillna(0)\n",
    "    \n",
    "df_policy=df_policy.drop(['state_fips','emergency','stay_at_home','gathering','end_stay_at_home',\n",
    "               'close_school','close_nonessential_business','close_restaurant','close_gym',\n",
    "               'close_theater','close_bar'],axis=1)\n",
    "df_policy.head()"
   ]
  },
  {
   "cell_type": "code",
   "execution_count": 11,
   "metadata": {},
   "outputs": [
    {
     "data": {
      "text/html": [
       "<div>\n",
       "<style scoped>\n",
       "    .dataframe tbody tr th:only-of-type {\n",
       "        vertical-align: middle;\n",
       "    }\n",
       "\n",
       "    .dataframe tbody tr th {\n",
       "        vertical-align: top;\n",
       "    }\n",
       "\n",
       "    .dataframe thead th {\n",
       "        text-align: right;\n",
       "    }\n",
       "</style>\n",
       "<table border=\"1\" class=\"dataframe\">\n",
       "  <thead>\n",
       "    <tr style=\"text-align: right;\">\n",
       "      <th></th>\n",
       "      <th>facemask_never</th>\n",
       "      <th>facemask_rarely</th>\n",
       "      <th>facemask_sometimes</th>\n",
       "      <th>facemask_frequently</th>\n",
       "      <th>facemask_always</th>\n",
       "      <th>fips</th>\n",
       "      <th>facemask_score</th>\n",
       "    </tr>\n",
       "  </thead>\n",
       "  <tbody>\n",
       "    <tr>\n",
       "      <th>count</th>\n",
       "      <td>3142.000000</td>\n",
       "      <td>3142.000000</td>\n",
       "      <td>3142.000000</td>\n",
       "      <td>3142.000000</td>\n",
       "      <td>3142.000000</td>\n",
       "      <td>3142.000000</td>\n",
       "      <td>3142.000000</td>\n",
       "    </tr>\n",
       "    <tr>\n",
       "      <th>mean</th>\n",
       "      <td>0.079940</td>\n",
       "      <td>0.082919</td>\n",
       "      <td>0.121318</td>\n",
       "      <td>0.207725</td>\n",
       "      <td>0.508094</td>\n",
       "      <td>30383.649268</td>\n",
       "      <td>3.981097</td>\n",
       "    </tr>\n",
       "    <tr>\n",
       "      <th>std</th>\n",
       "      <td>0.058538</td>\n",
       "      <td>0.055464</td>\n",
       "      <td>0.058011</td>\n",
       "      <td>0.063571</td>\n",
       "      <td>0.152191</td>\n",
       "      <td>15162.508374</td>\n",
       "      <td>0.413002</td>\n",
       "    </tr>\n",
       "    <tr>\n",
       "      <th>min</th>\n",
       "      <td>0.000000</td>\n",
       "      <td>0.000000</td>\n",
       "      <td>0.001000</td>\n",
       "      <td>0.029000</td>\n",
       "      <td>0.115000</td>\n",
       "      <td>1001.000000</td>\n",
       "      <td>2.433000</td>\n",
       "    </tr>\n",
       "    <tr>\n",
       "      <th>25%</th>\n",
       "      <td>0.034000</td>\n",
       "      <td>0.040000</td>\n",
       "      <td>0.079000</td>\n",
       "      <td>0.164000</td>\n",
       "      <td>0.393250</td>\n",
       "      <td>18177.500000</td>\n",
       "      <td>3.682000</td>\n",
       "    </tr>\n",
       "    <tr>\n",
       "      <th>50%</th>\n",
       "      <td>0.068000</td>\n",
       "      <td>0.073000</td>\n",
       "      <td>0.115000</td>\n",
       "      <td>0.204000</td>\n",
       "      <td>0.497000</td>\n",
       "      <td>29176.000000</td>\n",
       "      <td>3.992000</td>\n",
       "    </tr>\n",
       "    <tr>\n",
       "      <th>75%</th>\n",
       "      <td>0.113000</td>\n",
       "      <td>0.115000</td>\n",
       "      <td>0.156000</td>\n",
       "      <td>0.247000</td>\n",
       "      <td>0.613750</td>\n",
       "      <td>45080.500000</td>\n",
       "      <td>4.291750</td>\n",
       "    </tr>\n",
       "    <tr>\n",
       "      <th>max</th>\n",
       "      <td>0.432000</td>\n",
       "      <td>0.384000</td>\n",
       "      <td>0.422000</td>\n",
       "      <td>0.549000</td>\n",
       "      <td>0.889000</td>\n",
       "      <td>56045.000000</td>\n",
       "      <td>4.849000</td>\n",
       "    </tr>\n",
       "  </tbody>\n",
       "</table>\n",
       "</div>"
      ],
      "text/plain": [
       "       facemask_never  facemask_rarely  facemask_sometimes  \\\n",
       "count     3142.000000      3142.000000         3142.000000   \n",
       "mean         0.079940         0.082919            0.121318   \n",
       "std          0.058538         0.055464            0.058011   \n",
       "min          0.000000         0.000000            0.001000   \n",
       "25%          0.034000         0.040000            0.079000   \n",
       "50%          0.068000         0.073000            0.115000   \n",
       "75%          0.113000         0.115000            0.156000   \n",
       "max          0.432000         0.384000            0.422000   \n",
       "\n",
       "       facemask_frequently  facemask_always          fips  facemask_score  \n",
       "count          3142.000000      3142.000000   3142.000000     3142.000000  \n",
       "mean              0.207725         0.508094  30383.649268        3.981097  \n",
       "std               0.063571         0.152191  15162.508374        0.413002  \n",
       "min               0.029000         0.115000   1001.000000        2.433000  \n",
       "25%               0.164000         0.393250  18177.500000        3.682000  \n",
       "50%               0.204000         0.497000  29176.000000        3.992000  \n",
       "75%               0.247000         0.613750  45080.500000        4.291750  \n",
       "max               0.549000         0.889000  56045.000000        4.849000  "
      ]
     },
     "execution_count": 11,
     "metadata": {},
     "output_type": "execute_result"
    }
   ],
   "source": [
    "# facemask\n",
    "df_facemask = pd.read_csv(r\"../../02_Data/07_Facemask/county_facemask.csv\",index_col=0)\n",
    "df_facemask['facemask_score']=1*df_facemask['facemask_never']+2*df_facemask['facemask_rarely']+3*df_facemask['facemask_sometimes']+4*df_facemask['facemask_frequently']+5*df_facemask['facemask_always']\n",
    "df_facemask=df_facemask.drop(columns='countyfp')\n",
    "df_facemask.describe()"
   ]
  },
  {
   "cell_type": "code",
   "execution_count": 12,
   "metadata": {},
   "outputs": [
    {
     "name": "stdout",
     "output_type": "stream",
     "text": [
      "count    2762.000000\n",
      "mean        0.028772\n",
      "std         0.023138\n",
      "min         0.000434\n",
      "25%         0.012683\n",
      "50%         0.023698\n",
      "75%         0.038466\n",
      "max         0.249496\n",
      "Name: delta_case, dtype: float64\n"
     ]
    },
    {
     "data": {
      "text/html": [
       "<div>\n",
       "<style scoped>\n",
       "    .dataframe tbody tr th:only-of-type {\n",
       "        vertical-align: middle;\n",
       "    }\n",
       "\n",
       "    .dataframe tbody tr th {\n",
       "        vertical-align: top;\n",
       "    }\n",
       "\n",
       "    .dataframe thead th {\n",
       "        text-align: right;\n",
       "    }\n",
       "</style>\n",
       "<table border=\"1\" class=\"dataframe\">\n",
       "  <thead>\n",
       "    <tr style=\"text-align: right;\">\n",
       "      <th></th>\n",
       "      <th>fips</th>\n",
       "      <th>delta_case</th>\n",
       "      <th>quar_case</th>\n",
       "    </tr>\n",
       "  </thead>\n",
       "  <tbody>\n",
       "    <tr>\n",
       "      <th>0</th>\n",
       "      <td>1001</td>\n",
       "      <td>0.024863</td>\n",
       "      <td>high</td>\n",
       "    </tr>\n",
       "    <tr>\n",
       "      <th>1</th>\n",
       "      <td>1003</td>\n",
       "      <td>0.045956</td>\n",
       "      <td>high</td>\n",
       "    </tr>\n",
       "    <tr>\n",
       "      <th>2</th>\n",
       "      <td>1005</td>\n",
       "      <td>0.019725</td>\n",
       "      <td>low</td>\n",
       "    </tr>\n",
       "    <tr>\n",
       "      <th>3</th>\n",
       "      <td>1007</td>\n",
       "      <td>0.026791</td>\n",
       "      <td>high</td>\n",
       "    </tr>\n",
       "    <tr>\n",
       "      <th>4</th>\n",
       "      <td>1009</td>\n",
       "      <td>0.039990</td>\n",
       "      <td>high</td>\n",
       "    </tr>\n",
       "  </tbody>\n",
       "</table>\n",
       "</div>"
      ],
      "text/plain": [
       "   fips  delta_case quar_case\n",
       "0  1001    0.024863      high\n",
       "1  1003    0.045956      high\n",
       "2  1005    0.019725       low\n",
       "3  1007    0.026791      high\n",
       "4  1009    0.039990      high"
      ]
     },
     "execution_count": 12,
     "metadata": {},
     "output_type": "execute_result"
    }
   ],
   "source": [
    "# average case growth Jun 15 to Jul 15\n",
    "df_case_secondwave=df_case_delta[(df_case_delta['date']>=\"2020-06-15\")&(df_case_delta['date']<=\"2020-07-15\")]\n",
    "df_casegrowth=df_case_secondwave.groupby('fips', as_index=False).agg({\"delta_case\":\"mean\"})\n",
    "print(df_casegrowth['delta_case'].describe())\n",
    "\n",
    "# put quartile as predictors\n",
    "df_casegrowth['quar_case']=pd.qcut(df_casegrowth['delta_case'],2, labels=[\"low\", \"high\"])\n",
    "df_casegrowth['high_case']=1*(df_casegrowth['quar_case']==\"high\")\n",
    "df_casegrowth=df_casegrowth.drop(columns=['quar_case'],axis=1)\n",
    "df_casegrowth.head()"
   ]
  },
  {
   "cell_type": "code",
   "execution_count": 13,
   "metadata": {},
   "outputs": [
    {
     "data": {
      "text/html": [
       "<div>\n",
       "<style scoped>\n",
       "    .dataframe tbody tr th:only-of-type {\n",
       "        vertical-align: middle;\n",
       "    }\n",
       "\n",
       "    .dataframe tbody tr th {\n",
       "        vertical-align: top;\n",
       "    }\n",
       "\n",
       "    .dataframe thead th {\n",
       "        text-align: right;\n",
       "    }\n",
       "</style>\n",
       "<table border=\"1\" class=\"dataframe\">\n",
       "  <thead>\n",
       "    <tr style=\"text-align: right;\">\n",
       "      <th></th>\n",
       "      <th>fips</th>\n",
       "      <th>av_tem</th>\n",
       "    </tr>\n",
       "  </thead>\n",
       "  <tbody>\n",
       "    <tr>\n",
       "      <th>0</th>\n",
       "      <td>1001.0</td>\n",
       "      <td>74.050</td>\n",
       "    </tr>\n",
       "    <tr>\n",
       "      <th>1</th>\n",
       "      <td>1003.0</td>\n",
       "      <td>74.725</td>\n",
       "    </tr>\n",
       "    <tr>\n",
       "      <th>2</th>\n",
       "      <td>1005.0</td>\n",
       "      <td>68.400</td>\n",
       "    </tr>\n",
       "    <tr>\n",
       "      <th>3</th>\n",
       "      <td>1007.0</td>\n",
       "      <td>73.050</td>\n",
       "    </tr>\n",
       "    <tr>\n",
       "      <th>4</th>\n",
       "      <td>1009.0</td>\n",
       "      <td>69.400</td>\n",
       "    </tr>\n",
       "  </tbody>\n",
       "</table>\n",
       "</div>"
      ],
      "text/plain": [
       "     fips  av_tem\n",
       "0  1001.0  74.050\n",
       "1  1003.0  74.725\n",
       "2  1005.0  68.400\n",
       "3  1007.0  73.050\n",
       "4  1009.0  69.400"
      ]
     },
     "execution_count": 13,
     "metadata": {},
     "output_type": "execute_result"
    }
   ],
   "source": [
    "# weather\n",
    "df_weather = pd.read_csv(r\"../../02_Data/06_Weather/county_av_tem.csv\",index_col=0)\n",
    "df_weather_sub=df_weather[(df_weather['month']>=5)&(df_weather['month']<=6)]\n",
    "df_weather_sub=df_weather_sub.groupby('fips', as_index=False).agg({\"av_tem\":\"mean\"})\n",
    "df_weather_sub.head()"
   ]
  },
  {
   "cell_type": "code",
   "execution_count": 14,
   "metadata": {},
   "outputs": [
    {
     "data": {
      "text/html": [
       "<div>\n",
       "<style scoped>\n",
       "    .dataframe tbody tr th:only-of-type {\n",
       "        vertical-align: middle;\n",
       "    }\n",
       "\n",
       "    .dataframe tbody tr th {\n",
       "        vertical-align: top;\n",
       "    }\n",
       "\n",
       "    .dataframe thead th {\n",
       "        text-align: right;\n",
       "    }\n",
       "</style>\n",
       "<table border=\"1\" class=\"dataframe\">\n",
       "  <thead>\n",
       "    <tr style=\"text-align: right;\">\n",
       "      <th></th>\n",
       "      <th>fips</th>\n",
       "      <th>av_tem</th>\n",
       "    </tr>\n",
       "  </thead>\n",
       "  <tbody>\n",
       "    <tr>\n",
       "      <th>0</th>\n",
       "      <td>1001.0</td>\n",
       "      <td>74.050</td>\n",
       "    </tr>\n",
       "    <tr>\n",
       "      <th>1</th>\n",
       "      <td>1003.0</td>\n",
       "      <td>74.725</td>\n",
       "    </tr>\n",
       "    <tr>\n",
       "      <th>2</th>\n",
       "      <td>1005.0</td>\n",
       "      <td>68.400</td>\n",
       "    </tr>\n",
       "    <tr>\n",
       "      <th>3</th>\n",
       "      <td>1007.0</td>\n",
       "      <td>73.050</td>\n",
       "    </tr>\n",
       "    <tr>\n",
       "      <th>4</th>\n",
       "      <td>1009.0</td>\n",
       "      <td>69.400</td>\n",
       "    </tr>\n",
       "  </tbody>\n",
       "</table>\n",
       "</div>"
      ],
      "text/plain": [
       "     fips  av_tem\n",
       "0  1001.0  74.050\n",
       "1  1003.0  74.725\n",
       "2  1005.0  68.400\n",
       "3  1007.0  73.050\n",
       "4  1009.0  69.400"
      ]
     },
     "execution_count": 14,
     "metadata": {},
     "output_type": "execute_result"
    }
   ],
   "source": [
    "df_weather_sub.head()"
   ]
  },
  {
   "cell_type": "code",
   "execution_count": 15,
   "metadata": {},
   "outputs": [
    {
     "data": {
      "text/html": [
       "<div>\n",
       "<style scoped>\n",
       "    .dataframe tbody tr th:only-of-type {\n",
       "        vertical-align: middle;\n",
       "    }\n",
       "\n",
       "    .dataframe tbody tr th {\n",
       "        vertical-align: top;\n",
       "    }\n",
       "\n",
       "    .dataframe thead th {\n",
       "        text-align: right;\n",
       "    }\n",
       "</style>\n",
       "<table border=\"1\" class=\"dataframe\">\n",
       "  <thead>\n",
       "    <tr style=\"text-align: right;\">\n",
       "      <th></th>\n",
       "      <th>state</th>\n",
       "      <th>county</th>\n",
       "      <th>retail_and_recreation_percent_change_from_baseline</th>\n",
       "      <th>grocery_and_pharmacy_percent_change_from_baseline</th>\n",
       "      <th>parks_percent_change_from_baseline</th>\n",
       "      <th>transit_stations_percent_change_from_baseline</th>\n",
       "      <th>workplaces_percent_change_from_baseline</th>\n",
       "      <th>residential_percent_change_from_baseline</th>\n",
       "    </tr>\n",
       "  </thead>\n",
       "  <tbody>\n",
       "    <tr>\n",
       "      <th>0</th>\n",
       "      <td>Alabama</td>\n",
       "      <td>Autauga County</td>\n",
       "      <td>-1.612903</td>\n",
       "      <td>11.354839</td>\n",
       "      <td>38.681145</td>\n",
       "      <td>-9.377769</td>\n",
       "      <td>-23.774194</td>\n",
       "      <td>7.776077</td>\n",
       "    </tr>\n",
       "    <tr>\n",
       "      <th>1</th>\n",
       "      <td>Alabama</td>\n",
       "      <td>Baldwin County</td>\n",
       "      <td>7.129032</td>\n",
       "      <td>21.161290</td>\n",
       "      <td>78.677419</td>\n",
       "      <td>7.129032</td>\n",
       "      <td>-20.161290</td>\n",
       "      <td>4.967742</td>\n",
       "    </tr>\n",
       "    <tr>\n",
       "      <th>2</th>\n",
       "      <td>Alabama</td>\n",
       "      <td>Barbour County</td>\n",
       "      <td>6.139136</td>\n",
       "      <td>3.579382</td>\n",
       "      <td>41.330788</td>\n",
       "      <td>-4.050949</td>\n",
       "      <td>-17.741935</td>\n",
       "      <td>4.806220</td>\n",
       "    </tr>\n",
       "    <tr>\n",
       "      <th>3</th>\n",
       "      <td>Alabama</td>\n",
       "      <td>Bibb County</td>\n",
       "      <td>-8.286333</td>\n",
       "      <td>3.742846</td>\n",
       "      <td>39.531298</td>\n",
       "      <td>-7.668629</td>\n",
       "      <td>-21.838710</td>\n",
       "      <td>6.242938</td>\n",
       "    </tr>\n",
       "    <tr>\n",
       "      <th>4</th>\n",
       "      <td>Alabama</td>\n",
       "      <td>Blount County</td>\n",
       "      <td>0.645161</td>\n",
       "      <td>9.486437</td>\n",
       "      <td>38.227730</td>\n",
       "      <td>-10.289311</td>\n",
       "      <td>-24.806452</td>\n",
       "      <td>7.213913</td>\n",
       "    </tr>\n",
       "  </tbody>\n",
       "</table>\n",
       "</div>"
      ],
      "text/plain": [
       "     state          county  \\\n",
       "0  Alabama  Autauga County   \n",
       "1  Alabama  Baldwin County   \n",
       "2  Alabama  Barbour County   \n",
       "3  Alabama     Bibb County   \n",
       "4  Alabama   Blount County   \n",
       "\n",
       "   retail_and_recreation_percent_change_from_baseline  \\\n",
       "0                                          -1.612903    \n",
       "1                                           7.129032    \n",
       "2                                           6.139136    \n",
       "3                                          -8.286333    \n",
       "4                                           0.645161    \n",
       "\n",
       "   grocery_and_pharmacy_percent_change_from_baseline  \\\n",
       "0                                          11.354839   \n",
       "1                                          21.161290   \n",
       "2                                           3.579382   \n",
       "3                                           3.742846   \n",
       "4                                           9.486437   \n",
       "\n",
       "   parks_percent_change_from_baseline  \\\n",
       "0                           38.681145   \n",
       "1                           78.677419   \n",
       "2                           41.330788   \n",
       "3                           39.531298   \n",
       "4                           38.227730   \n",
       "\n",
       "   transit_stations_percent_change_from_baseline  \\\n",
       "0                                      -9.377769   \n",
       "1                                       7.129032   \n",
       "2                                      -4.050949   \n",
       "3                                      -7.668629   \n",
       "4                                     -10.289311   \n",
       "\n",
       "   workplaces_percent_change_from_baseline  \\\n",
       "0                               -23.774194   \n",
       "1                               -20.161290   \n",
       "2                               -17.741935   \n",
       "3                               -21.838710   \n",
       "4                               -24.806452   \n",
       "\n",
       "   residential_percent_change_from_baseline  \n",
       "0                                  7.776077  \n",
       "1                                  4.967742  \n",
       "2                                  4.806220  \n",
       "3                                  6.242938  \n",
       "4                                  7.213913  "
      ]
     },
     "execution_count": 15,
     "metadata": {},
     "output_type": "execute_result"
    }
   ],
   "source": [
    "# mobility\n",
    "df_mob = pd.read_csv(\"../../02_Data//05_Mobility/2020_US_Region_Mobility_Report.csv\")\n",
    "df_mob = df_mob.drop(labels='census_fips_code', axis=1)\n",
    "df_mob['metro_area'].notnull().values.any()\n",
    "df_mob.describe()\n",
    "\n",
    "    ## impute missing data. Since workplace mobility is more complete, we will use this column to impute the others. (based on MAR imputation)\n",
    "missing_list=df_mob.columns.values[7:13]\n",
    "for col in missing_list:\n",
    "    ols_imputer_mar=LinearRegression().fit(df_mob.dropna(axis=0,subset=['workplaces_percent_change_from_baseline',col])[['workplaces_percent_change_from_baseline']],\n",
    "                                       df_mob.dropna(axis=0,subset=['workplaces_percent_change_from_baseline',col])[col])    \n",
    "    x1hat_impute = pd.Series(ols_imputer_mar.predict(df_mob[['workplaces_percent_change_from_baseline']].dropna()))\n",
    "    df_mob[col] = df_mob[col].fillna(x1hat_impute)\n",
    "    \n",
    "    ## keep county-level data\n",
    "df_mob_county=df_mob.dropna(axis=0,subset=[\"sub_region_2\"])\n",
    "df_mob_county=df_mob_county.drop(columns=['country_region_code','country_region','metro_area','iso_3166_2_code'])\n",
    "df_mob_county=df_mob_county.rename(columns={'sub_region_1':'state','sub_region_2':'county'})\n",
    "df_mob_county.head()\n",
    "\n",
    "    ## calculate average mobility May 15 to Jun 14\n",
    "df_mob_county=df_mob_county[(df_mob_county['date']>=\"2020-05-15\")&(df_mob_county['date']<\"2020-06-15\")]\n",
    "df_mob_county=df_mob_county.groupby(['state','county'], as_index=False).agg([\"mean\"]).reset_index()\n",
    "df_mob_county.columns = df_mob_county.columns.droplevel(1)\n",
    "\n",
    "df_mob_county.head()"
   ]
  },
  {
   "cell_type": "code",
   "execution_count": 74,
   "metadata": {},
   "outputs": [
    {
     "data": {
      "text/html": [
       "<div>\n",
       "<style scoped>\n",
       "    .dataframe tbody tr th:only-of-type {\n",
       "        vertical-align: middle;\n",
       "    }\n",
       "\n",
       "    .dataframe tbody tr th {\n",
       "        vertical-align: top;\n",
       "    }\n",
       "\n",
       "    .dataframe thead th {\n",
       "        text-align: right;\n",
       "    }\n",
       "</style>\n",
       "<table border=\"1\" class=\"dataframe\">\n",
       "  <thead>\n",
       "    <tr style=\"text-align: right;\">\n",
       "      <th></th>\n",
       "      <th>index</th>\n",
       "      <th>fips</th>\n",
       "      <th>county</th>\n",
       "      <th>state</th>\n",
       "      <th>state_code</th>\n",
       "      <th>median_age_2017</th>\n",
       "      <th>population_2017</th>\n",
       "      <th>female_percentage_2017</th>\n",
       "      <th>lat</th>\n",
       "      <th>long</th>\n",
       "      <th>...</th>\n",
       "      <th>facemask_score</th>\n",
       "      <th>reopen_business</th>\n",
       "      <th>reopen_restaurant</th>\n",
       "      <th>reopen_gym</th>\n",
       "      <th>reopen_theater</th>\n",
       "      <th>reopen_bar</th>\n",
       "      <th>facemask</th>\n",
       "      <th>reopen_early</th>\n",
       "      <th>reopen_home</th>\n",
       "      <th>av_tem</th>\n",
       "    </tr>\n",
       "  </thead>\n",
       "  <tbody>\n",
       "    <tr>\n",
       "      <th>0</th>\n",
       "      <td>1</td>\n",
       "      <td>1001</td>\n",
       "      <td>Autauga County</td>\n",
       "      <td>Alabama</td>\n",
       "      <td>AL</td>\n",
       "      <td>37.8</td>\n",
       "      <td>55200</td>\n",
       "      <td>51.315217</td>\n",
       "      <td>32.534923</td>\n",
       "      <td>-86.642730</td>\n",
       "      <td>...</td>\n",
       "      <td>4.003</td>\n",
       "      <td>46.0</td>\n",
       "      <td>57.0</td>\n",
       "      <td>57.0</td>\n",
       "      <td>68.0</td>\n",
       "      <td>57.0</td>\n",
       "      <td>123.0</td>\n",
       "      <td>1.0</td>\n",
       "      <td>46.0</td>\n",
       "      <td>74.050</td>\n",
       "    </tr>\n",
       "    <tr>\n",
       "      <th>1</th>\n",
       "      <td>2</td>\n",
       "      <td>1003</td>\n",
       "      <td>Baldwin County</td>\n",
       "      <td>Alabama</td>\n",
       "      <td>AL</td>\n",
       "      <td>42.8</td>\n",
       "      <td>208107</td>\n",
       "      <td>51.376936</td>\n",
       "      <td>30.727479</td>\n",
       "      <td>-87.722564</td>\n",
       "      <td>...</td>\n",
       "      <td>3.967</td>\n",
       "      <td>46.0</td>\n",
       "      <td>57.0</td>\n",
       "      <td>57.0</td>\n",
       "      <td>68.0</td>\n",
       "      <td>57.0</td>\n",
       "      <td>123.0</td>\n",
       "      <td>1.0</td>\n",
       "      <td>46.0</td>\n",
       "      <td>74.725</td>\n",
       "    </tr>\n",
       "    <tr>\n",
       "      <th>2</th>\n",
       "      <td>3</td>\n",
       "      <td>1005</td>\n",
       "      <td>Barbour County</td>\n",
       "      <td>Alabama</td>\n",
       "      <td>AL</td>\n",
       "      <td>39.9</td>\n",
       "      <td>25782</td>\n",
       "      <td>46.873788</td>\n",
       "      <td>31.869581</td>\n",
       "      <td>-85.393210</td>\n",
       "      <td>...</td>\n",
       "      <td>3.928</td>\n",
       "      <td>46.0</td>\n",
       "      <td>57.0</td>\n",
       "      <td>57.0</td>\n",
       "      <td>68.0</td>\n",
       "      <td>57.0</td>\n",
       "      <td>123.0</td>\n",
       "      <td>1.0</td>\n",
       "      <td>46.0</td>\n",
       "      <td>68.400</td>\n",
       "    </tr>\n",
       "    <tr>\n",
       "      <th>3</th>\n",
       "      <td>4</td>\n",
       "      <td>1007</td>\n",
       "      <td>Bibb County</td>\n",
       "      <td>Alabama</td>\n",
       "      <td>AL</td>\n",
       "      <td>39.9</td>\n",
       "      <td>22527</td>\n",
       "      <td>46.055844</td>\n",
       "      <td>32.998628</td>\n",
       "      <td>-87.126475</td>\n",
       "      <td>...</td>\n",
       "      <td>4.348</td>\n",
       "      <td>46.0</td>\n",
       "      <td>57.0</td>\n",
       "      <td>57.0</td>\n",
       "      <td>68.0</td>\n",
       "      <td>57.0</td>\n",
       "      <td>123.0</td>\n",
       "      <td>1.0</td>\n",
       "      <td>46.0</td>\n",
       "      <td>73.050</td>\n",
       "    </tr>\n",
       "    <tr>\n",
       "      <th>4</th>\n",
       "      <td>5</td>\n",
       "      <td>1009</td>\n",
       "      <td>Blount County</td>\n",
       "      <td>Alabama</td>\n",
       "      <td>AL</td>\n",
       "      <td>40.8</td>\n",
       "      <td>57645</td>\n",
       "      <td>50.673953</td>\n",
       "      <td>33.980869</td>\n",
       "      <td>-86.567380</td>\n",
       "      <td>...</td>\n",
       "      <td>3.892</td>\n",
       "      <td>46.0</td>\n",
       "      <td>57.0</td>\n",
       "      <td>57.0</td>\n",
       "      <td>68.0</td>\n",
       "      <td>57.0</td>\n",
       "      <td>123.0</td>\n",
       "      <td>1.0</td>\n",
       "      <td>46.0</td>\n",
       "      <td>69.400</td>\n",
       "    </tr>\n",
       "  </tbody>\n",
       "</table>\n",
       "<p>5 rows × 82 columns</p>\n",
       "</div>"
      ],
      "text/plain": [
       "   index  fips          county    state state_code  median_age_2017  \\\n",
       "0      1  1001  Autauga County  Alabama         AL             37.8   \n",
       "1      2  1003  Baldwin County  Alabama         AL             42.8   \n",
       "2      3  1005  Barbour County  Alabama         AL             39.9   \n",
       "3      4  1007     Bibb County  Alabama         AL             39.9   \n",
       "4      5  1009   Blount County  Alabama         AL             40.8   \n",
       "\n",
       "   population_2017  female_percentage_2017        lat       long  ...  \\\n",
       "0            55200               51.315217  32.534923 -86.642730  ...   \n",
       "1           208107               51.376936  30.727479 -87.722564  ...   \n",
       "2            25782               46.873788  31.869581 -85.393210  ...   \n",
       "3            22527               46.055844  32.998628 -87.126475  ...   \n",
       "4            57645               50.673953  33.980869 -86.567380  ...   \n",
       "\n",
       "   facemask_score  reopen_business  reopen_restaurant  reopen_gym  \\\n",
       "0           4.003             46.0               57.0        57.0   \n",
       "1           3.967             46.0               57.0        57.0   \n",
       "2           3.928             46.0               57.0        57.0   \n",
       "3           4.348             46.0               57.0        57.0   \n",
       "4           3.892             46.0               57.0        57.0   \n",
       "\n",
       "   reopen_theater  reopen_bar  facemask  reopen_early  reopen_home  av_tem  \n",
       "0            68.0        57.0     123.0           1.0         46.0  74.050  \n",
       "1            68.0        57.0     123.0           1.0         46.0  74.725  \n",
       "2            68.0        57.0     123.0           1.0         46.0  68.400  \n",
       "3            68.0        57.0     123.0           1.0         46.0  73.050  \n",
       "4            68.0        57.0     123.0           1.0         46.0  69.400  \n",
       "\n",
       "[5 rows x 82 columns]"
      ]
     },
     "execution_count": 74,
     "metadata": {},
     "output_type": "execute_result"
    }
   ],
   "source": [
    "# merge the data\n",
    "    ## socio-demographic\n",
    "df_merge=df_sd.copy()\n",
    "    ## add case growth (Jun 15- Jul 15)\n",
    "df_merge=df_merge.merge(df_casegrowth, on=['fips'],how='left')\n",
    "    ## add mobility\n",
    "df_merge=df_merge.merge(df_mob_county, on=['state','county'],how='left')\n",
    "    ## add face mask\n",
    "df_merge=df_merge.merge(df_facemask, on=['fips'],how='left')\n",
    "    ## add reopen time\n",
    "df_merge=df_merge.merge(df_policy, on=['state','state_code'],how='left')\n",
    "df_merge\n",
    "    ## weather\n",
    "df_merge=df_merge.merge(df_weather_sub, on=['fips'],how='left')\n",
    "\n",
    "df_merge.head()"
   ]
  },
  {
   "cell_type": "code",
   "execution_count": 75,
   "metadata": {},
   "outputs": [
    {
     "data": {
      "text/plain": [
       "array(['index', 'fips', 'county', 'state', 'state_code',\n",
       "       'median_age_2017', 'population_2017', 'female_percentage_2017',\n",
       "       'lat', 'long', 'Race_Hispanic', 'Race_White', 'Race_Black',\n",
       "       'Race_Native', 'Race_Asian', 'Race_Pacific', 'VotingAgeCitizen',\n",
       "       'Income', 'IncomeErr', 'IncomePerCap', 'IncomePerCapErr',\n",
       "       'Poverty', 'ChildPoverty', 'WorkType_Professional',\n",
       "       'WorkType_Service', 'WorkType_Office', 'WorkType_Construction',\n",
       "       'WorkType_Production', 'Transp_Drive', 'Transp_Carpool',\n",
       "       'Transp_Transit', 'Transp_Walk', 'Transp_OtherTransp',\n",
       "       'Transp_WorkAtHome', 'MeanCommute', 'Employed', 'Work_PrivateWork',\n",
       "       'Work_PublicWork', 'Work_SelfEmployed', 'Work_FamilyWork',\n",
       "       'Work_Unemployment', 'crime_rate_per_100000', 'IDNO',\n",
       "       'Crime_CPOPARST', 'Crime_CPOPCRIM', 'Crime_AG_ARRST',\n",
       "       'Crime_AG_OFF', 'Crime_COVIND', 'Crime_MODINDX', 'Crime_MURDER',\n",
       "       'Crime_RAPE', 'Crime_ROBBERY', 'Crime_AGASSLT', 'Crime_BURGLRY',\n",
       "       'Crime_LARCENY', 'Crime_MVTHEFT', 'Crime_ARSON', 'democrat',\n",
       "       'demo_vote_share', 'delta_case', 'high_case',\n",
       "       'retail_and_recreation_percent_change_from_baseline',\n",
       "       'grocery_and_pharmacy_percent_change_from_baseline',\n",
       "       'parks_percent_change_from_baseline',\n",
       "       'transit_stations_percent_change_from_baseline',\n",
       "       'workplaces_percent_change_from_baseline',\n",
       "       'residential_percent_change_from_baseline', 'facemask_never',\n",
       "       'facemask_rarely', 'facemask_sometimes', 'facemask_frequently',\n",
       "       'facemask_always', 'facemask_score', 'reopen_business',\n",
       "       'reopen_restaurant', 'reopen_gym', 'reopen_theater', 'reopen_bar',\n",
       "       'facemask', 'reopen_early', 'reopen_home', 'av_tem'], dtype=object)"
      ]
     },
     "execution_count": 75,
     "metadata": {},
     "output_type": "execute_result"
    }
   ],
   "source": [
    "df_merge.columns.values"
   ]
  },
  {
   "cell_type": "markdown",
   "metadata": {},
   "source": [
    "# Prediction\n",
    "\n",
    "We will predict the average case growth rate at the beginning of the second wave in US (Jun 15- July 15) using the county socio-demographics, county political ideology, county reopening time by places, county mobility by places in the previous month, county weather condition, and county facemask wearing rate. Instead of using continuous growth rate, our response variable is the below/ above median of growth rate. Thus we will classify counties into two classes. \n",
    "\n",
    "This section will proceed in four steps: \n",
    "<br> (1) Overfitting multinomial logistic regression model;\n",
    "<br> (2) Lasso penalized multinomial logistic regression model;\n",
    "<br> (3) Random Forest classification model; \n",
    "<br> (4) ANN classification model. "
   ]
  },
  {
   "cell_type": "code",
   "execution_count": 76,
   "metadata": {},
   "outputs": [
    {
     "name": "stdout",
     "output_type": "stream",
     "text": [
      "(2531, 74) (3220, 82)\n"
     ]
    }
   ],
   "source": [
    "df_complete=df_merge.drop([ 'state_code','lat', 'long','IDNO','Income', 'IncomeErr', 'av_tem','reopen_early'],axis=1).dropna()\n",
    "print(df_complete.shape,df_merge.shape)"
   ]
  },
  {
   "cell_type": "code",
   "execution_count": 77,
   "metadata": {},
   "outputs": [
    {
     "name": "stdout",
     "output_type": "stream",
     "text": [
      "(2024, 74) (507, 74)\n"
     ]
    }
   ],
   "source": [
    "# split train-test data\n",
    "df_train, df_test, = train_test_split(\n",
    "    df_complete, test_size=0.2,  random_state = 121, shuffle=True\n",
    ")\n",
    "print(df_train.shape, df_test.shape)"
   ]
  },
  {
   "cell_type": "code",
   "execution_count": 79,
   "metadata": {},
   "outputs": [],
   "source": [
    "X_train=df_train.drop(['fips', 'county', 'state', 'democrat','delta_case', 'high_case',\n",
    "                      'facemask_score'],axis=1)\n",
    "X_test=df_test.drop(['fips', 'county', 'state', 'democrat','delta_case', 'high_case',\n",
    "                      'facemask_score'],axis=1)\n",
    "\n",
    "y_train=df_train['high_case']\n",
    "y_test=df_test['high_case']"
   ]
  },
  {
   "cell_type": "code",
   "execution_count": 80,
   "metadata": {},
   "outputs": [],
   "source": [
    "scaler = StandardScaler().fit(X_train)\n",
    "X_train_std = pd.DataFrame(scaler.transform(X_train), columns=X_train.columns)\n",
    "X_test_std = pd.DataFrame(scaler.transform(X_test), columns=X_test.columns)"
   ]
  },
  {
   "cell_type": "markdown",
   "metadata": {},
   "source": [
    "### Logistic regression\n",
    "(1) Simple logistic regression; (2) Lasso regularized; (3) PCA."
   ]
  },
  {
   "cell_type": "code",
   "execution_count": 81,
   "metadata": {},
   "outputs": [],
   "source": [
    "import warnings\n",
    "warnings.simplefilter(\"ignore\")"
   ]
  },
  {
   "cell_type": "code",
   "execution_count": 82,
   "metadata": {},
   "outputs": [
    {
     "name": "stdout",
     "output_type": "stream",
     "text": [
      "The training and testing classification accuracies are: 0.6502 0.6529\n"
     ]
    }
   ],
   "source": [
    "logit_basic=LogisticRegression(penalty=\"none\", solver='lbfgs', max_iter = 5000)\n",
    "logit_basic.fit(X_train,y_train)\n",
    "\n",
    "logit_basic_train_accuracy = logit_basic.score(X_train_std,y_train)\n",
    "logit_basic_test_accuracy = logit_basic.score(X_test_std,y_test)\n",
    "\n",
    "print(\"The training and testing classification accuracies are:\",logit_basic_train_accuracy.round(4),logit_basic_test_accuracy.round(4))"
   ]
  },
  {
   "cell_type": "markdown",
   "metadata": {},
   "source": [
    "LASSO"
   ]
  },
  {
   "cell_type": "code",
   "execution_count": 83,
   "metadata": {},
   "outputs": [
    {
     "name": "stdout",
     "output_type": "stream",
     "text": [
      "The training and testing classification accuracies are:  0.7045 and  0.6805\n",
      "Best regularization parameter  0.1000\n",
      "Model training time  31.2697\n"
     ]
    }
   ],
   "source": [
    "import timeit\n",
    "\n",
    "Cs = [1e-4,1e-3,1e-2,1e-1,1e0,1e1,1e2,1e3,1e4]\n",
    "cv = 3\n",
    "penalty = 'l1'\n",
    "solver = 'liblinear'\n",
    "\n",
    "t1 = timeit.default_timer()\n",
    "\n",
    "lasso_regr = LogisticRegressionCV(\n",
    "    Cs=Cs, cv=cv, penalty=penalty, solver=solver,max_iter = 5000\n",
    ").fit(X_train_std, y_train)\n",
    "\n",
    "# accuracy\n",
    "train_score_lasso = lasso_regr.score(X_train_std, y_train)\n",
    "test_score_lasso = lasso_regr.score(X_test_std, y_test)\n",
    "\n",
    "train_time = timeit.default_timer() - t1\n",
    "\n",
    "print(f'The training and testing classification accuracies are: {train_score_lasso: .4f} and {test_score_lasso: .4f}')\n",
    "print(f'Best regularization parameter {lasso_regr.C_[0]: .4f}')\n",
    "print(f'Model training time {train_time: .4f}')"
   ]
  },
  {
   "cell_type": "code",
   "execution_count": 85,
   "metadata": {},
   "outputs": [
    {
     "name": "stdout",
     "output_type": "stream",
     "text": [
      "26 predictors are considered unimportant\n",
      "41 predictors are considered important in the regularized model\n"
     ]
    }
   ],
   "source": [
    "print(str(np.sum(lasso_regr.coef_==0)) + ' predictors are considered unimportant')\n",
    "print(f'{np.sum(lasso_regr.coef_!=0)} predictors are considered important in the regularized model')"
   ]
  },
  {
   "cell_type": "code",
   "execution_count": 90,
   "metadata": {},
   "outputs": [
    {
     "data": {
      "text/html": [
       "<div>\n",
       "<style scoped>\n",
       "    .dataframe tbody tr th:only-of-type {\n",
       "        vertical-align: middle;\n",
       "    }\n",
       "\n",
       "    .dataframe tbody tr th {\n",
       "        vertical-align: top;\n",
       "    }\n",
       "\n",
       "    .dataframe thead th {\n",
       "        text-align: right;\n",
       "    }\n",
       "</style>\n",
       "<table border=\"1\" class=\"dataframe\">\n",
       "  <thead>\n",
       "    <tr style=\"text-align: right;\">\n",
       "      <th></th>\n",
       "      <th>var</th>\n",
       "      <th>lasso_coef</th>\n",
       "    </tr>\n",
       "  </thead>\n",
       "  <tbody>\n",
       "    <tr>\n",
       "      <th>48</th>\n",
       "      <td>demo_vote_share</td>\n",
       "      <td>-0.399421</td>\n",
       "    </tr>\n",
       "    <tr>\n",
       "      <th>4</th>\n",
       "      <td>Race_Hispanic</td>\n",
       "      <td>0.364402</td>\n",
       "    </tr>\n",
       "    <tr>\n",
       "      <th>60</th>\n",
       "      <td>reopen_business</td>\n",
       "      <td>-0.288933</td>\n",
       "    </tr>\n",
       "    <tr>\n",
       "      <th>51</th>\n",
       "      <td>parks_percent_change_from_baseline</td>\n",
       "      <td>-0.283682</td>\n",
       "    </tr>\n",
       "    <tr>\n",
       "      <th>54</th>\n",
       "      <td>residential_percent_change_from_baseline</td>\n",
       "      <td>-0.275268</td>\n",
       "    </tr>\n",
       "    <tr>\n",
       "      <th>19</th>\n",
       "      <td>WorkType_Production</td>\n",
       "      <td>-0.271562</td>\n",
       "    </tr>\n",
       "    <tr>\n",
       "      <th>42</th>\n",
       "      <td>Crime_ROBBERY</td>\n",
       "      <td>-0.265206</td>\n",
       "    </tr>\n",
       "    <tr>\n",
       "      <th>44</th>\n",
       "      <td>Crime_BURGLRY</td>\n",
       "      <td>0.259547</td>\n",
       "    </tr>\n",
       "    <tr>\n",
       "      <th>63</th>\n",
       "      <td>reopen_theater</td>\n",
       "      <td>-0.188151</td>\n",
       "    </tr>\n",
       "    <tr>\n",
       "      <th>32</th>\n",
       "      <td>Work_Unemployment</td>\n",
       "      <td>0.180765</td>\n",
       "    </tr>\n",
       "  </tbody>\n",
       "</table>\n",
       "</div>"
      ],
      "text/plain": [
       "                                         var  lasso_coef\n",
       "48                           demo_vote_share   -0.399421\n",
       "4                              Race_Hispanic    0.364402\n",
       "60                           reopen_business   -0.288933\n",
       "51        parks_percent_change_from_baseline   -0.283682\n",
       "54  residential_percent_change_from_baseline   -0.275268\n",
       "19                       WorkType_Production   -0.271562\n",
       "42                             Crime_ROBBERY   -0.265206\n",
       "44                             Crime_BURGLRY    0.259547\n",
       "63                            reopen_theater   -0.188151\n",
       "32                         Work_Unemployment    0.180765"
      ]
     },
     "execution_count": 90,
     "metadata": {},
     "output_type": "execute_result"
    }
   ],
   "source": [
    "df_lasso_coef=pd.DataFrame({'var': list(X_train.columns.values), 'lasso_coef': list(lasso_regr.coef_[0])}, columns=['var', 'lasso_coef'])\n",
    "df_lasso_coef['coef_abs']=df_lasso_coef['lasso_coef'].abs()\n",
    "df_lasso_coef=df_lasso_coef.sort_values(by='coef_abs', ascending=False)\n",
    "df_lasso_coef[['var','lasso_coef']].head(10)"
   ]
  },
  {
   "cell_type": "markdown",
   "metadata": {},
   "source": [
    "Three insights from the results:\n",
    "<br> (1) Political ideology is the largest predictor for second wave case growth, with the higher share of voters for democrats the lower probability to have high case growth;\n",
    "<br> (2) Late reopen of business and theater decrease the chances of a county to have high case growth in the second wave;\n",
    "<br> (3) Mobility is another important factor, with higher mobility at parks and residential places correlated with lower case growth."
   ]
  },
  {
   "cell_type": "markdown",
   "metadata": {},
   "source": [
    "PCA\n",
    "\n",
    "Since there are still many variables considered as important, we can try using PCA to further reduce the dimensions."
   ]
  },
  {
   "cell_type": "code",
   "execution_count": 91,
   "metadata": {},
   "outputs": [
    {
     "name": "stdout",
     "output_type": "stream",
     "text": [
      "Top 2 PCA variance explained:  0.344\n",
      "number of components that explain at least 90% of the variance= 29\n"
     ]
    },
    {
     "data": {
      "image/png": "[encoded data removed]",
      "text/plain": [
       "<Figure size 1152x576 with 1 Axes>"
      ]
     },
     "metadata": {
      "needs_background": "light"
     },
     "output_type": "display_data"
    }
   ],
   "source": [
    "pca = PCA().fit(X_train_std)\n",
    "pca_xtrain = pca.transform(X_train_std)\n",
    "pca_xtest = pca.transform(X_test_std)\n",
    "\n",
    "print( f'Top 2 PCA variance explained: {np.sum(pca.explained_variance_ratio_[0:2]): .3f}')\n",
    "\n",
    "var_explained = []\n",
    "total_comp = 60\n",
    "pca = PCA(n_components = total_comp).fit(X_train_std)\n",
    "\n",
    "fig, ax = plt.subplots(figsize=(16,8))\n",
    "ax.plot(range(1, total_comp+1), np.cumsum(pca.explained_variance_ratio_), 'o-')\n",
    "ax.axhline(0.90, linestyle='--', color='orange')\n",
    "ax.set_ylim(0,1)\n",
    "ax.set_xlabel('number of components')\n",
    "ax.set_ylabel('variance explained')\n",
    "ax.set_title('Cumulative variance explained',fontsize=15)\n",
    "\n",
    "print(\"number of components that explain at least 90% of the variance=\",\\\n",
    "    len(np.where(np.cumsum(pca.explained_variance_ratio_)<0.90)[0])+1)"
   ]
  },
  {
   "cell_type": "code",
   "execution_count": 92,
   "metadata": {},
   "outputs": [
    {
     "name": "stdout",
     "output_type": "stream",
     "text": [
      "The training and testing classification accuracies are:  0.6937 and  0.6824\n"
     ]
    }
   ],
   "source": [
    "component=29\n",
    "pca = PCA(n_components = component).fit(X_train_std)  \n",
    "X_train_pca = pca.transform(X_train_std)\n",
    "X_test_pca = pca.transform(X_test_std)\n",
    "    \n",
    "logreg_pca = LogisticRegression(penalty='none', solver='lbfgs', max_iter=10000)\n",
    "logreg_pca.fit(X_train_pca, y_train)\n",
    "\n",
    "y_train_pred_logreg_pca = logreg_pca.predict(X_train_pca)\n",
    "y_test_pred_logreg_pca = logreg_pca.predict(X_test_pca)\n",
    "train_score = accuracy_score(y_train, y_train_pred_logreg_pca)\n",
    "test_score = accuracy_score(y_test, y_test_pred_logreg_pca)\n",
    "\n",
    "print(f'The training and testing classification accuracies are: {train_score: .4f} and {test_score: .4f}')"
   ]
  },
  {
   "cell_type": "markdown",
   "metadata": {},
   "source": [
    "### Decision Tree\n",
    "(1) Simple decision tree;\n",
    "(2) Random Forest;\n",
    "(3) Boosting"
   ]
  },
  {
   "cell_type": "markdown",
   "metadata": {},
   "source": [
    "Simple decision tree"
   ]
  },
  {
   "cell_type": "code",
   "execution_count": 95,
   "metadata": {},
   "outputs": [],
   "source": [
    "depths = list(range(1, 21))\n",
    "\n",
    "def calc_meanstd(X_train, y_train, depths):\n",
    "    # your code here\n",
    "    cvmeans = []\n",
    "    cvstds = []\n",
    "    train_scores = []\n",
    "    cv_scores = []\n",
    "    \n",
    "    for depth in depths:\n",
    "        clf = DecisionTreeClassifier(max_depth=depth)\n",
    "        # Perform 5-fold cross validation and store results\n",
    "        train_scores.append(clf.fit(X_train, y_train).score(X_train, y_train))\n",
    "        scores = cross_val_score(estimator=clf, X=X_train, y=y_train, cv=5)\n",
    "        cvmeans.append(scores.mean())\n",
    "        cvstds.append(scores.std())\n",
    "    # end of your code here\n",
    "    return cvmeans, cvstds, train_scores\n",
    "\n",
    "cvmeans, cvstds, train_scores = calc_meanstd(X_train_std, y_train, depths)"
   ]
  },
  {
   "cell_type": "code",
   "execution_count": 96,
   "metadata": {},
   "outputs": [
    {
     "data": {
      "image/png": "[encoded data removed]",
      "text/plain": [
       "<Figure size 432x288 with 1 Axes>"
      ]
     },
     "metadata": {
      "needs_background": "light"
     },
     "output_type": "display_data"
    }
   ],
   "source": [
    "cvmeans = np.array(cvmeans)\n",
    "cvstds = np.array(cvstds)\n",
    "\n",
    "plt.plot(depths, cvmeans, '*-', label=\"Mean CV\")\n",
    "plt.fill_between(depths, cvmeans - 2*cvstds, cvmeans + 2*cvstds, alpha=0.3)\n",
    "ylim = plt.ylim()\n",
    "plt.plot(depths, train_scores, '-+', label=\"Train\")\n",
    "plt.ylim(ylim)\n",
    "\n",
    "plt.legend()\n",
    "plt.ylabel(\"Accuracy\")\n",
    "plt.xlabel(\"Max Depth\")\n",
    "plt.title(\"Accuracy over Tree Depths\")\n",
    "plt.xticks(depths);"
   ]
  },
  {
   "cell_type": "code",
   "execution_count": 97,
   "metadata": {},
   "outputs": [
    {
     "name": "stdout",
     "output_type": "stream",
     "text": [
      "Accuracy: mean=0.692, +/- 2 stdev: [0.652 -- 0.733]\n",
      "The tree of depth 2 achieved an accuracy of 0.657 on the test set.\n"
     ]
    }
   ],
   "source": [
    "best_cv_depth = 2\n",
    "# once depth is chosen (i.e. hyper-parameters are found), we re-fit the model with all train data (including validation data)\n",
    "fitted_tree = DecisionTreeClassifier(max_depth=best_cv_depth).fit(X_train_std, y_train)\n",
    "best_cv_tree_train_score = fitted_tree.score(X_train_std, y_train)\n",
    "best_cv_tree_test_score = fitted_tree.score(X_test_std, y_test)\n",
    "print(f\"The tree of depth {best_cv_depth} achieved an accuracy of {best_cv_tree_test_score:.3f} on the test set.\")"
   ]
  },
  {
   "cell_type": "markdown",
   "metadata": {},
   "source": [
    "Random Forests"
   ]
  },
  {
   "cell_type": "code",
   "execution_count": 99,
   "metadata": {},
   "outputs": [
    {
     "name": "stdout",
     "output_type": "stream",
     "text": [
      "The random forest scored 0.967 on the train set.\n",
      "The random forest scored 0.710 on the test set.\n"
     ]
    }
   ],
   "source": [
    "tree_depth=10\n",
    "n_trees = 55 \n",
    "\n",
    "fitted_rf = RandomForestClassifier(n_estimators=n_trees, max_features='sqrt', max_depth=tree_depth).fit(X_train_std,y_train)\n",
    "random_forest_train_score = fitted_rf.score(X_train_std, y_train)\n",
    "random_forest_test_score = fitted_rf.score(X_test_std, y_test)\n",
    "print(f\"The random forest scored {random_forest_train_score:.3f} on the train set.\")\n",
    "print(f\"The random forest scored {random_forest_test_score:.3f} on the test set.\")"
   ]
  },
  {
   "cell_type": "code",
   "execution_count": 102,
   "metadata": {},
   "outputs": [
    {
     "data": {
      "text/html": [
       "<div>\n",
       "<style scoped>\n",
       "    .dataframe tbody tr th:only-of-type {\n",
       "        vertical-align: middle;\n",
       "    }\n",
       "\n",
       "    .dataframe tbody tr th {\n",
       "        vertical-align: top;\n",
       "    }\n",
       "\n",
       "    .dataframe thead th {\n",
       "        text-align: right;\n",
       "    }\n",
       "</style>\n",
       "<table border=\"1\" class=\"dataframe\">\n",
       "  <thead>\n",
       "    <tr style=\"text-align: right;\">\n",
       "      <th></th>\n",
       "      <th>Count</th>\n",
       "    </tr>\n",
       "  </thead>\n",
       "  <tbody>\n",
       "    <tr>\n",
       "      <th>reopen_restaurant</th>\n",
       "      <td>8</td>\n",
       "    </tr>\n",
       "    <tr>\n",
       "      <th>reopen_bar</th>\n",
       "      <td>7</td>\n",
       "    </tr>\n",
       "    <tr>\n",
       "      <th>reopen_gym</th>\n",
       "      <td>6</td>\n",
       "    </tr>\n",
       "    <tr>\n",
       "      <th>reopen_theater</th>\n",
       "      <td>6</td>\n",
       "    </tr>\n",
       "    <tr>\n",
       "      <th>reopen_business</th>\n",
       "      <td>5</td>\n",
       "    </tr>\n",
       "    <tr>\n",
       "      <th>demo_vote_share</th>\n",
       "      <td>3</td>\n",
       "    </tr>\n",
       "    <tr>\n",
       "      <th>reopen_home</th>\n",
       "      <td>3</td>\n",
       "    </tr>\n",
       "    <tr>\n",
       "      <th>Work_PrivateWork</th>\n",
       "      <td>3</td>\n",
       "    </tr>\n",
       "    <tr>\n",
       "      <th>Poverty</th>\n",
       "      <td>3</td>\n",
       "    </tr>\n",
       "    <tr>\n",
       "      <th>workplaces_percent_change_from_baseline</th>\n",
       "      <td>2</td>\n",
       "    </tr>\n",
       "    <tr>\n",
       "      <th>facemask</th>\n",
       "      <td>2</td>\n",
       "    </tr>\n",
       "    <tr>\n",
       "      <th>Race_Hispanic</th>\n",
       "      <td>2</td>\n",
       "    </tr>\n",
       "    <tr>\n",
       "      <th>Employed</th>\n",
       "      <td>1</td>\n",
       "    </tr>\n",
       "    <tr>\n",
       "      <th>crime_rate_per_100000</th>\n",
       "      <td>1</td>\n",
       "    </tr>\n",
       "    <tr>\n",
       "      <th>Race_Pacific</th>\n",
       "      <td>1</td>\n",
       "    </tr>\n",
       "    <tr>\n",
       "      <th>WorkType_Construction</th>\n",
       "      <td>1</td>\n",
       "    </tr>\n",
       "    <tr>\n",
       "      <th>residential_percent_change_from_baseline</th>\n",
       "      <td>1</td>\n",
       "    </tr>\n",
       "  </tbody>\n",
       "</table>\n",
       "</div>"
      ],
      "text/plain": [
       "                                          Count\n",
       "reopen_restaurant                             8\n",
       "reopen_bar                                    7\n",
       "reopen_gym                                    6\n",
       "reopen_theater                                6\n",
       "reopen_business                               5\n",
       "demo_vote_share                               3\n",
       "reopen_home                                   3\n",
       "Work_PrivateWork                              3\n",
       "Poverty                                       3\n",
       "workplaces_percent_change_from_baseline       2\n",
       "facemask                                      2\n",
       "Race_Hispanic                                 2\n",
       "Employed                                      1\n",
       "crime_rate_per_100000                         1\n",
       "Race_Pacific                                  1\n",
       "WorkType_Construction                         1\n",
       "residential_percent_change_from_baseline      1"
      ]
     },
     "metadata": {},
     "output_type": "display_data"
    }
   ],
   "source": [
    "top_predictors_rf = [X_train.columns[model.tree_.feature[0]]  for  model in fitted_rf.estimators_ ]\n",
    "top_predictors_rf_df = pd.DataFrame(pd.Series(top_predictors_rf).value_counts(), columns=['Count'])\n",
    "display(top_predictors_rf_df)\n"
   ]
  },
  {
   "cell_type": "markdown",
   "metadata": {},
   "source": [
    "Boosting"
   ]
  },
  {
   "cell_type": "code",
   "execution_count": 116,
   "metadata": {},
   "outputs": [],
   "source": [
    "# ! pip install xgboost"
   ]
  },
  {
   "cell_type": "code",
   "execution_count": 105,
   "metadata": {},
   "outputs": [],
   "source": [
    "dtrain = xgb.DMatrix(X_train_std, label=y_train)\n",
    "dtest = xgb.DMatrix(X_test_std, label=y_test)"
   ]
  },
  {
   "cell_type": "code",
   "execution_count": 114,
   "metadata": {},
   "outputs": [
    {
     "name": "stdout",
     "output_type": "stream",
     "text": [
      "[19:29:31] WARNING: C:\\Users\\Administrator\\workspace\\xgboost-win64_release_1.2.0\\src\\learner.cc:516: \n",
      "Parameters: { silent } might not be used.\n",
      "\n",
      "  This may not be accurate due to some parameters are only used in language bindings but\n",
      "  passed down to XGBoost core.  Or some parameters are not used but slip through this\n",
      "  verification. Please open an issue if you find above cases.\n",
      "\n",
      "\n",
      "[0]\ttrain-merror:0.07411\n",
      "Will train until train-merror hasn't improved in 20 rounds.\n",
      "[20]\ttrain-merror:0.00000\n",
      "Stopping. Best iteration:\n",
      "[7]\ttrain-merror:0.00000\n",
      "\n",
      "XGBoost:\tAccuracy, Training Set \t: 100.00%\n",
      "XGBoost:\tAccuracy, Testing Set \t: 71.60%\n"
     ]
    }
   ],
   "source": [
    "# Parameters\n",
    "param = {\n",
    "    'max_depth': 12,  # the maximum depth of each tree\n",
    "    'eta': 0.3,               # the training step for each iteration\n",
    "    'silent': 1,              # logging mode - quiet\n",
    "    'objective': 'multi:softprob',  # error evaluation for multiclass training\n",
    "    'num_class': 2}           # the number of classes that exist in this datset\n",
    "\n",
    "# Number of training iterations\n",
    "num_round = 200  \n",
    "\n",
    "# Train XGBoost\n",
    "bst = xgb.train(param, \n",
    "                dtrain, \n",
    "                num_round, \n",
    "                evals= [(dtrain, 'train')], \n",
    "                early_stopping_rounds=20, # early stopping\n",
    "                verbose_eval=20)\n",
    "\n",
    "\n",
    "# Make prediction training set\n",
    "preds_train = bst.predict(dtrain)\n",
    "best_preds_train = np.asarray([np.argmax(line) for line in preds_train])\n",
    "\n",
    "# Make prediction test set\n",
    "preds_test = bst.predict(dtest)\n",
    "best_preds_test = np.asarray([np.argmax(line) for line in preds_test])\n",
    "\n",
    "# Performance Evaluation \n",
    "acc_XGBoost_training = accuracy_score(y_train, best_preds_train)*100\n",
    "acc_XGBoost_test = accuracy_score(y_test, best_preds_test)*100\n",
    "\n",
    "\n",
    "print(\"XGBoost:\\tAccuracy, Training Set \\t: {:0.2f}%\".format(acc_XGBoost_training))\n",
    "print(\"XGBoost:\\tAccuracy, Testing Set \\t: {:0.2f}%\".format(acc_XGBoost_test))"
   ]
  },
  {
   "cell_type": "markdown",
   "metadata": {},
   "source": [
    "### Artificial Neural Networks"
   ]
  },
  {
   "cell_type": "code",
   "execution_count": 151,
   "metadata": {},
   "outputs": [
    {
     "name": "stdout",
     "output_type": "stream",
     "text": [
      "Model: \"sequential_8\"\n",
      "_________________________________________________________________\n",
      "Layer (type)                 Output Shape              Param #   \n",
      "=================================================================\n",
      "hidden-1 (Dense)             (None, 15)                1020      \n",
      "_________________________________________________________________\n",
      "hidden-2 (Dense)             (None, 15)                240       \n",
      "_________________________________________________________________\n",
      "output (Dense)               (None, 1)                 16        \n",
      "=================================================================\n",
      "Total params: 1,276\n",
      "Trainable params: 1,276\n",
      "Non-trainable params: 0\n",
      "_________________________________________________________________\n"
     ]
    }
   ],
   "source": [
    "NN_model = tf.keras.models.Sequential()\n",
    "NN_model.add(tf.keras.layers.Dense(15, activation='sigmoid',\n",
    "                       input_shape=(X_train_std.shape[1],),name='hidden-1'))\n",
    "NN_model.add(tf.keras.layers.Dense(15, activation='sigmoid',name='hidden-2'))\n",
    "\n",
    "NN_model.add(tf.keras.layers.Dense(1, activation='sigmoid',name='output'))\n",
    "NN_model.summary()"
   ]
  },
  {
   "cell_type": "code",
   "execution_count": 152,
   "metadata": {},
   "outputs": [],
   "source": [
    "optimizer=tf.keras.optimizers.Adam(0.001)\n",
    "NN_model.compile(loss='binary_crossentropy', metrics=['accuracy'],optimizer=optimizer)\n",
    "NN_model_history=NN_model.fit(X_train_std,y_train,epochs=50,verbose=0,validation_split=0.2)"
   ]
  },
  {
   "cell_type": "code",
   "execution_count": 153,
   "metadata": {},
   "outputs": [
    {
     "data": {
      "image/png": "[encoded data removed]",
      "text/plain": [
       "<Figure size 432x288 with 1 Axes>"
      ]
     },
     "metadata": {
      "needs_background": "light"
     },
     "output_type": "display_data"
    }
   ],
   "source": [
    "plt.plot(NN_model_history.history['accuracy'],linewidth=2, label = 'Training')\n",
    "plt.plot(NN_model_history.history['val_accuracy'],linewidth=2, label = 'Validation', alpha=0.7)\n",
    "plt.xlabel('Epochs')\n",
    "plt.ylabel('Accuracy')\n",
    "plt.title('Accuracy and epochs')\n",
    "plt.legend()\n",
    "plt.show()"
   ]
  },
  {
   "cell_type": "code",
   "execution_count": 154,
   "metadata": {},
   "outputs": [
    {
     "name": "stdout",
     "output_type": "stream",
     "text": [
      "The training and testing accuracies are 0.7352 and 0.714\n"
     ]
    }
   ],
   "source": [
    "NN_train_acc=NN_model.evaluate(X_train_std, y_train,verbose=0)[1]\n",
    "NN_test_acc = NN_model.evaluate(X_test_std, y_test,verbose=0)[1]\n",
    "\n",
    "print(\"The training and testing accuracies are\", round(NN_train_acc,4), \"and\", round(NN_test_acc,4))"
   ]
  },
  {
   "cell_type": "markdown",
   "metadata": {},
   "source": [
    "Now we try to understand the implications of the results through proxying a logistic regression."
   ]
  },
  {
   "cell_type": "code",
   "execution_count": 161,
   "metadata": {},
   "outputs": [
    {
     "name": "stdout",
     "output_type": "stream",
     "text": [
      "The training and testing set accuracy are  0.708 and  0.7002\n"
     ]
    }
   ],
   "source": [
    "y_predict_train=NN_model.predict_classes(X_train_std).reshape(-1,)\n",
    "y_predict_test=NN_model.predict_classes(X_test_std).reshape(-1,)\n",
    "\n",
    "C=0.01\n",
    "penalty='l2'\n",
    "solver = 'lbfgs'\n",
    "\n",
    "logreg=LogisticRegression(C=C,penalty=penalty,solver=solver).fit(X_train_std, y_predict_train)\n",
    "logreg_train_acc = logreg.score(X_train_std, y_train)\n",
    "logreg_test_acc = logreg.score(X_test_std, y_test)\n",
    "\n",
    "print(\"The training and testing set accuracy are \",round(logreg_train_acc,4),\"and \",round(logreg_test_acc,4))"
   ]
  },
  {
   "cell_type": "code",
   "execution_count": 163,
   "metadata": {},
   "outputs": [
    {
     "data": {
      "image/png": "[encoded data removed]",
      "text/plain": [
       "<Figure size 432x288 with 1 Axes>"
      ]
     },
     "metadata": {
      "needs_background": "light"
     },
     "output_type": "display_data"
    }
   ],
   "source": [
    "perm_result = permutation_importance(logreg, X_train_std, y_predict_train, n_jobs=-1)\n",
    "features=X_train.columns.values\n",
    "top_10=perm_result.importances_mean.argsort()[-10:]\n",
    "top10_feature= features[top_10]\n",
    "top10_rel_score=perm_result.importances_mean[top_10]/perm_result.importances_mean.max()\n",
    "\n",
    "plt.barh(top10_feature, top10_rel_score)\n",
    "plt.ylabel('Features')\n",
    "plt.xlabel('Relative Importance')\n",
    "plt.title('Feature Relative Importance (top 10)')\n",
    "plt.show()"
   ]
  },
  {
   "cell_type": "markdown",
   "metadata": {},
   "source": [
    "Again, we see political ideology and reopening of business, restuarant and theater ahead of the list in predicting the second wave, folloed by race and mobility at parks and home."
   ]
  },
  {
   "cell_type": "code",
   "execution_count": null,
   "metadata": {},
   "outputs": [],
   "source": []
  }
 ],
 "metadata": {
  "kernelspec": {
   "display_name": "Python 3",
   "language": "python",
   "name": "python3"
  },
  "language_info": {
   "codemirror_mode": {
    "name": "ipython",
    "version": 3
   },
   "file_extension": ".py",
   "mimetype": "text/x-python",
   "name": "python",
   "nbconvert_exporter": "python",
   "pygments_lexer": "ipython3",
   "version": "3.7.8"
  }
 },
 "nbformat": 4,
 "nbformat_minor": 4
}
