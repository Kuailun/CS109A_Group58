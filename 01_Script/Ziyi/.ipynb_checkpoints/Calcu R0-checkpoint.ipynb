{
 "cells": [
  {
   "cell_type": "markdown",
   "metadata": {},
   "source": [
    "# Calculate R0"
   ]
  },
  {
   "cell_type": "markdown",
   "metadata": {},
   "source": [
    "### Formula"
   ]
  },
  {
   "cell_type": "markdown",
   "metadata": {},
   "source": [
    "$$\n",
    "R_{0}=\\left(1+r \\bar{T}_{L}\\right)\\left(1+r \\bar{T}_{I}\\right)\n",
    "$$\n",
    "\n",
    "$$\n",
    "b(t)=b(t-\\Delta t) e^{r \\Delta t}\n",
    "$$\n",
    "\n",
    "$$\n",
    "\\bar{T}_{I}= \\bar{S}{I} - \\bar{T}_{L}\n",
    "$$\n",
    "\n",
    "\n",
    "$\n",
    "\\bar{T}_{L}\\ \\ is\\ mean\\ latent\\ period.\n",
    "$ \n",
    "\n",
    "$\n",
    "\\bar{T}_{I}\\ \\ is\\ mean\\ infectious\\ period.\n",
    "$\n",
    "\n",
    "$\n",
    "\\bar{S}{I}\\ \\ is\\ serial \\ interval\n",
    "$\n",
    "\n",
    "$\n",
    "{r}\\ \\ is\\ reproductive \\ rate.\n",
    "$\n",
    "\n",
    "\n",
    "Reference: \\\n",
    "Wallinga, J., & Lipsitch, M. (2007). How generation intervals shape the relationship between growth rates and reproductive numbers. Proceedings of the Royal Society B: Biological Sciences, 274(1609), 599-604.\\\n",
    "https://zhuanlan.zhihu.com/p/106983592"
   ]
  },
  {
   "cell_type": "markdown",
   "metadata": {},
   "source": [
    "### Parameters"
   ]
  },
  {
   "cell_type": "markdown",
   "metadata": {},
   "source": [
    "Set $\\bar{T}_{L}$ to 2.0, based on https://en.wikipedia.org/wiki/Latent_period_(epidemiology)#cite_note-pmid32296168-4\n",
    "\n",
    "Set $\\bar{S}{I}$ to 5.8, based on He, X., Lau, E.H.Y., Wu, P. et al. Temporal dynamics in viral shedding and transmissibility of COVID-19. Nat Med 26, 672–675 (2020). https://doi.org/10.1038/s41591-020-0869-5\n"
   ]
  },
  {
   "cell_type": "markdown",
   "metadata": {},
   "source": [
    "### Explanation"
   ]
  },
  {
   "cell_type": "markdown",
   "metadata": {},
   "source": [
    "The latent period is the time from acquiring infection to the onset of infectiousness. The duration of the latent period is characteristic of particular infections.\n",
    "\n",
    "The infectious period is the time during which someone with an infection can transmit the infection to someone else. The degree of infectiousness varies through the infectious period. \n",
    "\n",
    "If the latent period is shorter than the incubation period, then individuals are infectious before they have symptoms. This can help the infection to spread more easily.\n",
    "If the latent period is longer than the incubation period, then people are infectious only after symptoms start. This means they can be recognised as being ill before they are infectious.\n"
   ]
  },
  {
   "cell_type": "code",
   "execution_count": null,
   "metadata": {},
   "outputs": [],
   "source": []
  },
  {
   "cell_type": "code",
   "execution_count": null,
   "metadata": {},
   "outputs": [],
   "source": [
    "r =1\n",
    "SI = 5.7\n",
    "TL = 2\n",
    "TI = SI - TL\n",
    "R1 = 1 + r * SI\n",
    "R2 = (1 + r * TL) * (1 + r * TI)\n",
    "print(R1 , R2)"
   ]
  }
 ],
 "metadata": {
  "kernelspec": {
   "display_name": "Python 3",
   "language": "python",
   "name": "python3"
  },
  "language_info": {
   "codemirror_mode": {
    "name": "ipython",
    "version": 3
   },
   "file_extension": ".py",
   "mimetype": "text/x-python",
   "name": "python",
   "nbconvert_exporter": "python",
   "pygments_lexer": "ipython3",
   "version": "3.7.8"
  }
 },
 "nbformat": 4,
 "nbformat_minor": 4
}
