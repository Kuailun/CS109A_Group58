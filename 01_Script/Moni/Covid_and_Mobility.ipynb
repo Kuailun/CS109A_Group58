{
  "nbformat": 4,
  "nbformat_minor": 0,
  "metadata": {
    "colab": {
      "name": "Covid_and_Mobility.ipynb",
      "provenance": [],
      "collapsed_sections": [],
      "toc_visible": true
    },
    "kernelspec": {
      "name": "python3",
      "display_name": "Python 3"
    }
  },
  "cells": [
    {
      "cell_type": "markdown",
      "metadata": {
        "id": "u7zJ2CO8bVeJ"
      },
      "source": [
        "# <img style=\"float: left; padding-right: 10px; width: 45px\" src=\"https://raw.githubusercontent.com/Harvard-IACS/2018-CS109A/master/content/styles/iacs.png\"> CS109A Introduction to Data Science: \n",
        "## Final Project: Mobility Data and Coronavirus Cases in the United States\n",
        "\n",
        "**Harvard University**<br/>\n",
        "**Fall 2020**<br/>\n",
        "**Instructors**: Pavlos Protopapas, Kevin Rader, and Chris Tanner\n",
        "\n",
        "<hr style=\"height:2.4pt\">"
      ]
    },
    {
      "cell_type": "code",
      "metadata": {
        "id": "fMd577HjVx-9",
        "colab": {
          "base_uri": "https://localhost:8080/",
          "height": 17
        },
        "outputId": "2ffb1d7b-61bf-4a21-ce18-29cb7992fa07"
      },
      "source": [
        "#RUN THIS CELL \n",
        "import requests\n",
        "from IPython.core.display import HTML\n",
        "styles = requests.get(\"https://raw.githubusercontent.com/Harvard-IACS/2018-CS109A/master/content/styles/cs109.css\").text\n",
        "HTML(styles)"
      ],
      "execution_count": 1,
      "outputs": [
        {
          "output_type": "execute_result",
          "data": {
            "text/html": [
              "<style>\n",
              "blockquote { background: #AEDE94; }\n",
              "h1 { \n",
              "    padding-top: 25px;\n",
              "    padding-bottom: 25px;\n",
              "    text-align: left; \n",
              "    padding-left: 10px;\n",
              "    background-color: #DDDDDD; \n",
              "    color: black;\n",
              "}\n",
              "h2 { \n",
              "    padding-top: 10px;\n",
              "    padding-bottom: 10px;\n",
              "    text-align: left; \n",
              "    padding-left: 5px;\n",
              "    background-color: #EEEEEE; \n",
              "    color: black;\n",
              "}\n",
              "\n",
              "div.exercise {\n",
              "\tbackground-color: #ffcccc;\n",
              "\tborder-color: #E9967A; \t\n",
              "\tborder-left: 5px solid #800080; \n",
              "\tpadding: 0.5em;\n",
              "}\n",
              "\n",
              "div.exercise-r {\n",
              "\tbackground-color: #fce8e8;\n",
              "\tborder-color: #E9967A; \t\n",
              "\tborder-left: 5px solid #800080; \n",
              "\tpadding: 0.5em;\n",
              "}\n",
              "\n",
              "\n",
              "span.sub-q {\n",
              "\tfont-weight: bold;\n",
              "}\n",
              "div.theme {\n",
              "\tbackground-color: #DDDDDD;\n",
              "\tborder-color: #E9967A; \t\n",
              "\tborder-left: 5px solid #800080; \n",
              "\tpadding: 0.5em;\n",
              "\tfont-size: 18pt;\n",
              "}\n",
              "div.gc { \n",
              "\tbackground-color: #AEDE94;\n",
              "\tborder-color: #E9967A; \t \n",
              "\tborder-left: 5px solid #800080; \n",
              "\tpadding: 0.5em;\n",
              "\tfont-size: 12pt;\n",
              "}\n",
              "p.q1 { \n",
              "    padding-top: 5px;\n",
              "    padding-bottom: 5px;\n",
              "    text-align: left; \n",
              "    padding-left: 5px;\n",
              "    background-color: #EEEEEE; \n",
              "    color: black;\n",
              "}\n",
              "header {\n",
              "   padding-top: 35px;\n",
              "    padding-bottom: 35px;\n",
              "    text-align: left; \n",
              "    padding-left: 10px;\n",
              "    background-color: #DDDDDD; \n",
              "    color: black;\n",
              "}\n",
              "</style>\n",
              "\n"
            ],
            "text/plain": [
              "<IPython.core.display.HTML object>"
            ]
          },
          "metadata": {
            "tags": []
          },
          "execution_count": 1
        }
      ]
    },
    {
      "cell_type": "code",
      "metadata": {
        "id": "ebPhs8FNbb7k"
      },
      "source": [
        "%matplotlib inline\n",
        "import numpy as np\n",
        "import pandas as pd\n",
        "import matplotlib\n",
        "import matplotlib.pyplot as plt\n",
        "import matplotlib.dates as mdates\n",
        "\n",
        "from sklearn.inspection import permutation_importance\n",
        "from sklearn.linear_model import LogisticRegression\n",
        "from sklearn.linear_model import LogisticRegressionCV\n",
        "from sklearn.metrics import roc_auc_score, accuracy_score\n",
        "from sklearn.model_selection import train_test_split\n",
        "from sklearn.preprocessing import StandardScaler\n",
        "from sklearn.utils import resample\n",
        "\n",
        "from sklearn.metrics import mean_squared_error\n",
        "from sklearn.preprocessing import PolynomialFeatures\n",
        "from sklearn.linear_model import LinearRegression\n",
        "\n",
        "from sklearn.tree import DecisionTreeClassifier\n",
        "from sklearn.ensemble import RandomForestClassifier\n",
        "from sklearn.ensemble import AdaBoostClassifier\n",
        "from sklearn.metrics import accuracy_score\n",
        "from sklearn.model_selection import cross_val_score\n",
        "\n",
        "from sklearn.decomposition import PCA\n",
        "import tensorflow as tf\n"
      ],
      "execution_count": 171,
      "outputs": []
    },
    {
      "cell_type": "code",
      "metadata": {
        "id": "CjUD7EoLb4bi"
      },
      "source": [
        "# read in the dataframes\n",
        "national_df = pd.read_csv(\"/US_Mobility_Report.csv\")\n",
        "state_df = pd.read_csv(\"/US_States_Mobility_Report.csv\")\n",
        "county_df = pd.read_csv(\"/US_Regional_Mobility_Report.csv\")\n",
        "cases_df = pd.read_csv(\"/covid_us_county.csv\")"
      ],
      "execution_count": 131,
      "outputs": []
    },
    {
      "cell_type": "code",
      "metadata": {
        "id": "OPupqS0fdgtJ",
        "colab": {
          "base_uri": "https://localhost:8080/"
        },
        "outputId": "0b450c52-e1c4-4045-e55f-d32fb1d3c4d9"
      },
      "source": [
        "print(national_df.shape)\n",
        "print(state_df.shape)\n",
        "print(county_df.shape)\n",
        "print(cases_df.shape)"
      ],
      "execution_count": 4,
      "outputs": [
        {
          "output_type": "stream",
          "text": [
            "(263, 7)\n",
            "(13413, 8)\n",
            "(68906, 10)\n",
            "(237099, 9)\n"
          ],
          "name": "stdout"
        }
      ]
    },
    {
      "cell_type": "code",
      "metadata": {
        "id": "5PIhM5bYdk7e"
      },
      "source": [
        "county_df.head()"
      ],
      "execution_count": null,
      "outputs": []
    },
    {
      "cell_type": "code",
      "metadata": {
        "id": "dV111zSbg6p0"
      },
      "source": [
        "cases_df.head()"
      ],
      "execution_count": null,
      "outputs": []
    },
    {
      "cell_type": "code",
      "metadata": {
        "id": "_uLLv-90g6xU",
        "colab": {
          "base_uri": "https://localhost:8080/"
        },
        "outputId": "25fff6fb-7b1d-48c8-d65e-eb70894d4a4d"
      },
      "source": [
        "# check for null columns\n",
        "null_columns = cases_df.columns[cases_df.isnull().any()]\n",
        "cases_df[null_columns].isnull().sum()"
      ],
      "execution_count": 5,
      "outputs": [
        {
          "output_type": "execute_result",
          "data": {
            "text/plain": [
              "county        1132\n",
              "cases            1\n",
              "state_code    1982\n",
              "deaths           1\n",
              "dtype: int64"
            ]
          },
          "metadata": {
            "tags": []
          },
          "execution_count": 5
        }
      ]
    },
    {
      "cell_type": "code",
      "metadata": {
        "id": "6y60jn9_g7d6",
        "colab": {
          "base_uri": "https://localhost:8080/"
        },
        "outputId": "c223d845-a52e-46dc-a162-35557968b1ed"
      },
      "source": [
        "# drop all null columns\n",
        "cases_df = cases_df.dropna()\n",
        "cases_df.isnull().any()\n",
        "# cases_df.loc[cases_df['state_code'].isnull()]"
      ],
      "execution_count": 6,
      "outputs": [
        {
          "output_type": "execute_result",
          "data": {
            "text/plain": [
              "fips          False\n",
              "county        False\n",
              "state         False\n",
              "lat           False\n",
              "long          False\n",
              "date          False\n",
              "cases         False\n",
              "state_code    False\n",
              "deaths        False\n",
              "dtype: bool"
            ]
          },
          "metadata": {
            "tags": []
          },
          "execution_count": 6
        }
      ]
    },
    {
      "cell_type": "code",
      "metadata": {
        "id": "ceBvL1RYg7g9",
        "colab": {
          "base_uri": "https://localhost:8080/"
        },
        "outputId": "b6716ffe-aeef-4b9a-f995-109cb4a8e351"
      },
      "source": [
        "# get the date ranges for the mobility data\n",
        "start_date = county_df.loc[county_df['census_fips_code'] == 1001]['date'][0]\n",
        "end_date = county_df.loc[county_df['census_fips_code'] == 1001].tail()['date'].iloc[4]\n",
        "print(start_date)\n",
        "print(end_date)"
      ],
      "execution_count": 7,
      "outputs": [
        {
          "output_type": "stream",
          "text": [
            "2020-02-15\n",
            "2020-11-03\n"
          ],
          "name": "stdout"
        }
      ]
    },
    {
      "cell_type": "code",
      "metadata": {
        "id": "x5nSBUJUkuFx"
      },
      "source": [
        "# save raw dataframe for cases\n",
        "cases_df_raw = cases_df.copy()"
      ],
      "execution_count": 8,
      "outputs": []
    },
    {
      "cell_type": "code",
      "metadata": {
        "id": "H6bI9tVGkuJA"
      },
      "source": [
        "# county_df.groupby('census_fips_code')\n",
        "county_df.rename(columns={\"census_fips_code\": \"fips\"}, inplace=True)"
      ],
      "execution_count": 132,
      "outputs": []
    },
    {
      "cell_type": "code",
      "metadata": {
        "id": "QnCWIWwwg6vX",
        "colab": {
          "base_uri": "https://localhost:8080/",
          "height": 202
        },
        "outputId": "e269a49d-b8cb-42d8-8fd1-2308f5565194"
      },
      "source": [
        "# county_df.groupby(by='census_fips_code').count()\n",
        "county_df['fips'] = county_df['fips'].astype(int)\n",
        "county_df.head()"
      ],
      "execution_count": 134,
      "outputs": [
        {
          "output_type": "execute_result",
          "data": {
            "text/html": [
              "<div>\n",
              "<style scoped>\n",
              "    .dataframe tbody tr th:only-of-type {\n",
              "        vertical-align: middle;\n",
              "    }\n",
              "\n",
              "    .dataframe tbody tr th {\n",
              "        vertical-align: top;\n",
              "    }\n",
              "\n",
              "    .dataframe thead th {\n",
              "        text-align: right;\n",
              "    }\n",
              "</style>\n",
              "<table border=\"1\" class=\"dataframe\">\n",
              "  <thead>\n",
              "    <tr style=\"text-align: right;\">\n",
              "      <th></th>\n",
              "      <th>sub_region_1</th>\n",
              "      <th>sub_region_2</th>\n",
              "      <th>fips</th>\n",
              "      <th>date</th>\n",
              "      <th>retail_and_recreation</th>\n",
              "      <th>grocery_and_pharmacy</th>\n",
              "      <th>parks</th>\n",
              "      <th>transit_stations</th>\n",
              "      <th>workplaces</th>\n",
              "      <th>residential</th>\n",
              "    </tr>\n",
              "  </thead>\n",
              "  <tbody>\n",
              "    <tr>\n",
              "      <th>0</th>\n",
              "      <td>Alabama</td>\n",
              "      <td>Autauga County</td>\n",
              "      <td>1001</td>\n",
              "      <td>2020-02-15</td>\n",
              "      <td>5</td>\n",
              "      <td>7</td>\n",
              "      <td>34.0</td>\n",
              "      <td>-10.0</td>\n",
              "      <td>-4.0</td>\n",
              "      <td>7.0</td>\n",
              "    </tr>\n",
              "    <tr>\n",
              "      <th>1</th>\n",
              "      <td>Alabama</td>\n",
              "      <td>Autauga County</td>\n",
              "      <td>1001</td>\n",
              "      <td>2020-02-16</td>\n",
              "      <td>0</td>\n",
              "      <td>1</td>\n",
              "      <td>-23.0</td>\n",
              "      <td>-10.0</td>\n",
              "      <td>-4.0</td>\n",
              "      <td>7.0</td>\n",
              "    </tr>\n",
              "    <tr>\n",
              "      <th>2</th>\n",
              "      <td>Alabama</td>\n",
              "      <td>Autauga County</td>\n",
              "      <td>1001</td>\n",
              "      <td>2020-02-17</td>\n",
              "      <td>8</td>\n",
              "      <td>0</td>\n",
              "      <td>34.0</td>\n",
              "      <td>-10.0</td>\n",
              "      <td>-27.0</td>\n",
              "      <td>5.0</td>\n",
              "    </tr>\n",
              "    <tr>\n",
              "      <th>3</th>\n",
              "      <td>Alabama</td>\n",
              "      <td>Autauga County</td>\n",
              "      <td>1001</td>\n",
              "      <td>2020-02-18</td>\n",
              "      <td>-2</td>\n",
              "      <td>0</td>\n",
              "      <td>34.0</td>\n",
              "      <td>-10.0</td>\n",
              "      <td>2.0</td>\n",
              "      <td>0.0</td>\n",
              "    </tr>\n",
              "    <tr>\n",
              "      <th>4</th>\n",
              "      <td>Alabama</td>\n",
              "      <td>Autauga County</td>\n",
              "      <td>1001</td>\n",
              "      <td>2020-02-19</td>\n",
              "      <td>-2</td>\n",
              "      <td>0</td>\n",
              "      <td>34.0</td>\n",
              "      <td>-10.0</td>\n",
              "      <td>2.0</td>\n",
              "      <td>0.0</td>\n",
              "    </tr>\n",
              "  </tbody>\n",
              "</table>\n",
              "</div>"
            ],
            "text/plain": [
              "  sub_region_1    sub_region_2  fips  ... transit_stations  workplaces  residential\n",
              "0      Alabama  Autauga County  1001  ...            -10.0        -4.0          7.0\n",
              "1      Alabama  Autauga County  1001  ...            -10.0        -4.0          7.0\n",
              "2      Alabama  Autauga County  1001  ...            -10.0       -27.0          5.0\n",
              "3      Alabama  Autauga County  1001  ...            -10.0         2.0          0.0\n",
              "4      Alabama  Autauga County  1001  ...            -10.0         2.0          0.0\n",
              "\n",
              "[5 rows x 10 columns]"
            ]
          },
          "metadata": {
            "tags": []
          },
          "execution_count": 134
        }
      ]
    },
    {
      "cell_type": "code",
      "metadata": {
        "id": "axcqsCpMoGFx"
      },
      "source": [
        "# for i in range(300): # for all the counties\n",
        "  #  for j in range(257): # for all the days from February 15 to November 3\n",
        "    #  county_df.set_value(i*j, i, )"
      ],
      "execution_count": 11,
      "outputs": []
    },
    {
      "cell_type": "code",
      "metadata": {
        "id": "pwaXBFabwU74",
        "colab": {
          "base_uri": "https://localhost:8080/"
        },
        "outputId": "527748d1-656e-4563-e714-304919c55fee"
      },
      "source": [
        "cases_df['date'] == '2020-01-22'"
      ],
      "execution_count": 12,
      "outputs": [
        {
          "output_type": "execute_result",
          "data": {
            "text/plain": [
              "0          True\n",
              "1         False\n",
              "2         False\n",
              "3         False\n",
              "4         False\n",
              "          ...  \n",
              "237093    False\n",
              "237094    False\n",
              "237095    False\n",
              "237096    False\n",
              "237097    False\n",
              "Name: date, Length: 235117, dtype: bool"
            ]
          },
          "metadata": {
            "tags": []
          },
          "execution_count": 12
        }
      ]
    },
    {
      "cell_type": "code",
      "metadata": {
        "id": "VXLhZtxjv8Z7"
      },
      "source": [
        "start_date_drop = cases_df.loc[cases_df['date'] == '2020-01-22'].index"
      ],
      "execution_count": 13,
      "outputs": []
    },
    {
      "cell_type": "code",
      "metadata": {
        "id": "b98mkJhMwBaI"
      },
      "source": [
        "end_date_drop = cases_df.loc[cases_df['date'] == start_date].index"
      ],
      "execution_count": 14,
      "outputs": []
    },
    {
      "cell_type": "code",
      "metadata": {
        "id": "l_TKvPoczkmO"
      },
      "source": [
        "# get the tail of dates to be dropped\n",
        "last_date_drop = cases_df.loc[cases_df['date'] == end_date].index"
      ],
      "execution_count": 15,
      "outputs": []
    },
    {
      "cell_type": "code",
      "metadata": {
        "id": "mTTRmu62zKRg",
        "colab": {
          "base_uri": "https://localhost:8080/"
        },
        "outputId": "1f648a92-8339-4139-b327-036ee279c316"
      },
      "source": [
        "print(len(start_date_drop))\n",
        "print(len(end_date_drop))\n",
        "print(len(last_date_drop))\n",
        "num_counties = len(start_date_drop)\n",
        "# the cases df ends sooner than the mobility df."
      ],
      "execution_count": 16,
      "outputs": [
        {
          "output_type": "stream",
          "text": [
            "831\n",
            "831\n",
            "0\n"
          ],
          "name": "stdout"
        }
      ]
    },
    {
      "cell_type": "code",
      "metadata": {
        "id": "insP7J9vwoDv"
      },
      "source": [
        "for i in range(831):\n",
        "  cases_df = cases_df.drop(cases_df.iloc[start_date_drop[i]:end_date_drop[i]].index)"
      ],
      "execution_count": 17,
      "outputs": []
    },
    {
      "cell_type": "code",
      "metadata": {
        "id": "ODQmZhc9xQbm",
        "colab": {
          "base_uri": "https://localhost:8080/"
        },
        "outputId": "57bc4e95-0bc0-4e28-9836-0fc1dafb0cb0"
      },
      "source": [
        "print(len(pd.unique(cases_df['fips'])))\n",
        "print(len(pd.unique(county_df['census_fips_code'])))"
      ],
      "execution_count": 18,
      "outputs": [
        {
          "output_type": "stream",
          "text": [
            "831\n",
            "300\n"
          ],
          "name": "stdout"
        }
      ]
    },
    {
      "cell_type": "code",
      "metadata": {
        "colab": {
          "base_uri": "https://localhost:8080/",
          "height": 202
        },
        "id": "aFaaX5cAy-Lj",
        "outputId": "1917c66b-e1fe-4055-8c22-20113ead599c"
      },
      "source": [
        "cases_df['fips'] = cases_df['fips'].astype(int)\n",
        "cases_df.head()"
      ],
      "execution_count": 138,
      "outputs": [
        {
          "output_type": "execute_result",
          "data": {
            "text/html": [
              "<div>\n",
              "<style scoped>\n",
              "    .dataframe tbody tr th:only-of-type {\n",
              "        vertical-align: middle;\n",
              "    }\n",
              "\n",
              "    .dataframe tbody tr th {\n",
              "        vertical-align: top;\n",
              "    }\n",
              "\n",
              "    .dataframe thead th {\n",
              "        text-align: right;\n",
              "    }\n",
              "</style>\n",
              "<table border=\"1\" class=\"dataframe\">\n",
              "  <thead>\n",
              "    <tr style=\"text-align: right;\">\n",
              "      <th></th>\n",
              "      <th>fips</th>\n",
              "      <th>county</th>\n",
              "      <th>state</th>\n",
              "      <th>lat</th>\n",
              "      <th>long</th>\n",
              "      <th>date</th>\n",
              "      <th>cases</th>\n",
              "      <th>state_code</th>\n",
              "      <th>deaths</th>\n",
              "    </tr>\n",
              "  </thead>\n",
              "  <tbody>\n",
              "    <tr>\n",
              "      <th>0</th>\n",
              "      <td>1001</td>\n",
              "      <td>Autauga</td>\n",
              "      <td>Alabama</td>\n",
              "      <td>32.539527</td>\n",
              "      <td>-86.644082</td>\n",
              "      <td>2020-01-22</td>\n",
              "      <td>0.0</td>\n",
              "      <td>AL</td>\n",
              "      <td>0.0</td>\n",
              "    </tr>\n",
              "    <tr>\n",
              "      <th>1</th>\n",
              "      <td>1001</td>\n",
              "      <td>Autauga</td>\n",
              "      <td>Alabama</td>\n",
              "      <td>32.539527</td>\n",
              "      <td>-86.644082</td>\n",
              "      <td>2020-01-23</td>\n",
              "      <td>0.0</td>\n",
              "      <td>AL</td>\n",
              "      <td>0.0</td>\n",
              "    </tr>\n",
              "    <tr>\n",
              "      <th>2</th>\n",
              "      <td>1001</td>\n",
              "      <td>Autauga</td>\n",
              "      <td>Alabama</td>\n",
              "      <td>32.539527</td>\n",
              "      <td>-86.644082</td>\n",
              "      <td>2020-01-24</td>\n",
              "      <td>0.0</td>\n",
              "      <td>AL</td>\n",
              "      <td>0.0</td>\n",
              "    </tr>\n",
              "    <tr>\n",
              "      <th>3</th>\n",
              "      <td>1001</td>\n",
              "      <td>Autauga</td>\n",
              "      <td>Alabama</td>\n",
              "      <td>32.539527</td>\n",
              "      <td>-86.644082</td>\n",
              "      <td>2020-01-25</td>\n",
              "      <td>0.0</td>\n",
              "      <td>AL</td>\n",
              "      <td>0.0</td>\n",
              "    </tr>\n",
              "    <tr>\n",
              "      <th>4</th>\n",
              "      <td>1001</td>\n",
              "      <td>Autauga</td>\n",
              "      <td>Alabama</td>\n",
              "      <td>32.539527</td>\n",
              "      <td>-86.644082</td>\n",
              "      <td>2020-01-26</td>\n",
              "      <td>0.0</td>\n",
              "      <td>AL</td>\n",
              "      <td>0.0</td>\n",
              "    </tr>\n",
              "  </tbody>\n",
              "</table>\n",
              "</div>"
            ],
            "text/plain": [
              "   fips   county    state        lat  ...        date cases  state_code deaths\n",
              "0  1001  Autauga  Alabama  32.539527  ...  2020-01-22   0.0          AL    0.0\n",
              "1  1001  Autauga  Alabama  32.539527  ...  2020-01-23   0.0          AL    0.0\n",
              "2  1001  Autauga  Alabama  32.539527  ...  2020-01-24   0.0          AL    0.0\n",
              "3  1001  Autauga  Alabama  32.539527  ...  2020-01-25   0.0          AL    0.0\n",
              "4  1001  Autauga  Alabama  32.539527  ...  2020-01-26   0.0          AL    0.0\n",
              "\n",
              "[5 rows x 9 columns]"
            ]
          },
          "metadata": {
            "tags": []
          },
          "execution_count": 138
        }
      ]
    },
    {
      "cell_type": "code",
      "metadata": {
        "id": "WVD0oGCfhvur"
      },
      "source": [
        "df = cases_df.merge(county_df)"
      ],
      "execution_count": 145,
      "outputs": []
    },
    {
      "cell_type": "code",
      "metadata": {
        "colab": {
          "base_uri": "https://localhost:8080/",
          "height": 69
        },
        "id": "_85GZO9ahWDQ",
        "outputId": "43fa0ecf-f359-425b-859d-cfff5a5c5677"
      },
      "source": [
        "df.loc[df['state'] != df['sub_region_1']]"
      ],
      "execution_count": 147,
      "outputs": [
        {
          "output_type": "execute_result",
          "data": {
            "text/html": [
              "<div>\n",
              "<style scoped>\n",
              "    .dataframe tbody tr th:only-of-type {\n",
              "        vertical-align: middle;\n",
              "    }\n",
              "\n",
              "    .dataframe tbody tr th {\n",
              "        vertical-align: top;\n",
              "    }\n",
              "\n",
              "    .dataframe thead th {\n",
              "        text-align: right;\n",
              "    }\n",
              "</style>\n",
              "<table border=\"1\" class=\"dataframe\">\n",
              "  <thead>\n",
              "    <tr style=\"text-align: right;\">\n",
              "      <th></th>\n",
              "      <th>fips</th>\n",
              "      <th>county</th>\n",
              "      <th>state</th>\n",
              "      <th>lat</th>\n",
              "      <th>long</th>\n",
              "      <th>date</th>\n",
              "      <th>cases</th>\n",
              "      <th>state_code</th>\n",
              "      <th>deaths</th>\n",
              "      <th>sub_region_1</th>\n",
              "      <th>sub_region_2</th>\n",
              "      <th>retail_and_recreation</th>\n",
              "      <th>grocery_and_pharmacy</th>\n",
              "      <th>parks</th>\n",
              "      <th>transit_stations</th>\n",
              "      <th>workplaces</th>\n",
              "      <th>residential</th>\n",
              "    </tr>\n",
              "  </thead>\n",
              "  <tbody>\n",
              "  </tbody>\n",
              "</table>\n",
              "</div>"
            ],
            "text/plain": [
              "Empty DataFrame\n",
              "Columns: [fips, county, state, lat, long, date, cases, state_code, deaths, sub_region_1, sub_region_2, retail_and_recreation, grocery_and_pharmacy, parks, transit_stations, workplaces, residential]\n",
              "Index: []"
            ]
          },
          "metadata": {
            "tags": []
          },
          "execution_count": 147
        }
      ]
    },
    {
      "cell_type": "code",
      "metadata": {
        "id": "2EmBK0LrhWAd"
      },
      "source": [
        ""
      ],
      "execution_count": null,
      "outputs": []
    },
    {
      "cell_type": "code",
      "metadata": {
        "colab": {
          "base_uri": "https://localhost:8080/",
          "height": 309
        },
        "id": "I5aoyhVm1BzE",
        "outputId": "fc29974e-fc2d-4f02-9d16-25aee5cecc5b"
      },
      "source": [
        "df.head()"
      ],
      "execution_count": 148,
      "outputs": [
        {
          "output_type": "execute_result",
          "data": {
            "text/html": [
              "<div>\n",
              "<style scoped>\n",
              "    .dataframe tbody tr th:only-of-type {\n",
              "        vertical-align: middle;\n",
              "    }\n",
              "\n",
              "    .dataframe tbody tr th {\n",
              "        vertical-align: top;\n",
              "    }\n",
              "\n",
              "    .dataframe thead th {\n",
              "        text-align: right;\n",
              "    }\n",
              "</style>\n",
              "<table border=\"1\" class=\"dataframe\">\n",
              "  <thead>\n",
              "    <tr style=\"text-align: right;\">\n",
              "      <th></th>\n",
              "      <th>fips</th>\n",
              "      <th>county</th>\n",
              "      <th>state</th>\n",
              "      <th>lat</th>\n",
              "      <th>long</th>\n",
              "      <th>date</th>\n",
              "      <th>cases</th>\n",
              "      <th>state_code</th>\n",
              "      <th>deaths</th>\n",
              "      <th>sub_region_1</th>\n",
              "      <th>sub_region_2</th>\n",
              "      <th>retail_and_recreation</th>\n",
              "      <th>grocery_and_pharmacy</th>\n",
              "      <th>parks</th>\n",
              "      <th>transit_stations</th>\n",
              "      <th>workplaces</th>\n",
              "      <th>residential</th>\n",
              "    </tr>\n",
              "  </thead>\n",
              "  <tbody>\n",
              "    <tr>\n",
              "      <th>0</th>\n",
              "      <td>1001</td>\n",
              "      <td>Autauga</td>\n",
              "      <td>Alabama</td>\n",
              "      <td>32.539527</td>\n",
              "      <td>-86.644082</td>\n",
              "      <td>2020-02-15</td>\n",
              "      <td>0.0</td>\n",
              "      <td>AL</td>\n",
              "      <td>0.0</td>\n",
              "      <td>Alabama</td>\n",
              "      <td>Autauga County</td>\n",
              "      <td>5</td>\n",
              "      <td>7</td>\n",
              "      <td>34.0</td>\n",
              "      <td>-10.0</td>\n",
              "      <td>-4.0</td>\n",
              "      <td>7.0</td>\n",
              "    </tr>\n",
              "    <tr>\n",
              "      <th>1</th>\n",
              "      <td>1001</td>\n",
              "      <td>Autauga</td>\n",
              "      <td>Alabama</td>\n",
              "      <td>32.539527</td>\n",
              "      <td>-86.644082</td>\n",
              "      <td>2020-02-16</td>\n",
              "      <td>0.0</td>\n",
              "      <td>AL</td>\n",
              "      <td>0.0</td>\n",
              "      <td>Alabama</td>\n",
              "      <td>Autauga County</td>\n",
              "      <td>0</td>\n",
              "      <td>1</td>\n",
              "      <td>-23.0</td>\n",
              "      <td>-10.0</td>\n",
              "      <td>-4.0</td>\n",
              "      <td>7.0</td>\n",
              "    </tr>\n",
              "    <tr>\n",
              "      <th>2</th>\n",
              "      <td>1001</td>\n",
              "      <td>Autauga</td>\n",
              "      <td>Alabama</td>\n",
              "      <td>32.539527</td>\n",
              "      <td>-86.644082</td>\n",
              "      <td>2020-02-17</td>\n",
              "      <td>0.0</td>\n",
              "      <td>AL</td>\n",
              "      <td>0.0</td>\n",
              "      <td>Alabama</td>\n",
              "      <td>Autauga County</td>\n",
              "      <td>8</td>\n",
              "      <td>0</td>\n",
              "      <td>34.0</td>\n",
              "      <td>-10.0</td>\n",
              "      <td>-27.0</td>\n",
              "      <td>5.0</td>\n",
              "    </tr>\n",
              "    <tr>\n",
              "      <th>3</th>\n",
              "      <td>1001</td>\n",
              "      <td>Autauga</td>\n",
              "      <td>Alabama</td>\n",
              "      <td>32.539527</td>\n",
              "      <td>-86.644082</td>\n",
              "      <td>2020-02-18</td>\n",
              "      <td>0.0</td>\n",
              "      <td>AL</td>\n",
              "      <td>0.0</td>\n",
              "      <td>Alabama</td>\n",
              "      <td>Autauga County</td>\n",
              "      <td>-2</td>\n",
              "      <td>0</td>\n",
              "      <td>34.0</td>\n",
              "      <td>-10.0</td>\n",
              "      <td>2.0</td>\n",
              "      <td>0.0</td>\n",
              "    </tr>\n",
              "    <tr>\n",
              "      <th>4</th>\n",
              "      <td>1001</td>\n",
              "      <td>Autauga</td>\n",
              "      <td>Alabama</td>\n",
              "      <td>32.539527</td>\n",
              "      <td>-86.644082</td>\n",
              "      <td>2020-02-19</td>\n",
              "      <td>0.0</td>\n",
              "      <td>AL</td>\n",
              "      <td>0.0</td>\n",
              "      <td>Alabama</td>\n",
              "      <td>Autauga County</td>\n",
              "      <td>-2</td>\n",
              "      <td>0</td>\n",
              "      <td>34.0</td>\n",
              "      <td>-10.0</td>\n",
              "      <td>2.0</td>\n",
              "      <td>0.0</td>\n",
              "    </tr>\n",
              "  </tbody>\n",
              "</table>\n",
              "</div>"
            ],
            "text/plain": [
              "   fips   county    state  ...  transit_stations  workplaces residential\n",
              "0  1001  Autauga  Alabama  ...             -10.0        -4.0         7.0\n",
              "1  1001  Autauga  Alabama  ...             -10.0        -4.0         7.0\n",
              "2  1001  Autauga  Alabama  ...             -10.0       -27.0         5.0\n",
              "3  1001  Autauga  Alabama  ...             -10.0         2.0         0.0\n",
              "4  1001  Autauga  Alabama  ...             -10.0         2.0         0.0\n",
              "\n",
              "[5 rows x 17 columns]"
            ]
          },
          "metadata": {
            "tags": []
          },
          "execution_count": 148
        }
      ]
    },
    {
      "cell_type": "code",
      "metadata": {
        "id": "qhZyJwGe1Csn"
      },
      "source": [
        "# drop nulls\n",
        "df = df.dropna()"
      ],
      "execution_count": 149,
      "outputs": []
    },
    {
      "cell_type": "code",
      "metadata": {
        "id": "ohB_NU4o1bfQ"
      },
      "source": [
        "# save raw df before work is done on it\n",
        "df_raw = df.copy()"
      ],
      "execution_count": 150,
      "outputs": []
    },
    {
      "cell_type": "markdown",
      "metadata": {
        "id": "VM46x9cm1Ohh"
      },
      "source": [
        "Now, hopefully, everything is matched up properly"
      ]
    },
    {
      "cell_type": "code",
      "metadata": {
        "id": "Zcwz8hty1HVQ"
      },
      "source": [
        "# drop the lats and longs\n",
        "df = df.drop(columns=['lat', 'long'])"
      ],
      "execution_count": 151,
      "outputs": []
    },
    {
      "cell_type": "code",
      "metadata": {
        "colab": {
          "base_uri": "https://localhost:8080/",
          "height": 309
        },
        "id": "8e5a5VNv1mPa",
        "outputId": "11bb8459-ccb5-4a81-bff5-b4d9ebb69825"
      },
      "source": [
        "df.head()"
      ],
      "execution_count": 152,
      "outputs": [
        {
          "output_type": "execute_result",
          "data": {
            "text/html": [
              "<div>\n",
              "<style scoped>\n",
              "    .dataframe tbody tr th:only-of-type {\n",
              "        vertical-align: middle;\n",
              "    }\n",
              "\n",
              "    .dataframe tbody tr th {\n",
              "        vertical-align: top;\n",
              "    }\n",
              "\n",
              "    .dataframe thead th {\n",
              "        text-align: right;\n",
              "    }\n",
              "</style>\n",
              "<table border=\"1\" class=\"dataframe\">\n",
              "  <thead>\n",
              "    <tr style=\"text-align: right;\">\n",
              "      <th></th>\n",
              "      <th>fips</th>\n",
              "      <th>county</th>\n",
              "      <th>state</th>\n",
              "      <th>date</th>\n",
              "      <th>cases</th>\n",
              "      <th>state_code</th>\n",
              "      <th>deaths</th>\n",
              "      <th>sub_region_1</th>\n",
              "      <th>sub_region_2</th>\n",
              "      <th>retail_and_recreation</th>\n",
              "      <th>grocery_and_pharmacy</th>\n",
              "      <th>parks</th>\n",
              "      <th>transit_stations</th>\n",
              "      <th>workplaces</th>\n",
              "      <th>residential</th>\n",
              "    </tr>\n",
              "  </thead>\n",
              "  <tbody>\n",
              "    <tr>\n",
              "      <th>0</th>\n",
              "      <td>1001</td>\n",
              "      <td>Autauga</td>\n",
              "      <td>Alabama</td>\n",
              "      <td>2020-02-15</td>\n",
              "      <td>0.0</td>\n",
              "      <td>AL</td>\n",
              "      <td>0.0</td>\n",
              "      <td>Alabama</td>\n",
              "      <td>Autauga County</td>\n",
              "      <td>5</td>\n",
              "      <td>7</td>\n",
              "      <td>34.0</td>\n",
              "      <td>-10.0</td>\n",
              "      <td>-4.0</td>\n",
              "      <td>7.0</td>\n",
              "    </tr>\n",
              "    <tr>\n",
              "      <th>1</th>\n",
              "      <td>1001</td>\n",
              "      <td>Autauga</td>\n",
              "      <td>Alabama</td>\n",
              "      <td>2020-02-16</td>\n",
              "      <td>0.0</td>\n",
              "      <td>AL</td>\n",
              "      <td>0.0</td>\n",
              "      <td>Alabama</td>\n",
              "      <td>Autauga County</td>\n",
              "      <td>0</td>\n",
              "      <td>1</td>\n",
              "      <td>-23.0</td>\n",
              "      <td>-10.0</td>\n",
              "      <td>-4.0</td>\n",
              "      <td>7.0</td>\n",
              "    </tr>\n",
              "    <tr>\n",
              "      <th>2</th>\n",
              "      <td>1001</td>\n",
              "      <td>Autauga</td>\n",
              "      <td>Alabama</td>\n",
              "      <td>2020-02-17</td>\n",
              "      <td>0.0</td>\n",
              "      <td>AL</td>\n",
              "      <td>0.0</td>\n",
              "      <td>Alabama</td>\n",
              "      <td>Autauga County</td>\n",
              "      <td>8</td>\n",
              "      <td>0</td>\n",
              "      <td>34.0</td>\n",
              "      <td>-10.0</td>\n",
              "      <td>-27.0</td>\n",
              "      <td>5.0</td>\n",
              "    </tr>\n",
              "    <tr>\n",
              "      <th>3</th>\n",
              "      <td>1001</td>\n",
              "      <td>Autauga</td>\n",
              "      <td>Alabama</td>\n",
              "      <td>2020-02-18</td>\n",
              "      <td>0.0</td>\n",
              "      <td>AL</td>\n",
              "      <td>0.0</td>\n",
              "      <td>Alabama</td>\n",
              "      <td>Autauga County</td>\n",
              "      <td>-2</td>\n",
              "      <td>0</td>\n",
              "      <td>34.0</td>\n",
              "      <td>-10.0</td>\n",
              "      <td>2.0</td>\n",
              "      <td>0.0</td>\n",
              "    </tr>\n",
              "    <tr>\n",
              "      <th>4</th>\n",
              "      <td>1001</td>\n",
              "      <td>Autauga</td>\n",
              "      <td>Alabama</td>\n",
              "      <td>2020-02-19</td>\n",
              "      <td>0.0</td>\n",
              "      <td>AL</td>\n",
              "      <td>0.0</td>\n",
              "      <td>Alabama</td>\n",
              "      <td>Autauga County</td>\n",
              "      <td>-2</td>\n",
              "      <td>0</td>\n",
              "      <td>34.0</td>\n",
              "      <td>-10.0</td>\n",
              "      <td>2.0</td>\n",
              "      <td>0.0</td>\n",
              "    </tr>\n",
              "  </tbody>\n",
              "</table>\n",
              "</div>"
            ],
            "text/plain": [
              "   fips   county    state  ... transit_stations  workplaces residential\n",
              "0  1001  Autauga  Alabama  ...            -10.0        -4.0         7.0\n",
              "1  1001  Autauga  Alabama  ...            -10.0        -4.0         7.0\n",
              "2  1001  Autauga  Alabama  ...            -10.0       -27.0         5.0\n",
              "3  1001  Autauga  Alabama  ...            -10.0         2.0         0.0\n",
              "4  1001  Autauga  Alabama  ...            -10.0         2.0         0.0\n",
              "\n",
              "[5 rows x 15 columns]"
            ]
          },
          "metadata": {
            "tags": []
          },
          "execution_count": 152
        }
      ]
    },
    {
      "cell_type": "code",
      "metadata": {
        "colab": {
          "base_uri": "https://localhost:8080/",
          "height": 314
        },
        "id": "5Ek1KMP_1nSq",
        "outputId": "463ee0c6-33b1-4605-8c01-7ab0178ad176"
      },
      "source": [
        "df.describe()"
      ],
      "execution_count": 153,
      "outputs": [
        {
          "output_type": "execute_result",
          "data": {
            "text/html": [
              "<div>\n",
              "<style scoped>\n",
              "    .dataframe tbody tr th:only-of-type {\n",
              "        vertical-align: middle;\n",
              "    }\n",
              "\n",
              "    .dataframe tbody tr th {\n",
              "        vertical-align: top;\n",
              "    }\n",
              "\n",
              "    .dataframe thead th {\n",
              "        text-align: right;\n",
              "    }\n",
              "</style>\n",
              "<table border=\"1\" class=\"dataframe\">\n",
              "  <thead>\n",
              "    <tr style=\"text-align: right;\">\n",
              "      <th></th>\n",
              "      <th>fips</th>\n",
              "      <th>cases</th>\n",
              "      <th>deaths</th>\n",
              "      <th>retail_and_recreation</th>\n",
              "      <th>grocery_and_pharmacy</th>\n",
              "      <th>parks</th>\n",
              "      <th>transit_stations</th>\n",
              "      <th>workplaces</th>\n",
              "      <th>residential</th>\n",
              "    </tr>\n",
              "  </thead>\n",
              "  <tbody>\n",
              "    <tr>\n",
              "      <th>count</th>\n",
              "      <td>67870.000000</td>\n",
              "      <td>67870.000000</td>\n",
              "      <td>67870.000000</td>\n",
              "      <td>67870.000000</td>\n",
              "      <td>67870.000000</td>\n",
              "      <td>67870.000000</td>\n",
              "      <td>67870.000000</td>\n",
              "      <td>67870.000000</td>\n",
              "      <td>67870.000000</td>\n",
              "    </tr>\n",
              "    <tr>\n",
              "      <th>mean</th>\n",
              "      <td>5142.030087</td>\n",
              "      <td>2509.070723</td>\n",
              "      <td>63.150965</td>\n",
              "      <td>-11.704155</td>\n",
              "      <td>0.483159</td>\n",
              "      <td>28.651481</td>\n",
              "      <td>-12.672241</td>\n",
              "      <td>-23.803418</td>\n",
              "      <td>7.505304</td>\n",
              "    </tr>\n",
              "    <tr>\n",
              "      <th>std</th>\n",
              "      <td>2910.863292</td>\n",
              "      <td>12684.687708</td>\n",
              "      <td>315.286394</td>\n",
              "      <td>17.706361</td>\n",
              "      <td>11.822019</td>\n",
              "      <td>33.517721</td>\n",
              "      <td>17.690115</td>\n",
              "      <td>14.856997</td>\n",
              "      <td>4.742235</td>\n",
              "    </tr>\n",
              "    <tr>\n",
              "      <th>min</th>\n",
              "      <td>1001.000000</td>\n",
              "      <td>0.000000</td>\n",
              "      <td>0.000000</td>\n",
              "      <td>-100.000000</td>\n",
              "      <td>-80.000000</td>\n",
              "      <td>-91.000000</td>\n",
              "      <td>-87.000000</td>\n",
              "      <td>-88.000000</td>\n",
              "      <td>-21.000000</td>\n",
              "    </tr>\n",
              "    <tr>\n",
              "      <th>25%</th>\n",
              "      <td>2130.000000</td>\n",
              "      <td>9.000000</td>\n",
              "      <td>0.000000</td>\n",
              "      <td>-20.000000</td>\n",
              "      <td>-4.000000</td>\n",
              "      <td>31.000000</td>\n",
              "      <td>-12.000000</td>\n",
              "      <td>-33.000000</td>\n",
              "      <td>6.000000</td>\n",
              "    </tr>\n",
              "    <tr>\n",
              "      <th>50%</th>\n",
              "      <td>5119.000000</td>\n",
              "      <td>154.000000</td>\n",
              "      <td>2.000000</td>\n",
              "      <td>-9.000000</td>\n",
              "      <td>2.000000</td>\n",
              "      <td>34.000000</td>\n",
              "      <td>-10.000000</td>\n",
              "      <td>-24.000000</td>\n",
              "      <td>7.000000</td>\n",
              "    </tr>\n",
              "    <tr>\n",
              "      <th>75%</th>\n",
              "      <td>6113.000000</td>\n",
              "      <td>1067.000000</td>\n",
              "      <td>22.000000</td>\n",
              "      <td>-3.000000</td>\n",
              "      <td>3.000000</td>\n",
              "      <td>34.000000</td>\n",
              "      <td>-10.000000</td>\n",
              "      <td>-15.000000</td>\n",
              "      <td>8.000000</td>\n",
              "    </tr>\n",
              "    <tr>\n",
              "      <th>max</th>\n",
              "      <td>12023.000000</td>\n",
              "      <td>306327.000000</td>\n",
              "      <td>7056.000000</td>\n",
              "      <td>140.000000</td>\n",
              "      <td>114.000000</td>\n",
              "      <td>501.000000</td>\n",
              "      <td>134.000000</td>\n",
              "      <td>26.000000</td>\n",
              "      <td>37.000000</td>\n",
              "    </tr>\n",
              "  </tbody>\n",
              "</table>\n",
              "</div>"
            ],
            "text/plain": [
              "               fips          cases  ...    workplaces   residential\n",
              "count  67870.000000   67870.000000  ...  67870.000000  67870.000000\n",
              "mean    5142.030087    2509.070723  ...    -23.803418      7.505304\n",
              "std     2910.863292   12684.687708  ...     14.856997      4.742235\n",
              "min     1001.000000       0.000000  ...    -88.000000    -21.000000\n",
              "25%     2130.000000       9.000000  ...    -33.000000      6.000000\n",
              "50%     5119.000000     154.000000  ...    -24.000000      7.000000\n",
              "75%     6113.000000    1067.000000  ...    -15.000000      8.000000\n",
              "max    12023.000000  306327.000000  ...     26.000000     37.000000\n",
              "\n",
              "[8 rows x 9 columns]"
            ]
          },
          "metadata": {
            "tags": []
          },
          "execution_count": 153
        }
      ]
    },
    {
      "cell_type": "code",
      "metadata": {
        "id": "CuctkAMx1o8J"
      },
      "source": [
        "# save all predictors in its own variable\n",
        "all_predictors = ['retail_and_recreation', 'grocery_and_pharmacy', 'parks', 'transit_stations', 'workplaces', 'residential']"
      ],
      "execution_count": 154,
      "outputs": []
    },
    {
      "cell_type": "code",
      "metadata": {
        "id": "xo2KPPjk2Uaj"
      },
      "source": [
        "# split between predictors and response variables\n",
        "X = df.drop(columns=['cases', 'deaths'])\n",
        "y_cases = df['cases']\n",
        "y_deaths = df['deaths']"
      ],
      "execution_count": 155,
      "outputs": []
    },
    {
      "cell_type": "code",
      "metadata": {
        "colab": {
          "base_uri": "https://localhost:8080/"
        },
        "id": "iCNNofAk2UEC",
        "outputId": "90ed38c4-8675-4875-c609-60863cf11351"
      },
      "source": [
        "# split between train and test data -- for covid cases\n",
        "X_train_raw, X_test_raw, y_train_raw_cases, y_test_raw_cases = train_test_split(X, y_cases, test_size=0.3, random_state=111)\n",
        "print(f\"The shape of: \\n\"\n",
        "      f\"X_train is {X_train_raw.shape}\\n\"\n",
        "      f\"X_test is {X_test_raw.shape}\\n\"\n",
        "      f\"y_train is {y_train_raw_cases.shape}\\n\"\n",
        "      f\"y_test is {y_test_raw_cases.shape}\\n\")\n",
        "X_train, X_test, y_train_cases, y_test_cases = X_train_raw, X_test_raw, y_train_raw_cases, y_test_raw_cases"
      ],
      "execution_count": 156,
      "outputs": [
        {
          "output_type": "stream",
          "text": [
            "The shape of: \n",
            "X_train is (47509, 13)\n",
            "X_test is (20361, 13)\n",
            "y_train is (47509,)\n",
            "y_test is (20361,)\n",
            "\n"
          ],
          "name": "stdout"
        }
      ]
    },
    {
      "cell_type": "code",
      "metadata": {
        "colab": {
          "base_uri": "https://localhost:8080/"
        },
        "id": "zZXQem8HEVGG",
        "outputId": "8fd85f2d-b3d0-4539-8008-012e75dba143"
      },
      "source": [
        "# split between train and test data -- for covid deaths\n",
        "X_train_raw_deaths, X_test_raw_deaths, y_train_raw_deaths, y_test_raw_deaths = train_test_split(X, y_deaths, test_size=0.3, random_state=111)\n",
        "print(f\"The shape of: \\n\"\n",
        "      f\"X_train is {X_train_raw_deaths.shape}\\n\"\n",
        "      f\"X_test is {X_test_raw_deaths.shape}\\n\"\n",
        "      f\"y_train is {y_train_raw_deaths.shape}\\n\"\n",
        "      f\"y_test is {y_test_raw_deaths.shape}\\n\")\n",
        "X_train_deaths, X_test_deaths, y_train_deaths, y_test_deaths = X_train_raw_deaths, X_train_raw_deaths, y_train_raw_deaths, y_test_raw_deaths"
      ],
      "execution_count": 157,
      "outputs": [
        {
          "output_type": "stream",
          "text": [
            "The shape of: \n",
            "X_train is (47509, 13)\n",
            "X_test is (20361, 13)\n",
            "y_train is (47509,)\n",
            "y_test is (20361,)\n",
            "\n"
          ],
          "name": "stdout"
        }
      ]
    },
    {
      "cell_type": "code",
      "metadata": {
        "id": "kMpG1O5DDBN6"
      },
      "source": [
        "# # scale the data for good measure\n",
        "# # maybe late\n",
        "# scaled = StandardScaler().fit(X_train_raw[all_predictors])\n",
        "# X_train[all_predictors] = pd.DataFrame(scaled.transform(X_train_raw[all_predictors]), columns=X_train_raw[all_predictors].columns)\n",
        "# X_test[all_predictors] = pd.DataFrame(scaled.transform(X_test_raw[all_predictors]), columns=X_test_raw[all_predictors].columns)\n",
        "# y_train, y_test = y_train_raw_cases.astype(int), y_test_raw_cases.astype(int)"
      ],
      "execution_count": 55,
      "outputs": []
    },
    {
      "cell_type": "code",
      "metadata": {
        "id": "bXRP85rOGYYB"
      },
      "source": [
        "N=X_test.shape[0]"
      ],
      "execution_count": 158,
      "outputs": []
    },
    {
      "cell_type": "code",
      "metadata": {
        "id": "2SdcqqBh2Tw6",
        "colab": {
          "base_uri": "https://localhost:8080/"
        },
        "outputId": "18474b78-b817-4f4e-83e1-3a53d0ede60d"
      },
      "source": [
        "%%time\n",
        "# N= 5000\n",
        "logit_basic = LogisticRegression(penalty=\"none\")\n",
        "logit_basic.fit(X_train[all_predictors].head(N), y_train_cases.head(N))\n"
      ],
      "execution_count": 159,
      "outputs": [
        {
          "output_type": "stream",
          "text": [
            "CPU times: user 10min 45s, sys: 34.4 s, total: 11min 19s\n",
            "Wall time: 9min 47s\n"
          ],
          "name": "stdout"
        },
        {
          "output_type": "stream",
          "text": [
            "/usr/local/lib/python3.6/dist-packages/sklearn/linear_model/_logistic.py:940: ConvergenceWarning: lbfgs failed to converge (status=1):\n",
            "STOP: TOTAL NO. of ITERATIONS REACHED LIMIT.\n",
            "\n",
            "Increase the number of iterations (max_iter) or scale the data as shown in:\n",
            "    https://scikit-learn.org/stable/modules/preprocessing.html\n",
            "Please also refer to the documentation for alternative solver options:\n",
            "    https://scikit-learn.org/stable/modules/linear_model.html#logistic-regression\n",
            "  extra_warning_msg=_LOGISTIC_SOLVER_CONVERGENCE_MSG)\n"
          ],
          "name": "stderr"
        }
      ]
    },
    {
      "cell_type": "code",
      "metadata": {
        "id": "M7EK_crO7ITB",
        "colab": {
          "base_uri": "https://localhost:8080/"
        },
        "outputId": "507b57f5-ebaf-4616-b3a8-8b1a6b03cd2c"
      },
      "source": [
        "%%time\n",
        "logit_basic_train_accuracy = logit_basic.score(X_train[all_predictors].head(N), y_train_cases.head(N))\n",
        "logit_basic_test_accuracy = logit_basic.score(X_test[all_predictors].head(N), y_test_cases.head(N))\n",
        "\n",
        "print(logit_basic_train_accuracy)\n",
        "print(logit_basic_test_accuracy)"
      ],
      "execution_count": 160,
      "outputs": [
        {
          "output_type": "stream",
          "text": [
            "0.14242915377437257\n",
            "0.14233092677176956\n",
            "CPU times: user 1.41 s, sys: 215 ms, total: 1.62 s\n",
            "Wall time: 1.07 s\n"
          ],
          "name": "stdout"
        }
      ]
    },
    {
      "cell_type": "code",
      "metadata": {
        "colab": {
          "base_uri": "https://localhost:8080/"
        },
        "id": "CBgWxKAHBxKR",
        "outputId": "c76a6298-add8-4371-cb18-f602cb140754"
      },
      "source": [
        "|"
      ],
      "execution_count": 32,
      "outputs": [
        {
          "output_type": "stream",
          "text": [
            "0.335\n",
            "0.165\n"
          ],
          "name": "stdout"
        }
      ]
    },
    {
      "cell_type": "code",
      "metadata": {
        "colab": {
          "base_uri": "https://localhost:8080/"
        },
        "id": "sGeNF0iXEpwa",
        "outputId": "393c02e2-d763-41b2-ea52-5c8d804280ea"
      },
      "source": [
        "%%time\n",
        "logit_basic_deaths = LogisticRegression(penalty=\"none\")\n",
        "logit_basic_deaths.fit(X_train_deaths[all_predictors].head(N), y_train_deaths.head(N))\n"
      ],
      "execution_count": 161,
      "outputs": [
        {
          "output_type": "stream",
          "text": [
            "CPU times: user 1min 43s, sys: 12.8 s, total: 1min 55s\n",
            "Wall time: 1min 33s\n"
          ],
          "name": "stdout"
        },
        {
          "output_type": "stream",
          "text": [
            "/usr/local/lib/python3.6/dist-packages/sklearn/linear_model/_logistic.py:940: ConvergenceWarning: lbfgs failed to converge (status=1):\n",
            "STOP: TOTAL NO. of ITERATIONS REACHED LIMIT.\n",
            "\n",
            "Increase the number of iterations (max_iter) or scale the data as shown in:\n",
            "    https://scikit-learn.org/stable/modules/preprocessing.html\n",
            "Please also refer to the documentation for alternative solver options:\n",
            "    https://scikit-learn.org/stable/modules/linear_model.html#logistic-regression\n",
            "  extra_warning_msg=_LOGISTIC_SOLVER_CONVERGENCE_MSG)\n"
          ],
          "name": "stderr"
        }
      ]
    },
    {
      "cell_type": "code",
      "metadata": {
        "colab": {
          "base_uri": "https://localhost:8080/"
        },
        "id": "FYSmRMPpE6Ye",
        "outputId": "2b65879b-2585-46be-915e-158481ab09dd"
      },
      "source": [
        "%%time\n",
        "logit_basic_train_accuracy_deaths = logit_basic_deaths.score(X_train_deaths[all_predictors].head(N), y_train_deaths.head(N))\n",
        "logit_basic_test_accuracy_deaths = logit_basic_deaths.score(X_test_deaths[all_predictors].head(N), y_test_deaths.head(N))\n",
        "\n",
        "print(logit_basic_train_accuracy_deaths)\n",
        "print(logit_basic_test_accuracy_deaths)"
      ],
      "execution_count": 162,
      "outputs": [
        {
          "output_type": "stream",
          "text": [
            "0.34477677913658467\n",
            "0.3394234074947203\n",
            "CPU times: user 310 ms, sys: 130 ms, total: 440 ms\n",
            "Wall time: 231 ms\n"
          ],
          "name": "stdout"
        }
      ]
    },
    {
      "cell_type": "code",
      "metadata": {
        "colab": {
          "base_uri": "https://localhost:8080/"
        },
        "id": "MLrKcM2yHTMm",
        "outputId": "a14369a1-3dc2-4e58-ffa7-0aeb8644deb8"
      },
      "source": [
        "%%time\n",
        "# N=5000\n",
        "predictor_ca_deaths_train = {}\n",
        "predictor_ca_deaths_test = {}\n",
        "for predictor in all_predictors:\n",
        "\n",
        "  logit_basic_deaths = LogisticRegression(penalty=\"none\")\n",
        "  logit_basic_deaths.fit(X_train_deaths[[predictor]].head(N), y_train_deaths.head(N))\n",
        "\n",
        "  logit_basic_train_accuracy_deaths = logit_basic_deaths.score(X_train_deaths[[predictor]].head(N), y_train_deaths.head(N))\n",
        "  logit_basic_test_accuracy_deaths = logit_basic_deaths.score(X_test_deaths[[predictor]].head(N), y_test_deaths.head(N))\n",
        "  predictor_ca_deaths_train.update([(predictor, logit_basic_train_accuracy_deaths)])\n",
        "  predictor_ca_deaths_test.update([(predictor, logit_basic_test_accuracy_deaths)])\n",
        "\n",
        "  # print(logit_basic_train_accuracy_deaths)\n",
        "  # print(logit_basic_test_accuracy_deaths)"
      ],
      "execution_count": 163,
      "outputs": [
        {
          "output_type": "stream",
          "text": [
            "/usr/local/lib/python3.6/dist-packages/sklearn/linear_model/_logistic.py:940: ConvergenceWarning: lbfgs failed to converge (status=1):\n",
            "STOP: TOTAL NO. of ITERATIONS REACHED LIMIT.\n",
            "\n",
            "Increase the number of iterations (max_iter) or scale the data as shown in:\n",
            "    https://scikit-learn.org/stable/modules/preprocessing.html\n",
            "Please also refer to the documentation for alternative solver options:\n",
            "    https://scikit-learn.org/stable/modules/linear_model.html#logistic-regression\n",
            "  extra_warning_msg=_LOGISTIC_SOLVER_CONVERGENCE_MSG)\n",
            "/usr/local/lib/python3.6/dist-packages/sklearn/linear_model/_logistic.py:940: ConvergenceWarning: lbfgs failed to converge (status=1):\n",
            "STOP: TOTAL NO. of ITERATIONS REACHED LIMIT.\n",
            "\n",
            "Increase the number of iterations (max_iter) or scale the data as shown in:\n",
            "    https://scikit-learn.org/stable/modules/preprocessing.html\n",
            "Please also refer to the documentation for alternative solver options:\n",
            "    https://scikit-learn.org/stable/modules/linear_model.html#logistic-regression\n",
            "  extra_warning_msg=_LOGISTIC_SOLVER_CONVERGENCE_MSG)\n",
            "/usr/local/lib/python3.6/dist-packages/sklearn/linear_model/_logistic.py:940: ConvergenceWarning: lbfgs failed to converge (status=1):\n",
            "STOP: TOTAL NO. of ITERATIONS REACHED LIMIT.\n",
            "\n",
            "Increase the number of iterations (max_iter) or scale the data as shown in:\n",
            "    https://scikit-learn.org/stable/modules/preprocessing.html\n",
            "Please also refer to the documentation for alternative solver options:\n",
            "    https://scikit-learn.org/stable/modules/linear_model.html#logistic-regression\n",
            "  extra_warning_msg=_LOGISTIC_SOLVER_CONVERGENCE_MSG)\n",
            "/usr/local/lib/python3.6/dist-packages/sklearn/linear_model/_logistic.py:940: ConvergenceWarning: lbfgs failed to converge (status=1):\n",
            "STOP: TOTAL NO. of ITERATIONS REACHED LIMIT.\n",
            "\n",
            "Increase the number of iterations (max_iter) or scale the data as shown in:\n",
            "    https://scikit-learn.org/stable/modules/preprocessing.html\n",
            "Please also refer to the documentation for alternative solver options:\n",
            "    https://scikit-learn.org/stable/modules/linear_model.html#logistic-regression\n",
            "  extra_warning_msg=_LOGISTIC_SOLVER_CONVERGENCE_MSG)\n",
            "/usr/local/lib/python3.6/dist-packages/sklearn/linear_model/_logistic.py:940: ConvergenceWarning: lbfgs failed to converge (status=1):\n",
            "STOP: TOTAL NO. of ITERATIONS REACHED LIMIT.\n",
            "\n",
            "Increase the number of iterations (max_iter) or scale the data as shown in:\n",
            "    https://scikit-learn.org/stable/modules/preprocessing.html\n",
            "Please also refer to the documentation for alternative solver options:\n",
            "    https://scikit-learn.org/stable/modules/linear_model.html#logistic-regression\n",
            "  extra_warning_msg=_LOGISTIC_SOLVER_CONVERGENCE_MSG)\n",
            "/usr/local/lib/python3.6/dist-packages/sklearn/linear_model/_logistic.py:940: ConvergenceWarning: lbfgs failed to converge (status=1):\n",
            "STOP: TOTAL NO. of ITERATIONS REACHED LIMIT.\n",
            "\n",
            "Increase the number of iterations (max_iter) or scale the data as shown in:\n",
            "    https://scikit-learn.org/stable/modules/preprocessing.html\n",
            "Please also refer to the documentation for alternative solver options:\n",
            "    https://scikit-learn.org/stable/modules/linear_model.html#logistic-regression\n",
            "  extra_warning_msg=_LOGISTIC_SOLVER_CONVERGENCE_MSG)\n"
          ],
          "name": "stderr"
        },
        {
          "output_type": "stream",
          "text": [
            "CPU times: user 9min 39s, sys: 1min 6s, total: 10min 45s\n",
            "Wall time: 9min 22s\n"
          ],
          "name": "stdout"
        }
      ]
    },
    {
      "cell_type": "code",
      "metadata": {
        "colab": {
          "base_uri": "https://localhost:8080/"
        },
        "id": "fvLGqca7H_Ti",
        "outputId": "8b8dd844-6610-4817-e57e-34e617d74d6a"
      },
      "source": [
        "print(predictor_ca_deaths_train)\n",
        "print(\" \")\n",
        "print(predictor_ca_deaths_test)"
      ],
      "execution_count": 164,
      "outputs": [
        {
          "output_type": "stream",
          "text": [
            "{'retail_and_recreation': 0.3558764304307254, 'grocery_and_pharmacy': 0.3577427434801827, 'parks': 0.3521438043318108, 'transit_stations': 0.3582829919944993, 'workplaces': 0.34502234664309217, 'residential': 0.3581356514905948}\n",
            " \n",
            "{'retail_and_recreation': 0.3654044496832179, 'grocery_and_pharmacy': 0.3678601247482933, 'parks': 0.3507195127940671, 'transit_stations': 0.3659446981975345, 'workplaces': 0.3403074505181474, 'residential': 0.3611315750699867}\n"
          ],
          "name": "stdout"
        }
      ]
    },
    {
      "cell_type": "markdown",
      "metadata": {
        "id": "6fCvDEz9SHXH"
      },
      "source": [
        "It looks like all the predictors have about the same classification accuracy."
      ]
    },
    {
      "cell_type": "markdown",
      "metadata": {
        "id": "IOaVENvSbE44"
      },
      "source": [
        "Let's try a different type of model now"
      ]
    },
    {
      "cell_type": "code",
      "metadata": {
        "colab": {
          "base_uri": "https://localhost:8080/",
          "height": 550
        },
        "id": "sZ4FjYSAIU_g",
        "outputId": "18451db1-1733-4e8f-b239-37002703ffdc"
      },
      "source": [
        "pca = PCA().fit(X_train_deaths[all_predictors])\n",
        "pca_xtrain = pca.transform(X_train_deaths[all_predictors])\n",
        "pca_xtest = pca.transform(X_test_deaths[all_predictors])\n",
        "\n",
        "print( f'Top 2 PCA variance explained: {np.sum(pca.explained_variance_ratio_[0:2]): .3f}')\n",
        "\n",
        "var_explained = []\n",
        "total_comp = 6\n",
        "pca = PCA(n_components = total_comp).fit(X_train_deaths[all_predictors])\n",
        "\n",
        "fig, ax = plt.subplots(figsize=(16,8))\n",
        "ax.plot(range(1, total_comp+1), np.cumsum(pca.explained_variance_ratio_), 'o-')\n",
        "ax.axhline(0.90, linestyle='--', color='orange')\n",
        "ax.set_ylim(0,1)\n",
        "ax.set_xlabel('number of components')\n",
        "ax.set_ylabel('variance explained')\n",
        "ax.set_title('Cumulative variance explained',fontsize=15)\n",
        "\n",
        "print(\"number of components that explain at least 90% of the variance=\",\\\n",
        "    len(np.where(np.cumsum(pca.explained_variance_ratio_)<0.90)[0])+1)"
      ],
      "execution_count": 167,
      "outputs": [
        {
          "output_type": "stream",
          "text": [
            "Top 2 PCA variance explained:  0.839\n",
            "number of components that explain at least 90% of the variance= 3\n"
          ],
          "name": "stdout"
        },
        {
          "output_type": "display_data",
          "data": {
            "image/png": "[encoded data removed]",
            "text/plain": [
              "<Figure size 1152x576 with 1 Axes>"
            ]
          },
          "metadata": {
            "tags": [],
            "needs_background": "light"
          }
        }
      ]
    },
    {
      "cell_type": "markdown",
      "metadata": {
        "id": "TWsm5Dfaauju"
      },
      "source": [
        "As we can see, we need about half the components to explain at least 90% of the variance."
      ]
    },
    {
      "cell_type": "code",
      "metadata": {
        "colab": {
          "base_uri": "https://localhost:8080/"
        },
        "id": "7F15jyvfVQg_",
        "outputId": "9cc54ad1-df03-4b04-effe-71c25fda285b"
      },
      "source": [
        "%%time\n",
        "N=5000\n",
        "component=6\n",
        "pca = PCA(n_components = component).fit(X_train_deaths[all_predictors].head(N))  \n",
        "X_train_pca = pca.transform(X_train_deaths[all_predictors].head(N))\n",
        "X_test_pca = pca.transform(X_test_deaths[all_predictors].head(N))\n",
        "    \n",
        "logreg_pca = LogisticRegression(penalty='none', solver='lbfgs')\n",
        "logreg_pca.fit(X_train_pca, y_train_deaths.head(N))\n",
        "\n",
        "y_train_pred_logreg_pca = logreg_pca.predict(X_train_pca)\n",
        "y_test_pred_logreg_pca = logreg_pca.predict(X_test_pca)\n",
        "train_score = accuracy_score(y_train_deaths.head(N), y_train_pred_logreg_pca)\n",
        "test_score = accuracy_score(y_test_deaths.head(N), y_test_pred_logreg_pca)\n",
        "\n",
        "print(f'The training and testing classification accuracies are: {train_score: .4f} and {test_score: .4f}')"
      ],
      "execution_count": 168,
      "outputs": [
        {
          "output_type": "stream",
          "text": [
            "The training and testing classification accuracies are:  0.3496 and  0.3410\n",
            "CPU times: user 20.5 s, sys: 11.3 s, total: 31.7 s\n",
            "Wall time: 17.4 s\n"
          ],
          "name": "stdout"
        },
        {
          "output_type": "stream",
          "text": [
            "/usr/local/lib/python3.6/dist-packages/sklearn/linear_model/_logistic.py:940: ConvergenceWarning: lbfgs failed to converge (status=1):\n",
            "STOP: TOTAL NO. of ITERATIONS REACHED LIMIT.\n",
            "\n",
            "Increase the number of iterations (max_iter) or scale the data as shown in:\n",
            "    https://scikit-learn.org/stable/modules/preprocessing.html\n",
            "Please also refer to the documentation for alternative solver options:\n",
            "    https://scikit-learn.org/stable/modules/linear_model.html#logistic-regression\n",
            "  extra_warning_msg=_LOGISTIC_SOLVER_CONVERGENCE_MSG)\n"
          ],
          "name": "stderr"
        }
      ]
    },
    {
      "cell_type": "code",
      "metadata": {
        "id": "qzaxgjTwrYoQ"
      },
      "source": [
        ""
      ],
      "execution_count": null,
      "outputs": []
    },
    {
      "cell_type": "code",
      "metadata": {
        "id": "aCv0XwYlrYq8"
      },
      "source": [
        "depths = list(range(1, 21))\n",
        "\n",
        "def calc_meanstd(X_train, y_train, depths):\n",
        "    # your code here\n",
        "    cvmeans = []\n",
        "    cvstds = []\n",
        "    train_scores = []\n",
        "    cv_scores = []\n",
        "    \n",
        "    for depth in depths:\n",
        "        clf = DecisionTreeClassifier(max_depth=depth)\n",
        "        train_scores.append(clf.fit(X_train, y_train).score(X_train, y_train))\n",
        "        scores = cross_val_score(estimator=clf, X=X_train, y=y_train, cv=5)\n",
        "        cvmeans.append(scores.mean())\n",
        "        cvstds.append(scores.std())\n",
        "    # end of your code here\n",
        "    return cvmeans, cvstds, train_scores\n",
        "\n",
        "cvmeans, cvstds, train_scores = calc_meanstd(X_train_deaths[all_predictors], y_train_deaths, depths)"
      ],
      "execution_count": null,
      "outputs": []
    },
    {
      "cell_type": "code",
      "metadata": {
        "colab": {
          "base_uri": "https://localhost:8080/",
          "height": 295
        },
        "id": "mYdJmLLhrYuM",
        "outputId": "ce0e66f6-2e0a-4f88-e0bb-8f3dab59d34f"
      },
      "source": [
        "cvmeans = np.array(cvmeans)\n",
        "cvstds = np.array(cvstds)\n",
        "\n",
        "plt.plot(depths, cvmeans, '*-', label=\"Mean CV\")\n",
        "plt.fill_between(depths, cvmeans - 2*cvstds, cvmeans + 2*cvstds, alpha=0.3)\n",
        "ylim = plt.ylim()\n",
        "plt.plot(depths, train_scores, '-+', label=\"Train\")\n",
        "plt.ylim(ylim)\n",
        "\n",
        "plt.legend()\n",
        "plt.ylabel(\"Accuracy\")\n",
        "plt.xlabel(\"Max Depth\")\n",
        "plt.title(\"Accuracy over Tree Depths\")\n",
        "plt.xticks(depths);"
      ],
      "execution_count": 181,
      "outputs": [
        {
          "output_type": "display_data",
          "data": {
            "image/png": "[encoded data removed]",
            "text/plain": [
              "<Figure size 432x288 with 1 Axes>"
            ]
          },
          "metadata": {
            "tags": [],
            "needs_background": "light"
          }
        }
      ]
    },
    {
      "cell_type": "markdown",
      "metadata": {
        "id": "h269gGV2sM3G"
      },
      "source": [
        "Looks like the best depth is around 10. Let's make that tree again then."
      ]
    },
    {
      "cell_type": "code",
      "metadata": {
        "colab": {
          "base_uri": "https://localhost:8080/"
        },
        "id": "Ta6yj18orYw5",
        "outputId": "7765a510-4bbd-4a31-b090-9341aba2341c"
      },
      "source": [
        "best_depth = 10\n",
        "fitted_tree = DecisionTreeClassifier(max_depth=best_depth).fit(X_train_deaths[all_predictors].head(N), y_train_deaths.head(N))\n",
        "best_cv_tree_train_score = fitted_tree.score(X_train_deaths[all_predictors].head(N), y_train_deaths.head(N))\n",
        "best_cv_tree_test_score = fitted_tree.score(X_test_deaths[all_predictors].head(N), y_test_deaths.head(N))\n",
        "print(best_cv_tree_test_score)"
      ],
      "execution_count": 185,
      "outputs": [
        {
          "output_type": "stream",
          "text": [
            "0.2552\n"
          ],
          "name": "stdout"
        }
      ]
    },
    {
      "cell_type": "code",
      "metadata": {
        "id": "PPuUT8aurYzg"
      },
      "source": [
        ""
      ],
      "execution_count": null,
      "outputs": []
    },
    {
      "cell_type": "code",
      "metadata": {
        "id": "SfYS-gJNrY20"
      },
      "source": [
        ""
      ],
      "execution_count": null,
      "outputs": []
    },
    {
      "cell_type": "code",
      "metadata": {
        "colab": {
          "base_uri": "https://localhost:8080/"
        },
        "id": "0rsG1_4hV7QO",
        "outputId": "9f11721b-789c-45de-e7ad-60c2332aff83"
      },
      "source": [
        "NN_model = tf.keras.models.Sequential()\n",
        "NN_model.add(tf.keras.layers.InputLayer(input_shape=X_train_deaths[all_predictors].shape[1])) # input layer\n",
        "NN_model.add(tf.keras.layers.Dense(100, activation='relu',name='hidden-1'))\n",
        "NN_model.add(tf.keras.layers.Dense(100, activation='relu',name='hidden-2'))\n",
        "NN_model.add(tf.keras.layers.Dense(100, activation='relu',name='hidden-3'))\n",
        "NN_model.add(tf.keras.layers.Dense(1, activation='sigmoid',name='output'))\n",
        "NN_model.summary()"
      ],
      "execution_count": 192,
      "outputs": [
        {
          "output_type": "stream",
          "text": [
            "Model: \"sequential_3\"\n",
            "_________________________________________________________________\n",
            "Layer (type)                 Output Shape              Param #   \n",
            "=================================================================\n",
            "hidden-1 (Dense)             (None, 100)               700       \n",
            "_________________________________________________________________\n",
            "hidden-2 (Dense)             (None, 100)               10100     \n",
            "_________________________________________________________________\n",
            "hidden-3 (Dense)             (None, 100)               10100     \n",
            "_________________________________________________________________\n",
            "output (Dense)               (None, 1)                 101       \n",
            "=================================================================\n",
            "Total params: 21,001\n",
            "Trainable params: 21,001\n",
            "Non-trainable params: 0\n",
            "_________________________________________________________________\n"
          ],
          "name": "stdout"
        }
      ]
    },
    {
      "cell_type": "code",
      "metadata": {
        "colab": {
          "base_uri": "https://localhost:8080/"
        },
        "id": "R0zI2eVLqfGx",
        "outputId": "22f81766-c92e-4361-ee48-137347f81f4d"
      },
      "source": [
        "%%time\n",
        "NN_model.compile(loss='binary_crossentropy', \n",
        "                 metrics=['accuracy'], \n",
        "                 optimizer=tf.keras.optimizers.Adam())\n",
        "history = NN_model.fit(X_train_deaths[all_predictors], y_train_deaths, \n",
        "                              epochs=100, verbose=0, validation_split=0.3)"
      ],
      "execution_count": 196,
      "outputs": [
        {
          "output_type": "stream",
          "text": [
            "CPU times: user 3min 34s, sys: 24.4 s, total: 3min 59s\n",
            "Wall time: 2min 36s\n"
          ],
          "name": "stdout"
        }
      ]
    },
    {
      "cell_type": "code",
      "metadata": {
        "colab": {
          "base_uri": "https://localhost:8080/"
        },
        "id": "QZnFCyimq8T6",
        "outputId": "26e68a11-8d56-4ce2-e551-1912fb14677c"
      },
      "source": [
        "# take a quick look at the train accuracy \n",
        "train_accuracy_regular = NN_model.evaluate(X_train_deaths[all_predictors].head(N), y_train_deaths.head(N))[1]\n",
        "test_accuracy_regular = NN_model.evaluate(X_test_deaths[all_predictors].head(N), y_test_deaths.head(N))[1]\n",
        "print(f\"Train accuracy is {train_accuracy_regular}, test accuracy is {test_accuracy_regular}\")"
      ],
      "execution_count": 201,
      "outputs": [
        {
          "output_type": "stream",
          "text": [
            "157/157 [==============================] - 0s 955us/step - loss: -182058063040086016.0000 - accuracy: 0.0820\n",
            "157/157 [==============================] - 0s 944us/step - loss: -121140935563149312.0000 - accuracy: 0.0756\n",
            "Train accuracy is 0.0820000022649765, test accuracy is 0.07559999823570251\n"
          ],
          "name": "stdout"
        }
      ]
    },
    {
      "cell_type": "code",
      "metadata": {
        "id": "lpcWEHVvwBux"
      },
      "source": [
        ""
      ],
      "execution_count": null,
      "outputs": []
    }
  ]
}