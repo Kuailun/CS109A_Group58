{
 "cells": [
  {
   "cell_type": "code",
   "execution_count": 1,
   "metadata": {},
   "outputs": [],
   "source": [
    "import pandas as pd\n",
    "import numpy as np\n",
    "from matplotlib import pyplot as plt\n",
    "from tqdm import tqdm\n",
    "import seaborn as sns\n",
    "from sklearn.model_selection import train_test_split\n",
    "\n",
    "from sklearn.preprocessing import PolynomialFeatures\n",
    "\n",
    "from sklearn.linear_model import LinearRegression\n",
    "from sklearn.linear_model import LogisticRegression\n",
    "from sklearn.linear_model import Lasso\n",
    "\n",
    "from sklearn.tree import DecisionTreeRegressor\n",
    "from sklearn.ensemble import AdaBoostRegressor\n",
    "\n",
    "from sklearn.neural_network import MLPRegressor\n",
    "\n",
    "from sklearn.metrics import mean_squared_error\n",
    "from sklearn.metrics import r2_score\n",
    "import statsmodels.api as sm\n",
    "import xlrd"
   ]
  },
  {
   "cell_type": "code",
   "execution_count": 20,
   "metadata": {},
   "outputs": [],
   "source": [
    "df_policy = pd.read_excel(r\"../../../02_Data\\03_Policy\\COVID_StatePolicy_final.xlsx\")\n",
    "temp_case = pd.read_csv(r\"../../../02_Data\\01_COVID\\covid_us_county.csv\")\n",
    "temp_case.dropna(inplace=True)\n",
    "temp_case = temp_case[['fips','lat','long','date','cases','deaths','state_code','state']]\n",
    "temp_case['fips'] = temp_case.fips.astype(int)\n",
    "df_policy=temp_case.merge(df_policy, on=['state_code','state'],how='left')"
   ]
  },
  {
   "cell_type": "code",
   "execution_count": 13,
   "metadata": {},
   "outputs": [
    {
     "name": "stdout",
     "output_type": "stream",
     "text": [
      "<class 'pandas.core.frame.DataFrame'>\n",
      "Int64Index: 945220 entries, 0 to 945219\n",
      "Data columns (total 27 columns):\n",
      " #   Column                       Non-Null Count   Dtype         \n",
      "---  ------                       --------------   -----         \n",
      " 0   fips                         942390 non-null  float64       \n",
      " 1   county                       943522 non-null  object        \n",
      " 2   state                        945220 non-null  object        \n",
      " 3   lat                          945220 non-null  float64       \n",
      " 4   long                         945220 non-null  float64       \n",
      " 5   date                         945220 non-null  datetime64[ns]\n",
      " 6   cases                        945220 non-null  int64         \n",
      " 7   state_code                   920033 non-null  object        \n",
      " 8   deaths                       945220 non-null  int64         \n",
      " 9   state_fips                   920033 non-null  float64       \n",
      " 10  emergency                    920033 non-null  datetime64[ns]\n",
      " 11  stay_at_home                 658258 non-null  datetime64[ns]\n",
      " 12  gathering                    920033 non-null  float64       \n",
      " 13  end_stay_at_home             729008 non-null  datetime64[ns]\n",
      " 14  close_school                 918052 non-null  datetime64[ns]\n",
      " 15  close_nonessential_business  900789 non-null  datetime64[ns]\n",
      " 16  close_restaurant             900789 non-null  datetime64[ns]\n",
      " 17  close_gym                    900789 non-null  datetime64[ns]\n",
      " 18  close_theater                900789 non-null  datetime64[ns]\n",
      " 19  close_bar                    900789 non-null  datetime64[ns]\n",
      " 20  reopen_business              900789 non-null  datetime64[ns]\n",
      " 21  reopen_restaurant            890318 non-null  datetime64[ns]\n",
      " 22  reopen_gym                   828341 non-null  datetime64[ns]\n",
      " 23  reopen_theater               760704 non-null  datetime64[ns]\n",
      " 24  reopen_bar                   819285 non-null  datetime64[ns]\n",
      " 25  facemask                     602507 non-null  datetime64[ns]\n",
      " 26  date_object                  945220 non-null  object        \n",
      "dtypes: datetime64[ns](16), float64(5), int64(2), object(4)\n",
      "memory usage: 201.9+ MB\n",
      "None\n"
     ]
    }
   ],
   "source": [
    "df_policy['date_object'] = df_policy['date']\n",
    "df_policy['date'] = df_policy['date'].astype('datetime64[ns]')"
   ]
  },
  {
   "cell_type": "code",
   "execution_count": 14,
   "metadata": {},
   "outputs": [],
   "source": [
    "df_policy['policy_home']=np.where((df_policy['date']>=df_policy['stay_at_home']) \n",
    "                                 & (df_policy['date']<=df_policy['end_stay_at_home'])\n",
    "                                 , 1, 0)\n",
    "\n",
    "df_policy['policy_school']=np.where((df_policy['date']>=df_policy['close_school']), 1, 0)\n",
    "\n",
    "df_policy['policy_business']=np.where((df_policy['date']>=df_policy['close_nonessential_business']) \n",
    "                                 & (df_policy['date']<=df_policy['reopen_business']), 1, 0)\n",
    "\n",
    "df_policy['policy_restaurant']=np.where((df_policy['date']>=df_policy['close_restaurant']) \n",
    "                                 & (df_policy['date']<=df_policy['reopen_restaurant']), 1, 0)\n",
    "\n",
    "df_policy['policy_facemask']=np.where((df_policy['date']>=df_policy['facemask']), 1, 0)\n",
    "\n",
    "df_policy['policy_gym']=np.where((df_policy['date']>=df_policy['close_gym']) \n",
    "                                 & (df_policy['date']<=df_policy['reopen_gym']), 1, 0)\n",
    "\n",
    "df_policy['policy_theater']=np.where((df_policy['date']>=df_policy['close_theater']) \n",
    "                                 & (df_policy['date']<=df_policy['reopen_theater']), 1, 0)\n",
    "\n",
    "df_policy['policy_bar']=np.where((df_policy['date']>=df_policy['close_bar']) \n",
    "                                 & (df_policy['date']<=df_policy['reopen_bar']), 1, 0)\n"
   ]
  },
  {
   "cell_type": "code",
   "execution_count": 17,
   "metadata": {},
   "outputs": [],
   "source": [
    "df_policy['date'] = pd.to_datetime(df_policy['date'])\n",
    "df_policy = df_policy[['fips','date','policy_home','policy_school','policy_business','policy_restaurant','policy_facemask','policy_gym','policy_theater','policy_bar']]"
   ]
  }
 ],
 "metadata": {
  "kernelspec": {
   "display_name": "Python 3",
   "language": "python",
   "name": "python3"
  },
  "language_info": {
   "codemirror_mode": {
    "name": "ipython",
    "version": 3
   },
   "file_extension": ".py",
   "mimetype": "text/x-python",
   "name": "python",
   "nbconvert_exporter": "python",
   "pygments_lexer": "ipython3",
   "version": "3.7.8"
  }
 },
 "nbformat": 4,
 "nbformat_minor": 4
}
