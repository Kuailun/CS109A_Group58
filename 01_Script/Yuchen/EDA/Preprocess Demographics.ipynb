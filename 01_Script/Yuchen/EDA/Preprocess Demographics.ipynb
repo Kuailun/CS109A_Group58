{
 "cells": [
  {
   "cell_type": "code",
   "execution_count": 1,
   "metadata": {},
   "outputs": [],
   "source": [
    "import pandas as pd\n",
    "import numpy as np\n",
    "from matplotlib import pyplot as plt\n",
    "from tqdm import tqdm\n",
    "import seaborn as sns\n",
    "from sklearn.model_selection import train_test_split\n",
    "\n",
    "from sklearn.preprocessing import PolynomialFeatures\n",
    "\n",
    "from sklearn.linear_model import LinearRegression\n",
    "from sklearn.linear_model import LogisticRegression\n",
    "from sklearn.linear_model import Lasso\n",
    "\n",
    "from sklearn.tree import DecisionTreeRegressor\n",
    "from sklearn.ensemble import AdaBoostRegressor\n",
    "\n",
    "from sklearn.neural_network import MLPRegressor\n",
    "\n",
    "from sklearn.metrics import mean_squared_error\n",
    "from sklearn.metrics import r2_score\n",
    "import statsmodels.api as sm\n",
    "import xlrd"
   ]
  },
  {
   "cell_type": "code",
   "execution_count": 7,
   "metadata": {},
   "outputs": [],
   "source": [
    "# Read files\n",
    "df_sd = pd.read_csv(\"../../../02_Data//02_SociaDemographics/us_final.csv\",index_col=0)\n",
    "df_sd = df_sd.reset_index()"
   ]
  },
  {
   "cell_type": "code",
   "execution_count": 29,
   "metadata": {},
   "outputs": [],
   "source": [
    "# Process files\n",
    "df_sd = df_sd[df_sd['state']!=\"Puerto Rico\"]\n",
    "df_sd = df_sd.dropna(subset=['democrat',\"Crime_ARSON\"])"
   ]
  },
  {
   "cell_type": "code",
   "execution_count": 30,
   "metadata": {},
   "outputs": [
    {
     "name": "stdout",
     "output_type": "stream",
     "text": [
      "<class 'pandas.core.frame.DataFrame'>\n",
      "Int64Index: 3113 entries, 0 to 3141\n",
      "Data columns (total 58 columns):\n",
      " #   Column                  Non-Null Count  Dtype  \n",
      "---  ------                  --------------  -----  \n",
      " 0   index                   3113 non-null   int64  \n",
      " 1   fips                    3113 non-null   int64  \n",
      " 2   county                  3113 non-null   object \n",
      " 3   state                   3113 non-null   object \n",
      " 4   state_code              3112 non-null   object \n",
      " 5   median_age_2017         3113 non-null   float64\n",
      " 6   population_2017         3113 non-null   int64  \n",
      " 7   female_percentage_2017  3113 non-null   float64\n",
      " 8   lat                     3113 non-null   float64\n",
      " 9   long                    3113 non-null   float64\n",
      " 10  Race_Hispanic           3113 non-null   float64\n",
      " 11  Race_White              3113 non-null   float64\n",
      " 12  Race_Black              3113 non-null   float64\n",
      " 13  Race_Native             3113 non-null   float64\n",
      " 14  Race_Asian              3113 non-null   float64\n",
      " 15  Race_Pacific            3113 non-null   float64\n",
      " 16  VotingAgeCitizen        3113 non-null   int64  \n",
      " 17  Income                  3113 non-null   int64  \n",
      " 18  IncomeErr               3113 non-null   int64  \n",
      " 19  IncomePerCap            3113 non-null   int64  \n",
      " 20  IncomePerCapErr         3113 non-null   int64  \n",
      " 21  Poverty                 3113 non-null   float64\n",
      " 22  ChildPoverty            3113 non-null   float64\n",
      " 23  WorkType_Professional   3113 non-null   float64\n",
      " 24  WorkType_Service        3113 non-null   float64\n",
      " 25  WorkType_Office         3113 non-null   float64\n",
      " 26  WorkType_Construction   3113 non-null   float64\n",
      " 27  WorkType_Production     3113 non-null   float64\n",
      " 28  Transp_Drive            3113 non-null   float64\n",
      " 29  Transp_Carpool          3113 non-null   float64\n",
      " 30  Transp_Transit          3113 non-null   float64\n",
      " 31  Transp_Walk             3113 non-null   float64\n",
      " 32  Transp_OtherTransp      3113 non-null   float64\n",
      " 33  Transp_WorkAtHome       3113 non-null   float64\n",
      " 34  MeanCommute             3113 non-null   float64\n",
      " 35  Employed                3113 non-null   int64  \n",
      " 36  Work_PrivateWork        3113 non-null   float64\n",
      " 37  Work_PublicWork         3113 non-null   float64\n",
      " 38  Work_SelfEmployed       3113 non-null   float64\n",
      " 39  Work_FamilyWork         3113 non-null   float64\n",
      " 40  Work_Unemployment       3113 non-null   float64\n",
      " 41  crime_rate_per_100000   3113 non-null   float64\n",
      " 42  IDNO                    3113 non-null   float64\n",
      " 43  Crime_CPOPARST          3113 non-null   float64\n",
      " 44  Crime_CPOPCRIM          3113 non-null   float64\n",
      " 45  Crime_AG_ARRST          3113 non-null   float64\n",
      " 46  Crime_AG_OFF            3113 non-null   float64\n",
      " 47  Crime_COVIND            3113 non-null   float64\n",
      " 48  Crime_MODINDX           3113 non-null   float64\n",
      " 49  Crime_MURDER            3113 non-null   float64\n",
      " 50  Crime_RAPE              3113 non-null   float64\n",
      " 51  Crime_ROBBERY           3113 non-null   float64\n",
      " 52  Crime_AGASSLT           3113 non-null   float64\n",
      " 53  Crime_BURGLRY           3113 non-null   float64\n",
      " 54  Crime_LARCENY           3113 non-null   float64\n",
      " 55  Crime_MVTHEFT           3113 non-null   float64\n",
      " 56  Crime_ARSON             3113 non-null   float64\n",
      " 57  democrat                3113 non-null   float64\n",
      "dtypes: float64(46), int64(9), object(3)\n",
      "memory usage: 1.4+ MB\n",
      "None\n"
     ]
    }
   ],
   "source": [
    "# Confirm files\n",
    "print(df_sd.info())"
   ]
  }
 ],
 "metadata": {
  "kernelspec": {
   "display_name": "Python 3",
   "language": "python",
   "name": "python3"
  },
  "language_info": {
   "codemirror_mode": {
    "name": "ipython",
    "version": 3
   },
   "file_extension": ".py",
   "mimetype": "text/x-python",
   "name": "python",
   "nbconvert_exporter": "python",
   "pygments_lexer": "ipython3",
   "version": "3.7.8"
  }
 },
 "nbformat": 4,
 "nbformat_minor": 4
}
