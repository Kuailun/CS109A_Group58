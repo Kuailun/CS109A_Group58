{
 "cells": [
  {
   "cell_type": "code",
   "execution_count": 2,
   "metadata": {},
   "outputs": [],
   "source": [
    "import pandas as pd\n",
    "import numpy as np\n",
    "from matplotlib import pyplot as plt\n",
    "from tqdm import tqdm\n",
    "import seaborn as sns\n",
    "from sklearn.model_selection import train_test_split\n",
    "\n",
    "from sklearn.preprocessing import PolynomialFeatures\n",
    "\n",
    "from sklearn.linear_model import LinearRegression\n",
    "from sklearn.linear_model import LogisticRegression\n",
    "from sklearn.linear_model import Lasso\n",
    "\n",
    "from sklearn.tree import DecisionTreeRegressor\n",
    "from sklearn.ensemble import AdaBoostRegressor\n",
    "\n",
    "from sklearn.neural_network import MLPRegressor\n",
    "\n",
    "from sklearn.metrics import mean_squared_error\n",
    "from sklearn.metrics import r2_score\n",
    "import statsmodels.api as sm\n",
    "import xlrd"
   ]
  },
  {
   "cell_type": "code",
   "execution_count": 3,
   "metadata": {},
   "outputs": [],
   "source": [
    "df_case = pd.read_csv(\"../../../02_Data//01_COVID/covid_us_county.csv\")\n",
    "df_case.dropna(inplace=True)\n",
    "df_case = df_case[['fips','lat','long','date','cases','deaths']]\n",
    "df_case['fips'] = df_case.fips.astype(int)"
   ]
  },
  {
   "cell_type": "code",
   "execution_count": 4,
   "metadata": {},
   "outputs": [],
   "source": [
    "def Seven_Day_Moving_Average(df,minimum_case=5):\n",
    "    df_c = df.copy()\n",
    "    fips = list(set(df_c['fips']))\n",
    "    \n",
    "    mData = []\n",
    "    for fip in tqdm(fips):\n",
    "        df = df_c[df_c['fips']==fip]\n",
    "        df = df[df['cases']>=minimum_case]\n",
    "        df = df.reset_index(drop=True)\n",
    "        df = df.reset_index()\n",
    "        \n",
    "        df = df.to_dict('records')\n",
    "        # 7 day moving average\n",
    "        for i in range(len(df)-6):\n",
    "            mdf = df[i:i+7]\n",
    "            mdf_case = [m['cases'] for m in mdf]\n",
    "            mdf_death = [m['deaths'] for m in mdf]\n",
    "            df[i+3]['cases_7'] = np.sum(mdf_case)/7\n",
    "            df[i+3]['deaths_7'] = np.sum(mdf_death)/7\n",
    "            df[i+3]['day_index'] = df[i+3]['index']\n",
    "            mData.append(df[i+3])\n",
    "    \n",
    "    # Log growth rate\n",
    "    for i in range(len(mData)-1):\n",
    "        mData[i+1]['delta_case'] = np.log(mData[i+1]['cases_7']) - np.log(mData[i]['cases_7'])\n",
    "        pass\n",
    "    del mData[0]\n",
    "    return pd.DataFrame(mData)\n",
    "    "
   ]
  },
  {
   "cell_type": "code",
   "execution_count": 5,
   "metadata": {},
   "outputs": [
    {
     "name": "stderr",
     "output_type": "stream",
     "text": [
      "100%|█████████████████████████████████████████████████████████████████████████████| 3241/3241 [00:24<00:00, 133.25it/s]\n"
     ]
    }
   ],
   "source": [
    "df_case_delta = Seven_Day_Moving_Average(df_case)"
   ]
  },
  {
   "cell_type": "code",
   "execution_count": 8,
   "metadata": {},
   "outputs": [
    {
     "name": "stdout",
     "output_type": "stream",
     "text": [
      "        index   fips        lat        long       date  cases  deaths  \\\n",
      "0           4  41001  44.709156 -117.674988 2020-07-08      8       0   \n",
      "1           5  41001  44.709156 -117.674988 2020-07-09      8       0   \n",
      "2           6  41001  44.709156 -117.674988 2020-07-10      9       0   \n",
      "3           7  41001  44.709156 -117.674988 2020-07-11     11       0   \n",
      "4           8  41001  44.709156 -117.674988 2020-07-12     12       0   \n",
      "...       ...    ...        ...         ...        ...    ...     ...   \n",
      "577041    178  39069  41.333964  -84.068306 2020-10-23    488      17   \n",
      "577042    179  39069  41.333964  -84.068306 2020-10-24    498      17   \n",
      "577043    180  39069  41.333964  -84.068306 2020-10-25    503      17   \n",
      "577044    181  39069  41.333964  -84.068306 2020-10-26    531      17   \n",
      "577045    182  39069  41.333964  -84.068306 2020-10-27    535      17   \n",
      "\n",
      "           cases_7  deaths_7  day_index  delta_case  month  \n",
      "0         7.285714       0.0          4    0.125163      7  \n",
      "1         8.285714       0.0          5    0.128617      7  \n",
      "2         9.285714       0.0          6    0.113944      7  \n",
      "3        10.285714       0.0          7    0.102279      7  \n",
      "4        11.000000       0.0          8    0.067139      7  \n",
      "...            ...       ...        ...         ...    ...  \n",
      "577041  486.714286      17.0        178    0.024362     10  \n",
      "577042  498.428571      17.0        179    0.023783     10  \n",
      "577043  509.428571      17.0        180    0.021829     10  \n",
      "577044  520.857143      17.0        181    0.022186     10  \n",
      "577045  531.571429      17.0        182    0.020362     10  \n",
      "\n",
      "[577046 rows x 12 columns]\n"
     ]
    }
   ],
   "source": [
    "df_case_delta['date'] = pd.to_datetime(df_case_delta['date'])\n",
    "df_case_delta['month'] = df_case_delta['date'].dt.month\n",
    "print(df_case_delta)"
   ]
  }
 ],
 "metadata": {
  "kernelspec": {
   "display_name": "Python 3",
   "language": "python",
   "name": "python3"
  },
  "language_info": {
   "codemirror_mode": {
    "name": "ipython",
    "version": 3
   },
   "file_extension": ".py",
   "mimetype": "text/x-python",
   "name": "python",
   "nbconvert_exporter": "python",
   "pygments_lexer": "ipython3",
   "version": "3.7.8"
  }
 },
 "nbformat": 4,
 "nbformat_minor": 4
}
